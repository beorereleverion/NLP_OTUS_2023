{
 "cells": [
  {
   "cell_type": "code",
   "execution_count": 38,
   "metadata": {},
   "outputs": [],
   "source": [
    "import pandas as pd\n",
    "import matplotlib.pyplot as plt\n",
    "import nltk \n",
    "import re\n",
    "from tqdm import tqdm\n",
    "import pymorphy2\n",
    "from sklearn.metrics import *\n",
    "from sklearn.model_selection import train_test_split\n",
    "from sklearn.feature_extraction.text import TfidfVectorizer\n",
    "from sklearn.ensemble import RandomForestClassifier\n",
    "from sklearn.metrics import accuracy_score\n",
    "from sklearn.metrics import f1_score\n",
    "from sklearn.model_selection import GridSearchCV\n",
    "import gensim.downloader as api\n",
    "import numpy as np\n",
    "\n"
   ]
  },
  {
   "cell_type": "code",
   "execution_count": 39,
   "metadata": {},
   "outputs": [],
   "source": [
    "#Грузим data_set, проверяем на аномалии. Я взял dataset https://www.kaggle.com/datasets/luthfim/steam-reviews-dataset , так как в первой домашке я отзывы не выкачивал, я конечно выкачал рейтинг, но к сожалению я делал по нему сортировку и там был от положительных. А для домашки я решил что было бы все равно не плохо русский датасет=)\n",
    "raw_df=pd.read_csv(\"steam_reviews.csv\")"
   ]
  },
  {
   "cell_type": "code",
   "execution_count": 40,
   "metadata": {},
   "outputs": [
    {
     "data": {
      "text/html": [
       "<div>\n",
       "<style scoped>\n",
       "    .dataframe tbody tr th:only-of-type {\n",
       "        vertical-align: middle;\n",
       "    }\n",
       "\n",
       "    .dataframe tbody tr th {\n",
       "        vertical-align: top;\n",
       "    }\n",
       "\n",
       "    .dataframe thead th {\n",
       "        text-align: right;\n",
       "    }\n",
       "</style>\n",
       "<table border=\"1\" class=\"dataframe\">\n",
       "  <thead>\n",
       "    <tr style=\"text-align: right;\">\n",
       "      <th></th>\n",
       "      <th>date_posted</th>\n",
       "      <th>funny</th>\n",
       "      <th>helpful</th>\n",
       "      <th>hour_played</th>\n",
       "      <th>is_early_access_review</th>\n",
       "      <th>recommendation</th>\n",
       "      <th>review</th>\n",
       "      <th>title</th>\n",
       "    </tr>\n",
       "  </thead>\n",
       "  <tbody>\n",
       "    <tr>\n",
       "      <th>0</th>\n",
       "      <td>2019-02-10</td>\n",
       "      <td>2</td>\n",
       "      <td>4</td>\n",
       "      <td>578</td>\n",
       "      <td>False</td>\n",
       "      <td>Recommended</td>\n",
       "      <td>&amp;gt Played as German Reich&amp;gt Declare war on B...</td>\n",
       "      <td>Expansion - Hearts of Iron IV: Man the Guns</td>\n",
       "    </tr>\n",
       "    <tr>\n",
       "      <th>1</th>\n",
       "      <td>2019-02-10</td>\n",
       "      <td>0</td>\n",
       "      <td>0</td>\n",
       "      <td>184</td>\n",
       "      <td>False</td>\n",
       "      <td>Recommended</td>\n",
       "      <td>yes.</td>\n",
       "      <td>Expansion - Hearts of Iron IV: Man the Guns</td>\n",
       "    </tr>\n",
       "    <tr>\n",
       "      <th>2</th>\n",
       "      <td>2019-02-07</td>\n",
       "      <td>0</td>\n",
       "      <td>0</td>\n",
       "      <td>892</td>\n",
       "      <td>False</td>\n",
       "      <td>Recommended</td>\n",
       "      <td>Very good game although a bit overpriced in my...</td>\n",
       "      <td>Expansion - Hearts of Iron IV: Man the Guns</td>\n",
       "    </tr>\n",
       "    <tr>\n",
       "      <th>3</th>\n",
       "      <td>2018-06-14</td>\n",
       "      <td>126</td>\n",
       "      <td>1086</td>\n",
       "      <td>676</td>\n",
       "      <td>False</td>\n",
       "      <td>Recommended</td>\n",
       "      <td>Out of all the reviews I wrote This one is pro...</td>\n",
       "      <td>Dead by Daylight</td>\n",
       "    </tr>\n",
       "    <tr>\n",
       "      <th>4</th>\n",
       "      <td>2017-06-20</td>\n",
       "      <td>85</td>\n",
       "      <td>2139</td>\n",
       "      <td>612</td>\n",
       "      <td>False</td>\n",
       "      <td>Recommended</td>\n",
       "      <td>Disclaimer I survivor main. I play games for f...</td>\n",
       "      <td>Dead by Daylight</td>\n",
       "    </tr>\n",
       "  </tbody>\n",
       "</table>\n",
       "</div>"
      ],
      "text/plain": [
       "  date_posted  funny  helpful  hour_played  is_early_access_review  \\\n",
       "0  2019-02-10      2        4          578                   False   \n",
       "1  2019-02-10      0        0          184                   False   \n",
       "2  2019-02-07      0        0          892                   False   \n",
       "3  2018-06-14    126     1086          676                   False   \n",
       "4  2017-06-20     85     2139          612                   False   \n",
       "\n",
       "  recommendation                                             review  \\\n",
       "0    Recommended  &gt Played as German Reich&gt Declare war on B...   \n",
       "1    Recommended                                               yes.   \n",
       "2    Recommended  Very good game although a bit overpriced in my...   \n",
       "3    Recommended  Out of all the reviews I wrote This one is pro...   \n",
       "4    Recommended  Disclaimer I survivor main. I play games for f...   \n",
       "\n",
       "                                         title  \n",
       "0  Expansion - Hearts of Iron IV: Man the Guns  \n",
       "1  Expansion - Hearts of Iron IV: Man the Guns  \n",
       "2  Expansion - Hearts of Iron IV: Man the Guns  \n",
       "3                             Dead by Daylight  \n",
       "4                             Dead by Daylight  "
      ]
     },
     "execution_count": 40,
     "metadata": {},
     "output_type": "execute_result"
    }
   ],
   "source": [
    "raw_df.head()"
   ]
  },
  {
   "cell_type": "code",
   "execution_count": 41,
   "metadata": {},
   "outputs": [
    {
     "name": "stdout",
     "output_type": "stream",
     "text": [
      "<class 'pandas.core.frame.DataFrame'>\n",
      "RangeIndex: 434891 entries, 0 to 434890\n",
      "Data columns (total 8 columns):\n",
      " #   Column                  Non-Null Count   Dtype \n",
      "---  ------                  --------------   ----- \n",
      " 0   date_posted             434891 non-null  object\n",
      " 1   funny                   434891 non-null  int64 \n",
      " 2   helpful                 434891 non-null  int64 \n",
      " 3   hour_played             434891 non-null  int64 \n",
      " 4   is_early_access_review  434891 non-null  bool  \n",
      " 5   recommendation          434891 non-null  object\n",
      " 6   review                  433375 non-null  object\n",
      " 7   title                   434891 non-null  object\n",
      "dtypes: bool(1), int64(3), object(4)\n",
      "memory usage: 23.6+ MB\n"
     ]
    },
    {
     "data": {
      "text/plain": [
       "(None, (434891, 8))"
      ]
     },
     "execution_count": 41,
     "metadata": {},
     "output_type": "execute_result"
    }
   ],
   "source": [
    "raw_df.info(),raw_df.shape"
   ]
  },
  {
   "cell_type": "code",
   "execution_count": 42,
   "metadata": {},
   "outputs": [
    {
     "name": "stdout",
     "output_type": "stream",
     "text": [
      "<class 'pandas.core.frame.DataFrame'>\n",
      "RangeIndex: 379911 entries, 0 to 379910\n",
      "Data columns (total 8 columns):\n",
      " #   Column                  Non-Null Count   Dtype \n",
      "---  ------                  --------------   ----- \n",
      " 0   date_posted             379911 non-null  object\n",
      " 1   funny                   379911 non-null  int64 \n",
      " 2   helpful                 379911 non-null  int64 \n",
      " 3   hour_played             379911 non-null  int64 \n",
      " 4   is_early_access_review  379911 non-null  bool  \n",
      " 5   recommendation          379911 non-null  object\n",
      " 6   review                  379911 non-null  object\n",
      " 7   title                   379911 non-null  object\n",
      "dtypes: bool(1), int64(3), object(4)\n",
      "memory usage: 20.7+ MB\n"
     ]
    },
    {
     "data": {
      "text/plain": [
       "(None, (379911, 8))"
      ]
     },
     "execution_count": 42,
     "metadata": {},
     "output_type": "execute_result"
    }
   ],
   "source": [
    "# Данных куча, дропнем все наны и дубликаты\n",
    "raw_df.drop_duplicates(subset='review', keep='first', inplace=True)\n",
    "raw_df.dropna(subset=['review'], inplace=True)\n",
    "raw_df.reset_index(drop=True, inplace=True)\n",
    "raw_df.info(),raw_df.shape"
   ]
  },
  {
   "cell_type": "code",
   "execution_count": 43,
   "metadata": {},
   "outputs": [
    {
     "name": "stdout",
     "output_type": "stream",
     "text": [
      "Самая короткая review - 1\n",
      "+\n",
      "Самая длинная review - 31949\n",
      "Battlegrounds&gt &gt &gt &gt &gt &gt &gt &gt &gt &gt &gt &gt &gt &gt &gt &gt &gt &gt &gt &gt &gt &gt &gt &gt &gt &gt &gt &gt &gt &gt &gt &gt &gt &gt &gt &gt &gt &gt &gt &gt &gt &gt &gt &gt &gt &gt &gt &gt &gt &gt &gt &gt &gt &gt &gt &gt &gt &gt &gt &gt &gt &gt &gt &gt &gt &gt &gt &gt &gt &gt &gt &gt &gt &gt &gt &gt &gt &gt &gt &gt &gt &gt &gt &gt &gt &gt &gt &gt &gt &gt &gt &gt &gt &gt &gt &gt &gt &gt &gt &gt &gt &gt &gt &gt &gt &gt &gt &gt &gt &gt &gt &gt &gt &gt &gt &gt &gt &gt &gt &gt &gt &gt &gt &gt &gt &gt &gt &gt &gt &gt &gt &gt &gt &gt &gt &gt &gt &gt &gt &gt &gt &gt &gt &gt &gt &gt &gt &gt &gt &gt &gt &gt &gt &gt &gt &gt &gt &gt &gt &gt &gt &gt &gt &gt &gt &gt &gt &gt &gt &gt &gt &gt &gt &gt &gt &gt &gt &gt &gt &gt &gt &gt &gt &gt &gt &gt &gt &gt &gt &gt &gt &gt &gt &gt &gt &gt &gt &gt &gt &gt &gt &gt &gt &gt &gt &gt &gt &gt &gt &gt &gt &gt &gt &gt &gt &gt &gt &gt &gt &gt &gt &gt &gt &gt &gt &gt &gt &gt &gt &gt &gt &gt &gt &gt &gt &gt &gt &gt &gt &gt &gt &gt &gt &gt &gt &gt &gt &gt &gt &gt &gt &gt &gt &gt &gt &gt &gt &gt &gt &gt &gt &gt &gt &gt &gt &gt &gt &gt &gt &gt &gt &gt &gt &gt &gt &gt &gt &gt &gt &gt &gt &gt &gt &gt &gt &gt &gt &gt &gt &gt &gt &gt &gt &gt &gt &gt &gt &gt &gt &gt &gt &gt &gt &gt &gt &gt &gt &gt &gt &gt &gt &gt &gt &gt &gt &gt &gt &gt &gt &gt &gt &gt &gt &gt &gt &gt &gt &gt &gt &gt &gt &gt &gt &gt &gt &gt &gt &gt &gt &gt &gt &gt &gt &gt &gt &gt &gt &gt &gt &gt &gt &gt &gt &gt &gt &gt &gt &gt &gt &gt &gt &gt &gt &gt &gt &gt &gt &gt &gt &gt &gt &gt &gt &gt &gt &gt &gt &gt &gt &gt &gt &gt &gt &gt &gt &gt &gt &gt &gt &gt &gt &gt &gt &gt &gt &gt &gt &gt &gt &gt &gt &gt &gt &gt &gt &gt &gt &gt &gt &gt &gt &gt &gt &gt &gt &gt &gt &gt &gt &gt &gt &gt &gt &gt &gt &gt &gt &gt &gt &gt &gt &gt &gt &gt &gt &gt &gt &gt &gt &gt &gt &gt &gt &gt &gt &gt &gt &gt &gt &gt &gt &gt &gt &gt &gt &gt &gt &gt &gt &gt &gt &gt &gt &gt &gt &gt &gt &gt &gt &gt &gt &gt &gt &gt &gt &gt &gt &gt &gt &gt &gt &gt &gt &gt &gt &gt &gt &gt &gt &gt &gt &gt &gt &gt &gt &gt &gt &gt &gt &gt &gt &gt &gt &gt &gt &gt &gt &gt &gt &gt &gt &gt &gt &gt &gt &gt &gt &gt &gt &gt &gt &gt &gt &gt &gt &gt &gt &gt &gt &gt &gt &gt &gt &gt &gt &gt &gt &gt &gt &gt &gt &gt &gt &gt &gt &gt &gt &gt &gt &gt &gt &gt &gt &gt &gt &gt &gt &gt &gt &gt &gt &gt &gt &gt &gt &gt &gt &gt &gt &gt &gt &gt &gt &gt &gt &gt &gt &gt &gt &gt &gt &gt &gt &gt &gt &gt &gt &gt &gt &gt &gt &gt &gt &gt &gt &gt &gt &gt &gt &gt &gt &gt &gt &gt &gt &gt &gt &gt &gt &gt &gt &gt &gt &gt &gt &gt &gt &gt &gt &gt &gt &gt &gt &gt &gt &gt &gt &gt &gt &gt &gt &gt &gt &gt &gt &gt &gt &gt &gt &gt &gt &gt &gt &gt &gt &gt &gt &gt &gt &gt &gt &gt &gt &gt &gt &gt &gt &gt &gt &gt &gt &gt &gt &gt &gt &gt &gt &gt &gt &gt &gt &gt &gt &gt &gt &gt &gt &gt &gt &gt &gt &gt &gt &gt &gt &gt &gt &gt &gt &gt &gt &gt &gt &gt &gt &gt &gt &gt &gt &gt &gt &gt &gt &gt &gt &gt &gt &gt &gt &gt &gt &gt &gt &gt &gt &gt &gt &gt &gt &gt &gt &gt &gt &gt &gt &gt &gt &gt &gt &gt &gt &gt &gt &gt &gt &gt &gt &gt &gt &gt &gt &gt &gt &gt &gt &gt &gt &gt &gt &gt &gt &gt &gt &gt &gt &gt &gt &gt &gt &gt &gt &gt &gt &gt &gt &gt &gt &gt &gt &gt &gt &gt &gt &gt &gt &gt &gt &gt &gt &gt &gt &gt &gt &gt &gt &gt &gt &gt &gt &gt &gt &gt &gt &gt &gt &gt &gt &gt &gt &gt &gt &gt &gt &gt &gt &gt &gt &gt &gt &gt &gt &gt &gt &gt &gt &gt &gt &gt &gt &gt &gt &gt &gt &gt &gt &gt &gt &gt &gt &gt &gt &gt &gt &gt &gt &gt &gt &gt &gt &gt &gt &gt &gt &gt &gt &gt &gt &gt &gt &gt &gt &gt &gt &gt &gt &gt &gt &gt &gt &gt &gt &gt &gt &gt &gt &gt &gt &gt &gt &gt &gt &gt &gt &gt &gt &gt &gt &gt &gt &gt &gt &gt &gt &gt &gt &gt &gt &gt &gt &gt &gt &gt &gt &gt &gt &gt &gt &gt &gt &gt &gt &gt &gt &gt &gt &gt &gt &gt &gt &gt &gt &gt &gt &gt &gt &gt &gt &gt &gt &gt &gt &gt &gt &gt &gt &gt &gt &gt &gt &gt &gt &gt &gt &gt &gt &gt &gt &gt &gt &gt &gt &gt &gt &gt &gt &gt &gt &gt &gt &gt &gt &gt &gt &gt &gt &gt &gt &gt &gt &gt &gt &gt &gt &gt &gt &gt &gt &gt &gt &gt &gt &gt &gt &gt &gt &gt &gt &gt &gt &gt &gt &gt &gt &gt &gt &gt &gt &gt &gt &gt &gt &gt &gt &gt &gt &gt &gt &gt &gt &gt &gt &gt &gt &gt &gt &gt &gt &gt &gt &gt &gt &gt &gt &gt &gt &gt &gt &gt &gt &gt &gt &gt &gt &gt &gt &gt &gt &gt &gt &gt &gt &gt &gt &gt &gt &gt &gt &gt &gt &gt &gt &gt &gt &gt &gt &gt &gt &gt &gt &gt &gt &gt &gt &gt &gt &gt &gt &gt &gt &gt &gt &gt &gt &gt &gt &gt &gt &gt &gt &gt &gt &gt &gt &gt &gt &gt &gt &gt &gt &gt &gt &gt &gt &gt &gt &gt &gt &gt &gt &gt &gt &gt &gt &gt &gt &gt &gt &gt &gt &gt &gt &gt &gt &gt &gt &gt &gt &gt &gt &gt &gt &gt &gt &gt &gt &gt &gt &gt &gt &gt &gt &gt &gt &gt &gt &gt &gt &gt &gt &gt &gt &gt &gt &gt &gt &gt &gt &gt &gt &gt &gt &gt &gt &gt &gt &gt &gt &gt &gt &gt &gt &gt &gt &gt &gt &gt &gt &gt &gt &gt &gt &gt &gt &gt &gt &gt &gt &gt &gt &gt &gt &gt &gt &gt &gt &gt &gt &gt &gt &gt &gt &gt &gt &gt &gt &gt &gt &gt &gt &gt &gt &gt &gt &gt &gt &gt &gt &gt &gt &gt &gt &gt &gt &gt &gt &gt &gt &gt &gt &gt &gt &gt &gt &gt &gt &gt &gt &gt &gt &gt &gt &gt &gt &gt &gt &gt &gt &gt &gt &gt &gt &gt &gt &gt &gt &gt &gt &gt &gt &gt &gt &gt &gt &gt &gt &gt &gt &gt &gt &gt &gt &gt &gt &gt &gt &gt &gt &gt &gt &gt &gt &gt &gt &gt &gt &gt &gt &gt &gt &gt &gt &gt &gt &gt &gt &gt &gt &gt &gt &gt &gt &gt &gt &gt &gt &gt &gt &gt &gt &gt &gt &gt &gt &gt &gt &gt &gt &gt &gt &gt &gt &gt &gt &gt &gt &gt &gt &gt &gt &gt &gt &gt &gt &gt &gt &gt &gt &gt &gt &gt &gt &gt &gt &gt &gt &gt &gt &gt &gt &gt &gt &gt &gt &gt &gt &gt &gt &gt &gt &gt &gt &gt &gt &gt &gt &gt &gt &gt &gt &gt &gt &gt &gt &gt &gt &gt &gt &gt &gt &gt &gt &gt &gt &gt &gt &gt &gt &gt &gt &gt &gt &gt &gt &gt &gt &gt &gt &gt &gt &gt &gt &gt &gt &gt &gt &gt &gt &gt &gt &gt &gt &gt &gt &gt &gt &gt &gt &gt &gt &gt &gt &gt &gt &gt &gt &gt &gt &gt &gt &gt &gt &gt &gt &gt &gt &gt &gt &gt &gt &gt &gt &gt &gt &gt &gt &gt &gt &gt &gt &gt &gt &gt &gt &gt &gt &gt &gt &gt &gt &gt &gt &gt &gt &gt &gt &gt &gt &gt &gt &gt &gt &gt &gt &gt &gt &gt &gt &gt &gt &gt &gt &gt &gt &gt &gt &gt &gt &gt &gt &gt &gt &gt &gt &gt &gt &gt &gt &gt &gt &gt &gt &gt &gt &gt &gt &gt &gt &gt &gt &gt &gt &gt &gt &gt &gt &gt &gt &gt &gt &gt &gt &gt &gt &gt &gt &gt &gt &gt &gt &gt &gt &gt &gt &gt &gt &gt &gt &gt &gt &gt &gt &gt &gt &gt &gt &gt &gt &gt &gt &gt &gt &gt &gt &gt &gt &gt &gt &gt &gt &gt &gt &gt &gt &gt &gt &gt &gt &gt &gt &gt &gt &gt &gt &gt &gt &gt &gt &gt &gt &gt &gt &gt &gt &gt &gt &gt &gt &gt &gt &gt &gt &gt &gt &gt &gt &gt &gt &gt &gt &gt &gt &gt &gt &gt &gt &gt &gt &gt &gt &gt &gt &gt &gt &gt &gt &gt &gt &gt &gt &gt &gt &gt &gt &gt &gt &gt &gt &gt &gt &gt &gt &gt &gt &gt &gt &gt &gt &gt &gt &gt &gt &gt &gt &gt &gt &gt &gt &gt &gt &gt &gt &gt &gt &gt &gt &gt &gt &gt &gt &gt &gt &gt &gt &gt &gt &gt &gt &gt &gt &gt &gt &gt &gt &gt &gt &gt &gt &gt &gt &gt &gt &gt &gt &gt &gt &gt &gt &gt &gt &gt &gt &gt &gt &gt &gt &gt &gt &gt &gt &gt &gt &gt &gt &gt &gt &gt &gt &gt &gt &gt &gt &gt &gt &gt &gt &gt &gt &gt &gt &gt &gt &gt &gt &gt &gt &gt &gt &gt &gt &gt &gt &gt &gt &gt &gt &gt &gt &gt &gt &gt &gt &gt &gt &gt &gt &gt &gt &gt &gt &gt &gt &gt &gt &gt &gt &gt &gt &gt &gt &gt &gt &gt &gt &gt &gt &gt &gt &gt &gt &gt &gt &gt &gt &gt &gt &gt &gt &gt &gt &gt &gt &gt &gt &gt &gt &gt &gt &gt &gt &gt &gt &gt &gt &gt &gt &gt &gt &gt &gt &gt &gt &gt &gt &gt &gt &gt &gt &gt &gt &gt &gt &gt &gt &gt &gt &gt &gt &gt &gt &gt &gt &gt &gt &gt &gt &gt &gt &gt &gt &gt &gt &gt &gt &gt &gt &gt &gt &gt &gt &gt &gt &gt &gt &gt &gt &gt &gt &gt &gt &gt &gt &gt &gt &gt &gt &gt &gt &gt &gt &gt &gt &gt &gt &gt &gt &gt &gt &gt &gt &gt &gt &gt &gt &gt &gt &gt &gt &gt &gt &gt &gt &gt &gt &gt &gt &gt &gt &gt &gt &gt &gt &gt &gt &gt &gt &gt &gt &gt &gt &gt &gt &gt &gt &gt &gt &gt &gt &gt &gt &gt &gt &gt &gt &gt &gt &gt &gt &gt &gt &gt &gt &gt &gt &gt &gt &gt &gt &gt &gt &gt &gt &gt &gt &gt &gt &gt &gt &gt &gt &gt &gt &gt &gt &gt &gt &gt &gt &gt &gt &gt &gt &gt &gt &gt &gt &gt &gt &gt &gt &gt &gt &gt &gt &gt &gt &gt &gt &gt &gt &gt &gt &gt &gt &gt &gt &gt &gt &gt &gt &gt &gt &gt &gt &gt &gt &gt &gt &gt &gt &gt &gt &gt &gt &gt &gt &gt &gt &gt &gt &gt &gt &gt &gt &gt &gt &gt &gt &gt &gt &gt &gt &gt &gt &gt &gt &gt &gt &gt &gt &gt &gt &gt &gt &gt &gt &gt &gt &gt &gt &gt &gt &gt &gt &gt &gt &gt &gt &gt &gt &gt &gt &gt &gt &gt &gt &gt &gt &gt &gt &gt &gt &gt &gt &gt &gt &gt &gt &gt &gt &gt &gt &gt &gt &gt &gt &gt &gt &gt &gt &gt &gt &gt &gt &gt &gt &gt &gt &gt &gt &gt &gt &gt &gt &gt &gt &gt &gt &gt &gt &gt &gt &gt &gt &gt &gt &gt &gt &gt &gt &gt &gt &gt &gt &gt &gt &gt &gt &gt &gt &gt &gt &gt &gt &gt &gt &gt &gt &gt &gt &gt &gt &gt &gt &gt &gt &gt &gt &gt &gt &gt &gt &gt &gt &gt &gt &gt &gt &gt &gt &gt &gt &gt &gt &gt &gt &gt &gt &gt &gt &gt &gt &gt &gt &gt &gt &gt &gt &gt &gt &gt &gt &gt &gt &gt &gt &gt &gt &gt &gt &gt &gt &gt &gt &gt &gt &gt &gt &gt &gt &gt &gt &gt &gt &gt &gt &gt &gt &gt &gt &gt &gt &gt &gt &gt &gt &gt &gt &gt &gt &gt &gt &gt &gt &gt &gt &gt &gt &gt &gt &gt &gt &gt &gt &gt &gt &gt &gt &gt &gt &gt &gt &gt &gt &gt &gt &gt &gt &gt &gt &gt &gt &gt &gt &gt &gt &gt &gt &gt &gt &gt &gt &gt &gt &gt &gt &gt &gt &gt &gt &gt &gt &gt &gt &gt &gt &gt &gt &gt &gt &gt &gt &gt &gt &gt &gt &gt &gt &gt &gt &gt &gt &gt &gt &gt &gt &gt &gt &gt &gt &gt &gt &gt &gt &gt &gt &gt &gt &gt &gt &gt &gt &gt &gt &gt &gt &gt &gt &gt &gt &gt &gt &gt &gt &gt &gt &gt &gt &gt &gt &gt &gt &gt &gt &gt &gt &gt &gt &gt &gt &gt &gt &gt &gt &gt &gt &gt &gt &gt &gt &gt &gt &gt &gt &gt &gt &gt &gt &gt &gt &gt &gt &gt &gt &gt &gt &gt &gt &gt &gt &gt &gt &gt &gt &gt &gt &gt &gt &gt &gt &gt &gt &gt &gt &gt &gt &gt &gt &gt &gt &gt &gt &gt &gt &gt &gt &gt &gt &gt &gt &gt &gt &gt &gt &gt &gt &gt &gt &gt &gt &gt &gt &gt &gt &gt &gt &gt &gt &gt &gt &gt &gt &gt &gt &gt &gt &gt &gt &gt &gt &gt &gt &gt &gt &gt &gt &gt &gt &gt &gt &gt &gt &gt &gt &gt &gt &gt &gt &gt &gt &gt &gt &gt &gt &gt &gt &gt &gt &gt &gt &gt &gt &gt &gt &gt &gt &gt &gt &gt &gt &gt &gt &gt &gt &gt &gt &gt &gt &gt &gt &gt &gt &gt &gt &gt &gt &gt &gt &gt &gt &gt &gt &gt &gt &gt &gt &gt &gt &gt &gt &gt &gt &gt &gt &gt &gt &gt &gt &gt &gt &gt &gt &gt &gt &gt &gt &gt &gt &gt &gt &gt &gt &gt &gt &gt &gt &gt &gt &gt &gt &gt &gt &gt &gt &gt &gt &gt &gt &gt &gt &gt &gt &gt &gt &gt &gt &gt &gt &gt &gt &gt &gt &gt &gt &gt &gt &gt &gt &gt &gt &gt &gt &gt &gt &gt &gt &gt &gt &gt &gt &gt &gt &gt &gt &gt &gt &gt &gt &gt &gt &gt &gt &gt &gt &gt &gt &gt &gt &gt &gt &gt &gt &gt &gt &gt &gt &gt &gt &gt &gt &gt &gt &gt &gt &gt &gt &gt &gt &gt &gt &gt &gt &gt &gt &gt &gt &gt &gt &gt &gt &gt &gt &gt &gt &gt &gt &gt &gt &gt &gt &gt &gt &gt &gt &gt &gt &gt &gt &gt &gt &gt &gt &gt &gt &gt &gt &gt &gt &gt &gt &gt &gt &gt &gt &gt &gt &gt &gt &gt &gt &gt &gt &gt &gt &gt &gt &gt &gt &gt &gt &gt &gt &gt &gt &gt &gt &gt &gt &gt &gt &gt &gt &gt &gt &gt &gt &gt &gt &gt &gt &gt &gt &gt &gt &gt &gt &gt &gt &gt &gt &gt &gt &gt &gt &gt &gt &gt &gt &gt &gt &gt &gt &gt &gt &gt &gt &gt &gt &gt &gt &gt &gt &gt &gt &gt &gt &gt &gt &gt &gt &gt &gt &gt &gt &gt &gt &gt &gt &gt &gt &gt &gt &gt &gt &gt &gt &gt &gt &gt &gt &gt &gt &gt &gt &gt &gt &gt &gt &gt &gt &gt &gt &gt &gt &gt &gt &gt &gt &gt &gt &gt &gt &gt &gt &gt &gt &gt &gt &gt &gt &gt &gt &gt &gt &gt &gt &gt &gt &gt &gt &gt &gt &gt &gt &gt &gt &gt &gt &gt &gt &gt &gt &gt &gt &gt &gt &gt &gt &gt &gt &gt &gt &gt &gt &gt &gt &gt &gt &gt &gt &gt &gt &gt &gt &gt &gt &gt &gt &gt &gt &gt &gt &gt &gt &gt &gt &gt &gt &gt &gt &gt &gt &gt &gt &gt &gt &gt &gt &gt &gt &gt &gt &gt &gt &gt &gt &gt &gt &gt &gt &gt &gt &gt &gt &gt &gt &gt &gt &gt &gt &gt &gt &gt &gt &gt &gt &gt &gt &gt &gt &gt &gt &gt &gt &gt &gt &gt &gt &gt &gt &gt &gt &gt &gt &gt &gt &gt &gt &gt &gt &gt &gt &gt &gt &gt &gt &gt &gt &gt &gt &gt &gt &gt &gt &gt &gt &gt &gt &gt &gt &gt &gt &gt &gt &gt &gt &gt &gt &gt &gt &gt &gt &gt &gt &gt &gt &gt &gt &gt &gt &gt &gt &gt &gt &gt &gt &gt &gt &gt &gt &gt &gt &gt &gt &gt &gt &gt &gt &gt &gt &gt &gt &gt &gt &gt &gt &gt &gt &gt &gt &gt &gt &gt &gt &gt &gt &gt &gt &gt &gt &gt &gt &gt &gt &gt &gt &gt &gt &gt &gt &gt &gt &gt &gt &gt &gt &gt &gt &gt &gt &gt &gt &gt &gt &gt &gt &gt &gt &gt &gt &gt &gt &gt &gt &gt &gt &gt &gt &gt &gt &gt &gt &gt &gt &gt &gt &gt &gt &gt &gt &gt &gt &gt &gt &gt &gt &gt &gt &gt &gt &gt &gt &gt &gt &gt &gt &gt &gt &gt &gt &gt &gt &gt &gt &gt &gt &gt &gt &gt &gt &gt &gt &gt &gt &gt &gt &gt &gt &gt &gt &gt &gt &gt &gt &gt &gt &gt &gt &gt &gt &gt &gt &gt &gt &gt &gt &gt &gt &gt &gt &gt &gt &gt &gt &gt &gt &gt &gt &gt &gt &gt &gt &gt &gt &gt &gt &gt &gt &gt &gt &gt &gt &gt &gt &gt &gt &gt &gt &gt &gt &gt &gt &gt &gt &gt &gt &gt &gt &gt &gt &gt &gt &gt &gt &gt &gt &gt &gt &gt &gt &gt &gt &gt &gt &gt &gt &gt &gt &gt &gt &gt &gt &gt &gt &gt &gt &gt &gt &gt &gt &gt &gt &gt &gt &gt &gt &gt &gt &gt &gt &gt &gt &gt &gt &gt &gt &gt &gt &gt &gt &gt &gt &gt &gt &gt &gt &gt &gt &gt &gt &gt &gt &gt &gt &gt &gt &gt &gt &gt &gt &gt &gt &gt &gt &gt &gt &gt &gt &gt &gt &gt &gt &gt &gt &gt &gt &gt &gt &gt &gt &gt &gt &gt &gt &gt &gt &gt &gt &gt &gt &gt &gt &gt &gt &gt &gt &gt &gt &gt &gt &gt &gt &gt &gt &gt &gt &gt &gt &gt &gt &gt &gt &gt &gt &gt &gt &gt &gt &gt &gt &gt &gt &gt &gt &gt &gt &gt &gt &gt &gt &gt &gt &gt &gt &gt &gt &gt &gt &gt &gt &gt &gt &gt &gt &gt &gt &gt &gt &gt &gt &gt &gt &gt &gt &gt &gt &gt &gt &gt &gt &gt &gt &gt &gt &gt &gt &gt &gt &gt &gt &gt &gt &gt &gt &gt &gt &gt &gt &gt &gt &gt &gt &gt &gt &gt &gt &gt &gt &gt &gt &gt &gt &gt &gt &gt &gt &gt &gt &gt &gt &gt &gt &gt &gt &gt &gt &gt &gt &gt &gt &gt &gt &gt &gt &gt &gt &gt &gt &gt &gt &gt &gt &gt &gt &gt &gt &gt &gt &gt &gt &gt &gt &gt &gt &gt &gt &gt &gt &gt &gt &gt &gt &gt &gt &gt &gt &gt &gt &gt &gt &gt &gt &gt &gt &gt &gt &gt &gt &gt &gt &gt &gt &gt &gt &gt &gt &gt &gt &gt &gt &gt &gt &gt &gt &gt &gt &gt &gt &gt &gt &gt &gt &gt &gt &gt &gt &gt &gt &gt &gt &gt &gt &gt &gt &gt &gt &gt &gt &gt &gt &gt &gt &gt &gt &gt &gt &gt &gt &gt &gt &gt &gt &gt &gt &gt &gt &gt &gt &gt &gt &gt &gt &gt &gt &gt &gt &gt &gt &gt &gt &gt &gt &gt &gt &gt &gt &gt &gt &gt &gt &gt &gt &gt &gt &gt &gt &gt &gt &gt &gt &gt &gt &gt &gt &gt &gt &gt &gt &gt &gt &gt &gt &gt &gt &gt &gt &gt &gt &gt &gt &gt &gt &gt &gt &gt &gt &gt &gt &gt &gt &gt &gt &gt &gt &gt &gt &gt &gt &gt &gt &gt &gt &gt &gt &gt &gt &gt &gt &gt &gt &gt &gt &gt &gt &gt &gt &gt &gt &gt &gt &gt &gt &gt &gt &gt &gt &gt &gt &gt &gt &gt &gt &gt &gt &gt &gt &gt &gt &gt &gt &gt &gt &gt &gt &gt &gt &gt &gt &gt &gt &gt &gt &gt &gt &gt &gt &gt &gt &gt &gt &gt &gt &gt &gt &gt &gt &gt &gt &gt &gt &gt &gt &gt &gt &gt &gt &gt &gt &gt &gt &gt &gt &gt &gt &gt &gt &gt &gt &gt &gt &gt &gt &gt &gt &gt &gt &gt &gt &gt &gt &gt &gt &gt &gt &gt &gt &gt &gt &gt &gt &gt &gt &gt &gt &gt &gt &gt &gt &gt &gt &gt &gt &gt &gt &gt &gt &gt &gt &gt &gt &gt &gt &gt &gt &gt &gt &gt &gt &gt &gt &gt &gt &gt &gt &gt &gt &gt &gt &gt &gt &gt &gt &gt &gt &gt &gt &gt &gt &gt &gt &gt &gt &gt &gt &gt &gt &gt &gt &gt &gt &gt &gt &gt &gt &gt &gt &gt &gt &gt &gt &gt &gt &gt &gt &gt &gt &gt &gt &gt &gt &gt &gt &gt &gt &gt &gt &gt &gt &gt &gt &gt &gt &gt &gt &gt &gt &gt &gt &gt &gt &gt &gt &gt &gt &gt &gt &gt &gt &gt &gt &gt &gt &gt &gt &gt &gt &gt &gt &gt &gt &gt &gt &gt &gt &gt &gt &gt &gt &gt &gt &gt &gt &gt &gt &gt &gt &gt &gt &gt &gt &gt &gt &gt &gt &gt &gt &gt &gt &gt &gt &gt &gt &gt &gt &gt &gt &gt &gt &gt &gt &gt &gt &gt &gt &gt &gt &gt &gt &gt &gt &gt &gt &gt &gt &gt &gt &gt &gt &gt &gt &gt &gt &gt &gt &gt &gt &gt &gt &gt &gt &gt &gt &gt &gt &gt &gt &gt &gt &gt &gt &gt &gt &gt &gt &gt &gt &gt &gt &gt &gt &gt &gt &gt &gt &gt &gt &gt &gt &gt &gt &gt &gt &gt &gt &gt &gt &gt &gt &gt &gt &gt &gt &gt &gt &gt &gt &gt &gt &gt &gt &gt &gt &gt &gt &gt &gt &gt &gt &gt &gt &gt &gt &gt &gt &gt &gt &gt &gt &gt &gt &gt &gt &gt &gt &gt &gt &gt &gt &gt &gt &gt &gt &gt &gt &gt &gt &gt &gt &gt &gt &gt &gt &gt &gt &gt &gt &gt &gt &gt &gt &gt &gt &gt &gt &gt &gt &gt &gt &gt &gt &gt &gt &gt &gt &gt &gt &gt &gt &gt &gt &gt &gt &gt &gt &gt &gt &gt &gt &gt &gt &gt &gt &gt &gt &gt &gt &gt &gt &gt &gt &gt &gt &gt &gt &gt &gt &gt &gt &gt &gt &gt &gt &gt &gt &gt &gt &gt &gt &gt &gt &gt &gt &gt &gt &gt &gt &gt &gt &gt &gt &gt &gt &gt &gt &gt &gt &gt &gt &gt &gt &gt &gt &gt &gt &gt &gt &gt &gt &gt &gt &gt &gt &gt &gt &gt &gt &gt &gt &gt &gt &gt &gt &gt &gt &gt &gt &gt &gt &gt &gt &gt &gt &gt &gt &gt &gt &gt &gt &gt &gt &gt &gt &gt &gt &gt &gt &gt &gt &gt &gt &gt &gt &gt &gt &gt &gt &gt &gt &gt &gt &gt &gt &gt &gt &gt &gt &gt &gt &gt &gt &gt &gt &gt &gt &gt &gt &gt &gt &gt &gt &gt &gt &gt &gt &gt &gt &gt &gt &gt &gt &gt &gt &gt &gt &gt &gt &gt &gt &gt &gt &gt &gt &gt &gt &gt &gt &gt &gt &gt &gt &gt &gt &gt &gt &gt &gt &gt &gt &gt &gt &gt &gt &gt &gt &gt &gt &gt &gt &gt &gt &gt &gt &gt &gt &gt &gt &gt &gt &gt &gt &gt &gt &gt &gt &gt &gt &gt &gt &gt &gt &gt &gt &gt &gt &gt &gt &gt &gt &gt &gt &gt &gt &gt &gt &gt &gt &gt &gt &gt &gt &gt &gt &gt &gt &gt &gt &gt &gt &gt &gt &gt &gt &gt &gt &gt &gt &gt &gt &gt &gt &gt &gt &gt &gt &gt &gt &gt &gt &gt &gt &gt &gt &gt &gt &gt &gt &gt &gt &gt &gt &gt &gt &gt &gt &gt &gt &gt &gt &gt &gt &gt &gt &gt &gt &gt &gt &gt &gt &gt &gt &gt &gt &gt &gt &gt &gt &gt &gt &gt &gt &gt &gt &gt &gt &gt &gt &gt &gt &gt &gt &gt &gt &gt &gt &gt &gt &gt &gt &gt &gt &gt &gt &gt &gt &gt &gt &gt &gt &gt &gt &gt &gt &gt &gt &gt &gt &gt &gt &gt &gt &gt &gt &gt &gt &gt &gt &gt &gt &gt &gt &gt &gt &gt &gt &gt &gt &gt &gt &gt &gt &gt &gt &gt &gt &gt &gt &gt &gt &gt &gt &gt &gt &gt &gt &gt &gt &gt &gt &gt &gt &gt &gt &gt &gt &gt &gt &gt &gt &gt &gt &gt &gt &gt &gt &gt &gt &gt &gt &gt &gt &gt &gt &gt &gt &gt &gt &gt &gt &gt &gt &gt &gt &gt &gt &gt &gt &gt &gt &gt &gt &gt &gt &gt &gt &gt &gt &gt &gt &gt &gt &gt &gt &gt &gt &gt &gt &gt &gt &gt &gt &gt &gt &gt &gt &gt &gt &gt &gt &gt &gt &gt &gt &gt &gt &gt &gt &gt &gt &gt &gt &gt &gt &gt &gt &gt &gt &gt &gt &gt &gt &gt &gt &gt &gt &gt &gt &gt &gt &gt &gt &gt &gt &gt &gt &gt &gt &gt &gt &gt &gt &gt &gt &gt &gt &gt &gt &gt &gt &gt &gt &gt &gt &gt &gt &gt &gt &gt &gt &gt &gt &gt &gt &gt &gt &gt &gt &gt &gt &gt &gt &gt &gt &gt &gt &gt &gt &gt &gt &gt &gt &gt &gt &gt &gt &gt &gt &gt &gt &gt &gt &gt &gt &gt &gt &gt &gt &gt &gt &gt &gt &gt &gt &gt &gt &gt &gt &gt &gt &gt &gt &gt &gt &gt &gt &gt &gt &gt &gt &gt &gt &gt &gt &gt &gt &gt &gt &gt &gt &gt &gt &gt &gt &gt &gt &gt &gt &gt &gt &gt &gt &gt &gt &gt &gt &gt &gt &gt &gt &gt &gt &gt &gt &gt &gt &gt &gt &gt &gt &gt &gt &gt &gt &gt &gt &gt &gt &gt &gt &gt &gt &gt &gt &gt &gt &gt &gt &gt &gt &gt &gt &gt &gt &gt &gt &gt &gt &gt &gt &gt &gt &gt &gt &gt &gt &gt &gt &gt &gt &gt &gt &gt &gt &gt &gt &gt &gt &gt &gt &gt &gt &gt &gt &gt &gt &gt &gt &gt &gt &gt &gt &gt &gt &gt &gt &gt &gt &gt &gt &gt &gt &gt &gt &gt &gt &gt &gt &gt &gt &gt &gt &gt &gt &gt &gt &gt &gt &gt &gt &gt &gt &gt &gt &gt &gt &gt &gt &gt &gt &gt &gt &gt &gt &gt &gt &gt &gt &gt &gt &gt &gt &gt &gt &gt &gt &gt &gt &gt &gt &gt &gt &gt &gt &gt &gt &gt &gt &gt &gt &gt &gt &gt &gt &gt &gt &gt &gt &gt &gt &gt &gt &gt &gt &gt &gt &gt &gt &gt &gt &gt &gt &gt &gt &gt &gt &gt &gt &gt &gt &gt &gt &gt &gt &gt &gt &gt &gt &gt &gt &gt &gt &gt &gt &gt &gt &gt &gt &gt &gt &gt &gt &gt &gt &gt &gt &gt &gt &gt &gt &gt &gt &gt &gt &gt &gt &gt &gt &gt &gt &gt &gt &gt &gt &gt &gt &gt &gt &gt &gt &gt &gt &gt &gt &gt &gt &gt &gt &gt &gt &gt &gt &gt &gt &gt &gt &gt &gt &gt &gt &gt &gt &gt &gt &gt &gt &gt &gt &gt &gt &gt &gt &gt &gt &gt &gt &gt &gt &gt &gt &gt &gt &gt &gt &gt &gt &gt &gt &gt &gt &gt &gt &gt &gt &gt &gt &gt &gt &gt &gt &gt &gt &gt &gt &gt &gt &gt &gt &gt &gt &gt &gt &gt &gt &gt &gt &gt &gt &gt &gt &gt &gt &gt &gt &gt &gt &gt &gt &gt &gt &gt &gt &gt &gt &gt &gt &gt &gt &gt &gt &gt &gt &gt &gt &gt &gt &gt &gt &gt &gt &gt &gt &gt &gt &gt &gt &gt &gt &gt &gt &gt &gt &gt &gt &gt &gt &gt &gt &gt &gt &gt &gt &gt &gt &gt &gt &gt &gt &gt &gt &gt &gt &gt &gt &gt &gt &gt &gt &gt &gt &gt &gt &gt &gt &gt &gt &gt &gt &gt &gt &gt &gt &gt &gt &gt &gt &gt &gt &gt &gt &gt &gt &gt &gt &gt &gt &gt &gt &gt &gt &gt &gt &gt &gt &gt &gt &gt &gt &gt &gt &gt &gt &gt &gt &gt &gt &gt &gt &gt &gt &gt &gt &gt &gt &gt &gt &gt &gt &gt &gt &gt &gt &gt &gt &gt &gt &gt &gt &gt &gt &gt &gt &gt &gt &gt &gt &gt &gt &gt &gt &gt &gt &gt &gt &gt &gt &gt &gt &gt &gt &gt &gt &gt &gt &gt &gt &gt &gt &gt &gt &gt &gt &gt &gt &gt &gt &gt &gt &gt &gt &gt &gt &gt &gt &gt &gt &gt &gt &gt &gt &gt &gt &gt &gt &gt &gt &gt &gt &gt &gt &gt &gt &gt &gt &gt &gt &gt &gt &gt &gt &gt &gt &gt &gt &gt &gt &gt &gt &gt &gt &gt &gt &gt &gt &gt &gt &gt &gt &gt &gt &gt &gt &gt &gt &gt &gt &gt &gt &gt &gt &gt &gt &gt &gt &gt &gt &gt &gt &gt &gt &gt &gt &gt &gt &gt &gt &gt &gt &gt &gt &gt &gt &gt &gt &gt &gt &gt &gt &gt &gt &gt &gt &gt &gt &gt &gt &gt &gt &gt &gt &gt &gt &gt &gt &gt &gt &gt &gt &gt &gt &gt &gt &gt &gt &gt &gt &gt &gt &gt &gt &gt &gt &gt &gt &gt &gt &gt &gt &gt &gt &gt &gt &gt &gt &gt &gt &gt &gt &gt &gt &gt &gt &gt &gt &gt &gt &gt &gt &gt &gt &gt &gt &gt &gt &gt &gt &gt &gt &gt &gt &gt &gt &gt &gt &gt &gt &gt &gt &gt &gt &gt &gt &gt &gt &gt &gt &gt &gt &gt &gt &gt &gt &gt &gt &gt &gt &gt &gt &gt &gt &gt &gt &gt &gt &gt &gt &gt &gt &gt &gt &gt &gt &gt &gt &gt &gt &gt &gt &gt &gt &gt &gt &gt &gt &gt &gt &gt &gt &gt &gt &gt &gt &gt &gt &gt &gt &gt &gt &gt &gt &gt &gt &gt &gt &gt &gt &gt &gt &gt &gt &gt &gt &gt &gt &gt &gt &gt &gt &gt &gt &gt &gt &gt &gt &gt &gt &gt &gt &gt &gt &gt &gt &gt &gt &gt &gt &gt &gt &gt &gt &gt &gt &gt &gt &gt &gt &gt &gt &gt &gt &gt &gt &gt &gt &gt &gt &gt &gt &gt &gt &gt &gt &gt &gt &gt &gt &gt &gt &gt &gt &gt &gt &gt &gt &gt &gt &gt &gt &gt &gt &gt &gt &gt &gt &gt &gt &gt &gt &gt &gt &gt &gt &gt &gt &gt &gt &gt &gt &gt &gt &gt &gt &gt &gt &gt &gt &gt &gt &gt &gt &gt &gt &gt &gt &gt &gt &gt &gt &gt &gt &gt &gt &gt &gt &gt &gt &gt &gt &gt &gt &gt &gt &gt &gt &gt &gt &gt &gt &gt &gt &gt &gt &gt &gt &gt &gt &gt &gt &gt &gt &gt &gt &gt &gt &gt &gt &gt &gt &gt &gt &gt &gt &gt &gt &gt &gt &gt &gt &gt &gt &gt &gt &gt &gt &gt &gt &gt &gt &gt &gt &gt &gt &gt &gt &gt &gt &gt &gt &gt &gt &gt &gt &gt &gt &gt &gt &gt &gt &gt &gt &gt &gt &gt &gt &gt &gt &gt &gt &gt &gt &gt &gt &gt &gt &gt &gt &gt &gt &gt &gt &gt &gt &gt &gt &gt &gt &gt &gt &gt &gt &gt &gt &gt &gt &gt &gt &gt &gt &gt &gt &gt &gt &gt &gt &gt &gt &gt &gt &gt &gt &gt &gt &gt &gt &gt &gt &gt &gt &gt &gt &gt &gt &gt &gt &gt &gt &gt &gt &gt &gt &gt &gt &gt &gt &gt &gt &gt &gt &gt &gt &gt &gt &gt &gt &gt &gt &gt &gt &gt &gt &gt &gt &gt &gt &gt &gt &gt &gt &gt &gt &gt &gt &gt &gt &gt &gt &gt &gt &gt &gt &gt &gt &gt &gt &gt &gt &gt &gt &gt &gt &gt &gt &gt &gt &gt &gt &gt &gt &gt &gt &gt &gt &gt &gt &gt &gt &gt &gt &gt &gt &gt &gt &gt &gt &gt &gt &gt &gt &gt &gt &gt &gt &gt &gt &gt &gt &gt &gt &gt &gt &gt &gt &gt &gt &gt &gt &gt &gt &gt &gt &gt &gt &gt &gt &gt &gt &gt &gt &gt &gt &gt &gt &gt &gt &gt &gt &gt &gt &gt &gt &gt &gt &gt &gt &gt &gt &gt &gt &gt &gt &gt &gt &gt &gt &gt &gt &gt &gt &gt &gt &gt &gt &gt &gt &gt &gt &gt &gt &gt &gt &gt &gt &gt &gt &gt &gt &gt &gt &gt &gt &gt &gt &gt &gt &gt &gt &gt &gt &gt &gt &gt &gt &gt &gt &gt &gt &gt &gt &gt &gt &gt &gt &gt &gt &gt &gt &gt &gt &gt &gt &gt &gt &gt &gt &gt &gt &gt &gt &gt &gt &gt &gt &gt &gt &gt &gt &gt &gt &gt &gt &gt &gt &gt &gt &gt &gt &gt &gt &gt &gt &gt &gt &gt &gt &gt &gt &gt &gt &gt &gt &gt &gt &gt &gt &gt &gt &gt &gt &gt &gt &gt &gt &gt &gt &gt &gt &gt &gt &gt &gt &gt &gt &gt &gt &gt &gt &gt &gt &gt &gt &gt &gt &gt &gt &gt &gt &gt &gt &gt &gt &gt &gt &gt &gt &gt &gt &gt &gt &gt &gt &gt &gt &gt &gt &gt &gt &gt &gt &gt &gt &gt &gt &gt &gt &gt &gt &gt &gt &gt &gt &gt &gt &gt &gt &gt &gt &gt &gt &gt &gt &gt &gt &gt &gt &gt &gt &gt &gt &gt &gt &gt &gt &gt &gt &gt &gt &gt &gt &gt &gt &gt &gt &gt &gt &gt &gt &gt &gt &gt &gt &gt &gt &gt &gt &gt &gt &gt &gt &gt &gt &gt &gt &gt &gt &gt &gt &gt &gt &gt &gt &gt &gt &gt &gt &gt &gt &gt &gt &gt &gt &gt &gt &gt &gt &gt &gt &gt &gt &gt &gt &gt &gt &gt &gt &gt &gt &gt &gt &gt &gt &gt &gt &gt &gt &gt &gt &gt &gt &gt &gt &gt &gt &gt &gt &gt &gt &gt &gt &gt &gt &gt &gt &gt &gt &gt &gt &gt &gt &gt &gt &gt &gt &gt &gt &gt &gt &gt &gt &gt &gt &gt &gt &gt &gt &gt &gt &gt &gt &gt &gt &gt &gt &gt &gt &gt &gt &gt &gt &gt &gt &gt &gt &gt &gt &gt &gt &gt &gt &gt &gt &gt &gt &gt &gt &gt &gt &gt &gt &gt &gt &gt &gt &gt &gt &gt &gt &gt &gt &gt &gt &gt &gt &gt &gt &gt &gt &gt &gt &gt &gt &gt &gt &gt &gt &gt &gt &gt &gt &gt &gt &gt &gt &gt &gt &gt &gt &gt &gt &gt &gt &gt &gt &gt &gt &gt &gt &gt &gt &gt &gt &gt &gt &gt &gt &gt &gt &gt &gt &gt &gt &gt &gt &gt &gt &gt &gt &gt &gt &gt &gt &gt &gt &gt &gt &gt &gt &gt &gt &gt &gt &gt &gt &gt &gt &gt &gt &gt &gt &gt &gt &gt &gt &gt &gt &gt &gt &gt &gt &gt &gt &gt &gt &gt &gt &gt &gt &gt &gt &gt &gt &gt &gt &gt &gt &gt &gt &gt &gt &gt &gt &gt &gt &gt &gt &gt &gt &gt &gt &gt &gt &gt &gt &gt &gt &gt &gt &gt &gt &gt &gt &gt &gt &gt &gt &gt &gt &gt &gt &gt &gt &gt &gt &gt &gt &gt &gt &gt &gt &gt &gt &gt &gt &gt &gt &gt &gt &gt &gt &gt &gt &gt &gt &gt &gt &gt &gt &gt &gt &gt &gt &gt &gt &gt &gt &gt &gt &gt &gt &gt &gt &gt &gt &gt &gt &gt &gt &gt &gt &gt &gt &gt &gt &gt &gt &gt &gt &gt &gt &gt &gt &gt &gt &gt &gt &gt &gt &gt &gt &gt &gt &gt &gt &gt &gt &gt &gt &gt &gt &gt &gt &gt &gt &gt &gt &gt &gt &gt &gt &gt &gt &gt &gt &gt &gt &gt &gt &gt &gt &gt &gt &gt &gt &gt &gt &gt &gt &gt &gt &gt &gt &gt &gt &gt &gt &gt &gt &gt &gt &gt &gt &gt &gt &gt &gt &gt &gt &gt &gt &gt &gt &gt &gt &gt &gt &gt &gt &gt &gt &gt &gt &gt &gt &gt &gt &gt &gt &gt &gt &gt &gt &gt &gt &gt &gt &gt &gt &gt &gt &gt &gt &gt &gt &gt &gt &gt &gt &gt &gt &gt &gt &gt &gt &gt &gt &gt &gt &gt &gt &gt &gt &gt &gt &gt &gt &gt &gt &gt &gt &gt &gt &gt &gt &gt &gt &gt &gt &gt &gt &gt &gt &gt &gt &gt &gt &gt &gt &gt &gt &gt &gt &gt &gt &gt &gt &gt &gt &gt &gt &gt &gt &gt &gt &gt &gt &gt &gt &gt &gt &gt &gt &gt &gt &gt &gt &gt &gt &gt &gt &gt &gt &gt &gt &gt &gt &gt &gt &gt &gt &gt &gt &gt &gt &gt &gt &gt &gt &gt &gt &gt &gt &gt &gt &gt &gt &gt &gt &gt &gt &gt &gt &gt &gt &gt &gt &gt &gt &gt &gt &gt &gt &gt &gt &gt &gt &gt &gt &gt &gt &gt &gt &gt &gt &gt &gt &gt &gt &gt &gt &gt &gt &gt &gt &gt &gt &gt &gt &gt &gt &gt &gt &gt &gt &gt &gt &gt &gt &gt &gt &gt &gt &gt &gt &gt &gt &gt &gt &gt &gt &gt &gt &gt &gt &gt &gt &gt &gt &gt &gt &gt &gt &gt &gt &gt &gt &gt &gt &gt &gt &gt &gt &gt &gt &gt &gt &gt &gt &gt &gt &gt &gt &gt &gt &gt &gt &gt &gt &gt &gt &gt &gt &gt &gt &gt &gt &gt &gt &gt &gt &gt &gt &gt &gt &gt &gt &gt &gt &gt &gt &gt &gt &gt &gt &gt &gt &gt &gt &gt &gt &gt &gt &gt &gt &gt &gt &gt &gt &gt &gt &gt &gt &gt &gt &gt &gt &gt &gt &gt &gt &gt &gt &gt &gt &gt &gt &gt &gt &gt &gt &gt &gt &gt &gt &gt &gt &gt &gt &gt &gt &gt &gt &gt &gt &gt &gt &gt &gt &gt &gt &gt &gt &gt &gt &gt &gt &gt &gt &gt &gt &gt &gt &gt &gt &gt &gt &gt &gt &gt &gt &gt &gt &gt &gt &gt &gt &gt &gt &gt &gt &gt &gt &gt &gt &gt &gt &gt &gt &gt &gt &gt &gt &gt &gt &gt &gt &gt &gt &gt &gt &gt &gt &gt &gt &gt &gt &gt &gt &gt &gt &gt &gt &gt &gt &gt &gt &gt &gt &gt &gt &gt &gt &gt &gt &gt &gt &gt &gt &gt &gt &gt &gt &gt &gt &gt &gt &gt &gt &gt &gt &gt &gt &gt &gt &gt &gt &gt &gt &gt &gt &gt &gt &gt &gt &gt &gt &gt &gt &gt &gt &gt &gt &gt &gt &gt &gt &gt &gt &gt &gt &gt &gt &gt &gt &gt &gt &gt &gt &gt &gt &gt &gt &gt &gt &gt &gt &gt &gt &gt &gt &gt &gt &gt &gt &gt &gt &gt &gt &gt &gt &gt &gt &gt &gt &gt &gt &gt &gt &gt &gt &gt &gt &gt &gt &gt &gt &gt &gt &gt &gt &gt &gt &gt &gt &gt &gt &gt &gt &gt &gt &gt &gt &gt &gt &gt &gt &gt &gt &gt &gt &gt &gt &gt &gt &gt &gt &gt &gt &gt &gt &gt &gt &gt &gt &gt &gt &gt &gt &gt &gt &gt &gt &gt &gt &gt &gt &gt &gt &gt &gt &gt &gt &gt &gt &gt &gt &gt &gt &gt &gt &gt &gt &gt &gt &gt &gt &gt &gt &gt &gt &gt &gt &gt &gt &gt &gt &gt &gt &gt &gt &gt &gt &gt &gt &gt &gt &gt &gt &gt &gt &gt &gt &gt &gt &gt &gt &gt &gt &gt &gt &gt &gt &gt &gt &gt &gt &gt &gt &gt &gt &gt &gt &gt &gt &gt &gt &gt &gt &gt &gt &gt &gt &gt &gt &gt &gt &gt &gt &gt &gt &gt &gt &gt &gt &gt &gt &gt &gt &gt &gt &gt &gt &gt &gt &gt &gt &gt &gt &gt &gt &gt &gt &gt &gt &gt &gt &gt &gt &gt &gt &gt &gt &gt &gt &gt &gt &gt &gt &gt &gt &gt &gt &gt &gt &gt &gt &gt &gt &gt &gt &gt &gt &gt &gt &gt &gt &gt &gt &gt &gt &gt &gt &gt &gt &gt &gt &gt &gt &gt &gt &gt &gt &gt &gt &gt &gt &gt &gt &gt &gt &gt &gt &gt &gt &gt &gt &gt &gt &gt &gt &gt &gt &gt &gt &gt &gt &gt &gt &gt &gt &gt &gt &gt &gt &gt &gt &gt &gt &gt &gt &gt &gt &gt &gt &gt &gt &gt &gt &gt &gt &gt &gt &gt &gt &gt &gt &gt &gt &gt &gt &gt &gt &gt &gt &gt &gt &gt &gt &gt &gt &gt &gt &gt &gt &gt &gt &gt &gt &gt &gt &gt &gt &gt &gt &gt &gt &gt &gt &gt &gt &gt &gt &gt &gt &gt &gt &gt &gt &gt &gt &gt &gt &gt &gt &gt &gt &gt &gt &gt &gt &gt &gt &gt &gt &gt &gt &gt &gt &gt &gt &gt &gt &gt &gt &gt &gt &gt &gt &gt &gt &gt &gt &gt &gt &gt &gt &gt &gt &gt &gt &gt &gt &gt &gt &gt &gt &gt &gt &gt &gt &gt &gt &gt &gt &gt &gt &gt &gt &gt &gt &gt &gt &gt &gt &gt &gt &gt &gt &gt &gt &gt &gt &gt &gt &gt &gt &gt &gt &gt &gt &gt &gt &gt &gt &gt &gt &gt &gt &gt &gt &gt &gt &gt &gt &gt &gt &gt &gt &gt &gt &gt &gt &gt &gt &gt &gt &gt &gt &gt &gt &gt &gt &gt &gt &gt &gt &gt &gt &gt &gt &gt &gt &gt &gt &gt &gt &gt &gt &gt &gt &gt &gt &gt &gt &gt &gt &gt &gt &gt &gt &gt &gt &gt &gt &gt &gt &gt &gt &gt &gt &gt &gt &gt &gt &gt &gt &gt &gt &gt &gt &gt &gt &gt &gt &gt &gt &gt &gt &gt &gt &gt &gt &gt &gt &gt &gt &gt &gt &gt &gt &gt &gt &gt &gt &gt &gt &gt &gt &gt &gt &gt &gt &gt &gt &gt &gt &gt &gt &gt &gt &gt &gt &gt &gt &gt &gt &gt &gt &gt &gt &gt &gt &gt &gt &gt &gt &gt &gt &gt &gt &gt &gt &gt &gt &gt &gt &gt &gt &gt &gt &gt &gt &gt &gt &gt &gt &gt &gt &gt &gt &gt &gt &gt &gt &gt &gt &gt &gt &gt &gt &gt &gt &gt &gt &gt &gt &gt &gt &gt &gt &gt &gt &gt &gt &gt &gt &gt &gt &gt &gt &gt &gt &gt &gt &gt &gt &gt &gt &gt &gt &gt &gt &gt &gt &gt &gt &gt &gt &gt &gt &gt &gt &gt &gt &gt &gt &gt &gt &gt &gt &gt &gt &gt &gt &gt &gt &gt &gt &gt &gt &gt &gt &gt &gt &gt &gt &gt &gt &gt &gt &gt &gt &gt &gt &gt &gt &gt &gt &gt &gt &gt &gt &gt &gt &gt &gt &gt &gt &gt &gt &gt &gt &gt &gt &gt &gt &gt &gt &gt &gt &gt &gt &gt &gt &gt &gt &gt &gt &gt &gt &gt &gt &gt &gt &gt &gt &gt &gt &gt &gt &gt &gt &gt &gt &gt &gt &gt &gt &gt &gt &gt &gt &gt &gt &gt &gt &gt &gt &gt &gt &gt &gt &gt &gt &gt &gt &gt &gt &gt &gt &gt &gt &gt &gt &gt &gt &gt &gt &gt &gt &gt &gt &gt &gt &gt &gt &gt &gt &gt &gt &gt &gt &gt &gt &gt &gt &gt &gt &gt &gt &gt &gt &gt &gt &gt &gt &gt &gt &gt &gt &gt &gt &gt &gt &gt &gt &gt &gt &gt &gt &gt &gt &gt &gt &gt &gt &gt &gt &gt &gt &gt &gt &gt &gt &gt &gt &gt &gt &gt &gt &gt &gt &gt &gt &gt &gt &gt &gt &gt &gt &gt &gt &gt &gt &gt &gt &gt &gt &gt &gt &gt &gt &gt &gt &gt &gt &gt &gt &gt &gt &gt &gt &gt &gt &gt &gt &gt &gt &gt &gt &gt &gt &gt &gt &gt &gt &gt &gt &gt &gt &gt &gt &gt &gt &gt &gt &gt &gt &gt &gt &gt &gt &gt &gt &gt &gt &gt &gt &gt &gt &gt &gt &gt &gt &gt &gt &gt &gt &gt &gt &gt &gt &gt &gt &gt &gt &gt &gt &gt &gt &gt &gt &gt &gt &gt &gt &gt &gt &gt &gt &gt &gt &gt &gt &gt &gt &gt &gt &gt &gt &gt &gt &gt &gt &gt &gt &gt &gt &gt &gt &gt &gt &gt &gt &gt &gt &gt &gt &gt &gt &gt &gt &gt &gt &gt &gt &gt &gt &gt &gt &gt &gt &gt &gt &gt &gt &gt &gt &gt &gt &gt &gt &gt &gt &gt &gt &gt &gt &gt &gt &gt &gt &gt &gt &gt &gt &gt &gt &gt &gt &gt &gt &gt &gt &gt &gt &gt &gt &gt &gt &gt &gt &gt &gt &gt &gt &gt &gt &gt &gt &gt &gt &gt &gt &gt &gt &gt &gt &gt &gt &gt &gt &gt &gt &gt &gt &gt &gt &gt &gt &gt &gt &gt &gt &gt &gt &gt &gt &gt &gt &gt &gt &gt &gt &gt &gt &gt &gt &gt &gt &gt &gt &gt &gt &gt &gt &gt &gt &gt &gt &gt &gt &gt &gt &gt &gt &gt &gt &gt &gt &gt &gt &gt &gt &gt &gt &gt &gt &gt &gt &gt &gt &gt &gt &gt &gt &gt &gt &gt &gt &gt &gt &gt &gt &gt &gt &gt &gt &gt &gt &gt &gt &gt &gt &gt &gt &gt &gt &gt &gt &gt &gt &gt &gt &gt &gt &gt &gt &gt &gt &gt &gt &gt &gt &gt &gt &gt &gt &gt &gt &gt &gt &gt &gt &gt &gt &gt &gt &gt &gt &gt &gt &gt &gt &gt &gt &gt &gt &gt &gt &gt &gt &gt &gt &gt &gt &gt &gt &gt &gt &gt &gt &gt &gt &gt &gt &gt &gt &gt &gt &gt &gt &gt &gt &gt &gt &gt &gt &gt &gt &gt &gt &gt &gt &gt &gt &gt &gt &gt &gt &gt &gt &gt &gt &gt &gt &gt &gt &gt &gt &gt &gt &gt &gt &gt &gt &gt &gt &gt &gt &gt &gt &gt &gt &gt &gt &gt &gt &gt &gt &gt &gt &gt &gt &gt &gt &gt &gt &gt &gt &gt &gt &gt &gt &gt &gt &gt &gt &gt &gt &gt &gt &gt &gt &gt &gt &gt &gt &gt &gt &gt &gt &gt &gt &gt &gt &gt &gt &gt &gt &gt &gt &gt &gt &gt &gt &gt &gt &gt &gt &gt &gt &gt &gt &gt &gt &gt &gt &gt &gt &gt &gt &gt &gt &gt &gt &gt &gt &gt &gt &gt &gt &gt &gt &gt &gt &gt &gt &gt &gt &gt &gt &gt &gt &gt &gt &gt &gt H1Z1\n"
     ]
    },
    {
     "data": {
      "image/png": "[encoded data removed]",
      "text/plain": [
       "<Figure size 640x480 with 1 Axes>"
      ]
     },
     "metadata": {},
     "output_type": "display_data"
    }
   ],
   "source": [
    "#глянем самые короткие и длинные отзывы, может еще что удалим... очень короткие вряд ли интересно... Очень длинные если будут выбивыться - тоже\n",
    "shortest_review = raw_df.loc[raw_df['review'].str.len().idxmin()]['review']\n",
    "longest_review = raw_df.loc[raw_df['review'].str.len().idxmax()]['review']\n",
    "\n",
    "print(f\"Самая короткая review - {len(shortest_review)}\")\n",
    "print(shortest_review)\n",
    "print(f\"Самая длинная review - {len(longest_review)}\")\n",
    "print(longest_review)\n",
    "review_lengths = raw_df['review'].str.len()\n",
    "plt.hist(review_lengths, bins=50, color='skyblue', edgecolor='black')\n",
    "plt.title('Распределение длин отзывов')\n",
    "plt.xlabel('Длина отзыва')\n",
    "plt.ylabel('Частота')\n",
    "plt.show()"
   ]
  },
  {
   "cell_type": "code",
   "execution_count": 44,
   "metadata": {},
   "outputs": [
    {
     "name": "stdout",
     "output_type": "stream",
     "text": [
      "<class 'pandas.core.frame.DataFrame'>\n",
      "RangeIndex: 332402 entries, 0 to 332401\n",
      "Data columns (total 8 columns):\n",
      " #   Column                  Non-Null Count   Dtype \n",
      "---  ------                  --------------   ----- \n",
      " 0   date_posted             332402 non-null  object\n",
      " 1   funny                   332402 non-null  int64 \n",
      " 2   helpful                 332402 non-null  int64 \n",
      " 3   hour_played             332402 non-null  int64 \n",
      " 4   is_early_access_review  332402 non-null  bool  \n",
      " 5   recommendation          332402 non-null  object\n",
      " 6   review                  332402 non-null  object\n",
      " 7   title                   332402 non-null  object\n",
      "dtypes: bool(1), int64(3), object(4)\n",
      "memory usage: 18.1+ MB\n"
     ]
    },
    {
     "data": {
      "text/plain": [
       "(None, (332402, 8))"
      ]
     },
     "execution_count": 44,
     "metadata": {},
     "output_type": "execute_result"
    }
   ],
   "source": [
    "#походу можно снести все что больше 500 и думаю что совсем короткие отзывы тоже не показательны. В какую сторону, кто там ставит скобочку =) так что сохраним все что от 4 символов\n",
    "raw_df = raw_df[(raw_df['review'].str.len() >= 4) & (raw_df['review'].str.len() <= 500)]\n",
    "raw_df.reset_index(drop=True, inplace=True)\n",
    "raw_df.info(),raw_df.shape"
   ]
  },
  {
   "cell_type": "code",
   "execution_count": 45,
   "metadata": {},
   "outputs": [
    {
     "name": "stdout",
     "output_type": "stream",
     "text": [
      "Самая короткая review - 4\n",
      "yes.\n"
     ]
    }
   ],
   "source": [
    "#посмотрим что там в самых коротких, может надо было сильней пилить. тот же яндекс к примеру любит побольше слов в отзывах\n",
    "\n",
    "shortest_review = raw_df.loc[raw_df['review'].str.len().idxmin()]['review']\n",
    "\n",
    "print(f\"Самая короткая review - {len(shortest_review)}\")\n",
    "print(shortest_review)"
   ]
  },
  {
   "cell_type": "code",
   "execution_count": 46,
   "metadata": {},
   "outputs": [
    {
     "name": "stdout",
     "output_type": "stream",
     "text": [
      "Количество отзывов для каждой рекомендации:\n",
      "    recommendation  recommendation_Count\n",
      "0  Not Recommended                102467\n",
      "1      Recommended                229935\n"
     ]
    }
   ],
   "source": [
    "# Получим количество отзывов для каждой рекомендации\n",
    "rating_counts = raw_df.groupby('recommendation').size().reset_index(name='recommendation_Count')\n",
    "\n",
    "print(\"Количество отзывов для каждой рекомендации:\")\n",
    "print(rating_counts)"
   ]
  },
  {
   "cell_type": "code",
   "execution_count": 47,
   "metadata": {},
   "outputs": [
    {
     "name": "stdout",
     "output_type": "stream",
     "text": [
      "179\n",
      "['i', 'me', 'my', 'myself', 'we', 'our', 'ours', 'ourselves', 'you', \"you're\"]\n"
     ]
    },
    {
     "name": "stderr",
     "output_type": "stream",
     "text": [
      "[nltk_data] Downloading package stopwords to\n",
      "[nltk_data]     /home/vlamykin/nltk_data...\n",
      "[nltk_data]   Package stopwords is already up-to-date!\n"
     ]
    }
   ],
   "source": [
    "# загружаем список стоп-слов для русского\n",
    "nltk.download('stopwords')\n",
    "stop_words = nltk.corpus.stopwords.words('english')\n",
    "\n",
    "# примеры стоп-слов\n",
    "print(len(stop_words))\n",
    "print(stop_words[:10])"
   ]
  },
  {
   "cell_type": "code",
   "execution_count": 48,
   "metadata": {},
   "outputs": [],
   "source": [
    "#запишем предобработку в виде функции\n",
    "regex = re.compile(r'[А-Яа-яA-zёЁ-]+')\n",
    "\n",
    "def words_only(text, regex=regex):\n",
    "    try:\n",
    "        return \" \".join(regex.findall(text)).lower()\n",
    "    except:\n",
    "        return \"\"\n",
    "\n",
    "word_tokenizer = nltk.WordPunctTokenizer()"
   ]
  },
  {
   "cell_type": "code",
   "execution_count": 49,
   "metadata": {},
   "outputs": [],
   "source": [
    "def process_data(data):\n",
    "    texts = []\n",
    "    targets = []\n",
    "\n",
    "    for item in tqdm(data):\n",
    "\n",
    "        text_lower = words_only(item) \n",
    "        tokens     = word_tokenizer.tokenize(text_lower) \n",
    "\n",
    "        # удаляем пунктуацию и стоп-слова\n",
    "        tokens = [word for word in tokens if (word not in stop_words and not word.isnumeric())]\n",
    "\n",
    "        texts.append(tokens) \n",
    "\n",
    "    return texts"
   ]
  },
  {
   "cell_type": "code",
   "execution_count": 50,
   "metadata": {},
   "outputs": [
    {
     "name": "stderr",
     "output_type": "stream",
     "text": [
      "  0%|          | 0/332402 [00:00<?, ?it/s]"
     ]
    },
    {
     "name": "stderr",
     "output_type": "stream",
     "text": [
      "100%|██████████| 332402/332402 [00:10<00:00, 31476.06it/s]\n"
     ]
    }
   ],
   "source": [
    "# запускаем нашу предобработку\n",
    "y = raw_df[\"recommendation\"].to_list()\n",
    "texts = process_data(raw_df[\"review\"])"
   ]
  },
  {
   "cell_type": "code",
   "execution_count": 51,
   "metadata": {},
   "outputs": [
    {
     "name": "stdout",
     "output_type": "stream",
     "text": [
      "recommendation: Recommended, Tokens: ['reeeeeeeee']\n"
     ]
    }
   ],
   "source": [
    "i=10\n",
    "print(f\"recommendation: {y[i]}, Tokens: {texts[i][:5]}\")"
   ]
  },
  {
   "cell_type": "code",
   "execution_count": 52,
   "metadata": {},
   "outputs": [],
   "source": [
    "# инициализируем лемматизатор :)\n",
    "morph = pymorphy2.MorphAnalyzer()"
   ]
  },
  {
   "cell_type": "code",
   "execution_count": 53,
   "metadata": {},
   "outputs": [
    {
     "name": "stderr",
     "output_type": "stream",
     "text": [
      "100%|██████████| 332402/332402 [00:53<00:00, 6202.91it/s]\n"
     ]
    }
   ],
   "source": [
    "# применяем лемматизацию ко всем текстам\n",
    "for i in tqdm(range(len(texts))):           # tqdm создает шкалу прогресса :)\n",
    "    text_lemmatized = [morph.parse(x)[0].normal_form for x in texts[i]] # применяем лемматизацию для каждого слова в тексте\n",
    "    texts[i] = ' '.join(text_lemmatized)                # объединяем все слова в одну строку через пробел"
   ]
  },
  {
   "cell_type": "code",
   "execution_count": 54,
   "metadata": {},
   "outputs": [],
   "source": [
    "#сохраню ка я это, если вдруг перезапущусь\n",
    "with open('text_lemmatized.txt', 'w', encoding='utf-8') as file:\n",
    "    for text in texts:\n",
    "        file.write(text + '\\n')"
   ]
  },
  {
   "cell_type": "code",
   "execution_count": 55,
   "metadata": {},
   "outputs": [],
   "source": [
    "# Функция для кодирования лейблов\n",
    "def label2num(y):\n",
    "    if y == 'Recommended':\n",
    "        return 1\n",
    "    if y == 'Not Recommended':\n",
    "        return -1\n",
    "\n",
    "encoded_y = [label2num(yy) for yy in y]"
   ]
  },
  {
   "cell_type": "code",
   "execution_count": 56,
   "metadata": {},
   "outputs": [],
   "source": [
    "#Разобъем на train,test... Балл не лишний=)\n",
    "train_texts, test_texts, train_y, test_y = train_test_split(texts, encoded_y, test_size=0.2, random_state=42, stratify = y)"
   ]
  },
  {
   "cell_type": "code",
   "execution_count": 57,
   "metadata": {},
   "outputs": [
    {
     "data": {
      "text/plain": [
       "array(['access', 'actually', 'alot', 'already', 'also', 'always',\n",
       "       'amazing', 'another', 'anyone', 'around'], dtype=object)"
      ]
     },
     "execution_count": 57,
     "metadata": {},
     "output_type": "execute_result"
    }
   ],
   "source": [
    "# Fit TF-IDF on train texts, вероятно за это 2 балла дают=)\n",
    "vectorizer = TfidfVectorizer(max_features = 200, norm = None) # возмем топ 200 слов\n",
    "vectorizer.fit(train_texts)\n",
    "\n",
    "# Топ-10 слов\n",
    "vectorizer.get_feature_names_out()[:10]"
   ]
  },
  {
   "cell_type": "code",
   "execution_count": 58,
   "metadata": {},
   "outputs": [],
   "source": [
    "# Обучаем TF-IDF на train, а затем применяем к train и test за это вроде еще 2 балла, хотя по идеи бы после random forest бы=)... а потом еще и грид серч заделаем, вроде в том что сделать есть, но она без балов, но почему бы и нет=))\n",
    "train_X = vectorizer.fit_transform(train_texts)\n",
    "test_X  = vectorizer.transform(test_texts)"
   ]
  },
  {
   "cell_type": "code",
   "execution_count": 59,
   "metadata": {},
   "outputs": [
    {
     "data": {
      "text/plain": [
       "matrix([[0.        , 0.        , 0.        , 0.        , 0.        ,\n",
       "         0.        , 0.        , 0.        , 0.        , 0.        ,\n",
       "         0.        , 0.        , 0.        , 0.        , 0.        ,\n",
       "         0.        , 0.        , 0.        , 0.        , 0.        ,\n",
       "         0.        , 0.        , 0.        , 0.        , 0.        ,\n",
       "         0.        , 0.        , 0.        , 0.        , 0.        ,\n",
       "         5.4543849 , 0.        , 0.        , 0.        , 0.        ,\n",
       "         0.        , 0.        , 0.        , 0.        , 0.        ,\n",
       "         0.        , 0.        , 0.        , 0.        , 0.        ,\n",
       "         0.        , 0.        , 0.        , 0.        , 0.        ,\n",
       "         0.        , 0.        , 0.        , 0.        , 0.        ,\n",
       "         0.        , 0.        , 0.        , 0.        , 0.        ,\n",
       "         0.        , 3.16919967, 4.81522409, 0.        , 0.        ,\n",
       "         0.        , 0.        , 0.        , 0.        , 0.        ,\n",
       "         0.        , 0.        , 0.        , 6.75312349, 0.        ,\n",
       "         0.        , 0.        , 0.        , 0.        , 0.        ,\n",
       "         0.        , 0.        , 0.        , 0.        , 0.        ,\n",
       "         0.        , 0.        , 0.        , 0.        , 0.        ,\n",
       "         0.        , 0.        , 0.        , 0.        , 0.        ,\n",
       "         0.        , 0.        , 0.        , 5.53939898, 0.        ,\n",
       "         0.        , 0.        , 0.        , 0.        , 0.        ,\n",
       "         0.        , 0.        , 0.        , 0.        , 0.        ,\n",
       "         0.        , 0.        , 0.        , 0.        , 0.        ,\n",
       "         0.        , 4.4269162 , 0.        , 0.        , 0.        ,\n",
       "         0.        , 0.        , 0.        , 0.        , 0.        ,\n",
       "         0.        , 0.        , 0.        , 9.06110633, 0.        ,\n",
       "         0.        , 0.        , 0.        , 0.        , 0.        ,\n",
       "         0.        , 0.        , 0.        , 0.        , 0.        ,\n",
       "         0.        , 0.        , 0.        , 0.        , 0.        ,\n",
       "         0.        , 0.        , 0.        , 0.        , 0.        ,\n",
       "         0.        , 0.        , 0.        , 0.        , 0.        ,\n",
       "         0.        , 0.        , 0.        , 0.        , 0.        ,\n",
       "         0.        , 0.        , 0.        , 0.        , 0.        ,\n",
       "         0.        , 0.        , 0.        , 0.        , 0.        ,\n",
       "         0.        , 0.        , 0.        , 0.        , 0.        ,\n",
       "         0.        , 0.        , 0.        , 0.        , 0.        ,\n",
       "         0.        , 0.        , 0.        , 0.        , 0.        ,\n",
       "         0.        , 0.        , 0.        , 0.        , 0.        ,\n",
       "         0.        , 0.        , 0.        , 0.        , 0.        ,\n",
       "         0.        , 0.        , 0.        , 0.        , 0.        ],\n",
       "        [0.        , 0.        , 0.        , 0.        , 0.        ,\n",
       "         0.        , 0.        , 0.        , 0.        , 0.        ,\n",
       "         0.        , 0.        , 0.        , 0.        , 0.        ,\n",
       "         0.        , 0.        , 0.        , 0.        , 0.        ,\n",
       "         0.        , 0.        , 0.        , 0.        , 0.        ,\n",
       "         0.        , 0.        , 0.        , 0.        , 0.        ,\n",
       "         0.        , 0.        , 0.        , 5.68263526, 0.        ,\n",
       "         0.        , 0.        , 0.        , 0.        , 0.        ,\n",
       "         0.        , 0.        , 0.        , 0.        , 0.        ,\n",
       "         0.        , 0.        , 0.        , 0.        , 0.        ,\n",
       "         0.        , 0.        , 0.        , 0.        , 0.        ,\n",
       "         0.        , 0.        , 0.        , 0.        , 0.        ,\n",
       "         0.        , 0.        , 0.        , 0.        , 0.        ,\n",
       "         0.        , 0.        , 0.        , 0.        , 0.        ,\n",
       "         0.        , 0.        , 0.        , 0.        , 0.        ,\n",
       "         0.        , 0.        , 0.        , 0.        , 0.        ,\n",
       "         0.        , 0.        , 0.        , 0.        , 0.        ,\n",
       "         0.        , 0.        , 0.        , 0.        , 0.        ,\n",
       "         0.        , 0.        , 0.        , 0.        , 0.        ,\n",
       "         0.        , 0.        , 0.        , 0.        , 0.        ,\n",
       "         0.        , 0.        , 0.        , 0.        , 0.        ,\n",
       "         0.        , 0.        , 0.        , 0.        , 0.        ,\n",
       "         0.        , 0.        , 0.        , 0.        , 0.        ,\n",
       "         0.        , 0.        , 0.        , 0.        , 0.        ,\n",
       "         0.        , 0.        , 0.        , 0.        , 0.        ,\n",
       "         0.        , 0.        , 0.        , 0.        , 0.        ,\n",
       "         0.        , 0.        , 0.        , 0.        , 0.        ,\n",
       "         0.        , 0.        , 0.        , 0.        , 0.        ,\n",
       "         0.        , 0.        , 0.        , 0.        , 0.        ,\n",
       "         0.        , 0.        , 0.        , 0.        , 0.        ,\n",
       "         0.        , 0.        , 0.        , 0.        , 0.        ,\n",
       "         0.        , 0.        , 0.        , 0.        , 0.        ,\n",
       "         0.        , 0.        , 0.        , 0.        , 0.        ,\n",
       "         0.        , 0.        , 0.        , 0.        , 0.        ,\n",
       "         0.        , 0.        , 0.        , 0.        , 0.        ,\n",
       "         0.        , 0.        , 0.        , 0.        , 0.        ,\n",
       "         0.        , 0.        , 0.        , 0.        , 0.        ,\n",
       "         0.        , 0.        , 0.        , 0.        , 0.        ,\n",
       "         0.        , 0.        , 0.        , 0.        , 0.        ,\n",
       "         0.        , 0.        , 0.        , 0.        , 0.        ]])"
      ]
     },
     "execution_count": 59,
     "metadata": {},
     "output_type": "execute_result"
    }
   ],
   "source": [
    "train_X.todense()[:2] # посмотрим на первые 2 строки"
   ]
  },
  {
   "cell_type": "code",
   "execution_count": 60,
   "metadata": {},
   "outputs": [],
   "source": [
    "# инициализируем модель\n",
    "clf = RandomForestClassifier(n_estimators = 500, max_depth = 10)\n",
    "\n",
    "# обучаем ее на тренировочных данных, еще 2 балла подоспели=)\n",
    "clf = clf.fit(train_X, train_y)\n",
    "\n",
    "# делаем предсказание для тестовых данных\n",
    "pred = clf.predict(test_X)"
   ]
  },
  {
   "cell_type": "code",
   "execution_count": 61,
   "metadata": {},
   "outputs": [
    {
     "name": "stdout",
     "output_type": "stream",
     "text": [
      "Предсказанные рекомендации:  [1 1 1 1 1 1 1 1 1 1] .....\n",
      "Истинные рекомендации:  [-1, 1, 1, -1, -1, 1, -1, 1, 1, 1] .....\n"
     ]
    }
   ],
   "source": [
    "print('Предсказанные рекомендации: ', pred[:10], \".....\")\n",
    "print('Истинные рекомендации: ', test_y[:10], \".....\")"
   ]
  },
  {
   "cell_type": "code",
   "execution_count": 62,
   "metadata": {},
   "outputs": [
    {
     "name": "stdout",
     "output_type": "stream",
     "text": [
      "Предсказанные метки:  ['Recommended', 'Recommended', 'Recommended', 'Recommended', 'Recommended', 'Recommended', 'Recommended', 'Recommended', 'Recommended', 'Recommended', 'Recommended', 'Recommended', 'Recommended', 'Recommended', 'Recommended', 'Recommended', 'Recommended', 'Recommended', 'Recommended', 'Not Recommended'] .....\n",
      "Истинные метки:  ['Not Recommended', 'Recommended', 'Recommended', 'Not Recommended', 'Not Recommended', 'Recommended', 'Not Recommended', 'Recommended', 'Recommended', 'Recommended', 'Recommended', 'Not Recommended', 'Recommended', 'Not Recommended', 'Recommended', 'Recommended', 'Recommended', 'Recommended', 'Not Recommended', 'Not Recommended'] .....\n"
     ]
    }
   ],
   "source": [
    "# Функция для кодирования лейблов\n",
    "def num2label(y):\n",
    "    if y == 1:\n",
    "        return 'Recommended'\n",
    "    if y == -1:\n",
    "        return 'Not Recommended'\n",
    "decoded_pred = [num2label(y) for y in pred]\n",
    "decoded_test_y = [num2label(y) for y in test_y]\n",
    "print('Предсказанные метки: ', decoded_pred[0:20], \".....\")\n",
    "print('Истинные метки: ', decoded_test_y [0:20], \".....\")"
   ]
  },
  {
   "cell_type": "code",
   "execution_count": 63,
   "metadata": {},
   "outputs": [
    {
     "name": "stdout",
     "output_type": "stream",
     "text": [
      "Accuracy:  0.7506806455979904\n",
      "F1:  0.6004187701731558\n"
     ]
    }
   ],
   "source": [
    "print('Accuracy: ', accuracy_score(test_y, pred))\n",
    "print('F1: ', f1_score(test_y, pred, average = 'macro'))"
   ]
  },
  {
   "cell_type": "code",
   "execution_count": 64,
   "metadata": {},
   "outputs": [
    {
     "name": "stdout",
     "output_type": "stream",
     "text": [
      "Истинный лейбл: -1\n",
      "Предсказанный лейбл: 1\n",
      "Текст новости:  great game game play atmosphere tasks immersing great degree freedom play style viable customize play style wish wide array weapon armor intersting comunity lots achivements extended gameplay continous new content recommended...\n",
      "\n",
      "\n",
      "Истинный лейбл: 1\n",
      "Предсказанный лейбл: 1\n",
      "Текст новости:  ...\n",
      "\n",
      "\n",
      "Истинный лейбл: 1\n",
      "Предсказанный лейбл: 1\n",
      "Текст новости:  hello spoderman n tuday im gunna reveew dis game spawn dis game nuded get hert guy weth rock hert gaem...\n",
      "\n",
      "\n",
      "Истинный лейбл: 1\n",
      "Предсказанный лейбл: 1\n",
      "Текст новости:  game keren...\n",
      "\n",
      "\n",
      "Истинный лейбл: 1\n",
      "Предсказанный лейбл: 1\n",
      "Текст новости:  good game need carry though...\n",
      "\n",
      "\n",
      "Истинный лейбл: 1\n",
      "Предсказанный лейбл: 1\n",
      "Текст новости:  hi rockstar games jackass https www change org p rockstar games save openiv...\n",
      "\n",
      "\n",
      "Истинный лейбл: 1\n",
      "Предсказанный лейбл: -1\n",
      "Текст новости:  naked men...\n",
      "\n",
      "\n",
      "Истинный лейбл: -1\n",
      "Предсказанный лейбл: 1\n",
      "Текст новости:  product received free red code quest account sir...\n",
      "\n",
      "\n",
      "Истинный лейбл: -1\n",
      "Предсказанный лейбл: -1\n",
      "Текст новости:  chinese commercials...\n",
      "\n",
      "\n",
      "Истинный лейбл: -1\n",
      "Предсказанный лейбл: -1\n",
      "Текст новости:  create new account forgot username password old account damn dumb...\n",
      "\n",
      "\n"
     ]
    }
   ],
   "source": [
    "for i in range(10):\n",
    "    print('Истинный лейбл:',test_y[-i])\n",
    "    print('Предсказанный лейбл:',pred[-i])\n",
    "    print('Текст новости: ', train_texts[-i][:500]+'...')\n",
    "    print('\\n')"
   ]
  },
  {
   "cell_type": "code",
   "execution_count": 65,
   "metadata": {},
   "outputs": [
    {
     "name": "stdout",
     "output_type": "stream",
     "text": [
      "Fitting 3 folds for each of 9 candidates, totalling 27 fits\n"
     ]
    },
    {
     "data": {
      "text/html": [
       "<style>#sk-container-id-2 {color: black;}#sk-container-id-2 pre{padding: 0;}#sk-container-id-2 div.sk-toggleable {background-color: white;}#sk-container-id-2 label.sk-toggleable__label {cursor: pointer;display: block;width: 100%;margin-bottom: 0;padding: 0.3em;box-sizing: border-box;text-align: center;}#sk-container-id-2 label.sk-toggleable__label-arrow:before {content: \"▸\";float: left;margin-right: 0.25em;color: #696969;}#sk-container-id-2 label.sk-toggleable__label-arrow:hover:before {color: black;}#sk-container-id-2 div.sk-estimator:hover label.sk-toggleable__label-arrow:before {color: black;}#sk-container-id-2 div.sk-toggleable__content {max-height: 0;max-width: 0;overflow: hidden;text-align: left;background-color: #f0f8ff;}#sk-container-id-2 div.sk-toggleable__content pre {margin: 0.2em;color: black;border-radius: 0.25em;background-color: #f0f8ff;}#sk-container-id-2 input.sk-toggleable__control:checked~div.sk-toggleable__content {max-height: 200px;max-width: 100%;overflow: auto;}#sk-container-id-2 input.sk-toggleable__control:checked~label.sk-toggleable__label-arrow:before {content: \"▾\";}#sk-container-id-2 div.sk-estimator input.sk-toggleable__control:checked~label.sk-toggleable__label {background-color: #d4ebff;}#sk-container-id-2 div.sk-label input.sk-toggleable__control:checked~label.sk-toggleable__label {background-color: #d4ebff;}#sk-container-id-2 input.sk-hidden--visually {border: 0;clip: rect(1px 1px 1px 1px);clip: rect(1px, 1px, 1px, 1px);height: 1px;margin: -1px;overflow: hidden;padding: 0;position: absolute;width: 1px;}#sk-container-id-2 div.sk-estimator {font-family: monospace;background-color: #f0f8ff;border: 1px dotted black;border-radius: 0.25em;box-sizing: border-box;margin-bottom: 0.5em;}#sk-container-id-2 div.sk-estimator:hover {background-color: #d4ebff;}#sk-container-id-2 div.sk-parallel-item::after {content: \"\";width: 100%;border-bottom: 1px solid gray;flex-grow: 1;}#sk-container-id-2 div.sk-label:hover label.sk-toggleable__label {background-color: #d4ebff;}#sk-container-id-2 div.sk-serial::before {content: \"\";position: absolute;border-left: 1px solid gray;box-sizing: border-box;top: 0;bottom: 0;left: 50%;z-index: 0;}#sk-container-id-2 div.sk-serial {display: flex;flex-direction: column;align-items: center;background-color: white;padding-right: 0.2em;padding-left: 0.2em;position: relative;}#sk-container-id-2 div.sk-item {position: relative;z-index: 1;}#sk-container-id-2 div.sk-parallel {display: flex;align-items: stretch;justify-content: center;background-color: white;position: relative;}#sk-container-id-2 div.sk-item::before, #sk-container-id-2 div.sk-parallel-item::before {content: \"\";position: absolute;border-left: 1px solid gray;box-sizing: border-box;top: 0;bottom: 0;left: 50%;z-index: -1;}#sk-container-id-2 div.sk-parallel-item {display: flex;flex-direction: column;z-index: 1;position: relative;background-color: white;}#sk-container-id-2 div.sk-parallel-item:first-child::after {align-self: flex-end;width: 50%;}#sk-container-id-2 div.sk-parallel-item:last-child::after {align-self: flex-start;width: 50%;}#sk-container-id-2 div.sk-parallel-item:only-child::after {width: 0;}#sk-container-id-2 div.sk-dashed-wrapped {border: 1px dashed gray;margin: 0 0.4em 0.5em 0.4em;box-sizing: border-box;padding-bottom: 0.4em;background-color: white;}#sk-container-id-2 div.sk-label label {font-family: monospace;font-weight: bold;display: inline-block;line-height: 1.2em;}#sk-container-id-2 div.sk-label-container {text-align: center;}#sk-container-id-2 div.sk-container {/* jupyter's `normalize.less` sets `[hidden] { display: none; }` but bootstrap.min.css set `[hidden] { display: none !important; }` so we also need the `!important` here to be able to override the default hidden behavior on the sphinx rendered scikit-learn.org. See: https://github.com/scikit-learn/scikit-learn/issues/21755 */display: inline-block !important;position: relative;}#sk-container-id-2 div.sk-text-repr-fallback {display: none;}</style><div id=\"sk-container-id-2\" class=\"sk-top-container\"><div class=\"sk-text-repr-fallback\"><pre>GridSearchCV(cv=3, estimator=RandomForestClassifier(),\n",
       "             param_grid={&#x27;max_depth&#x27;: range(5, 16, 5),\n",
       "                         &#x27;n_estimators&#x27;: range(400, 601, 100)},\n",
       "             scoring=&#x27;f1&#x27;, verbose=1)</pre><b>In a Jupyter environment, please rerun this cell to show the HTML representation or trust the notebook. <br />On GitHub, the HTML representation is unable to render, please try loading this page with nbviewer.org.</b></div><div class=\"sk-container\" hidden><div class=\"sk-item sk-dashed-wrapped\"><div class=\"sk-label-container\"><div class=\"sk-label sk-toggleable\"><input class=\"sk-toggleable__control sk-hidden--visually\" id=\"sk-estimator-id-4\" type=\"checkbox\" ><label for=\"sk-estimator-id-4\" class=\"sk-toggleable__label sk-toggleable__label-arrow\">GridSearchCV</label><div class=\"sk-toggleable__content\"><pre>GridSearchCV(cv=3, estimator=RandomForestClassifier(),\n",
       "             param_grid={&#x27;max_depth&#x27;: range(5, 16, 5),\n",
       "                         &#x27;n_estimators&#x27;: range(400, 601, 100)},\n",
       "             scoring=&#x27;f1&#x27;, verbose=1)</pre></div></div></div><div class=\"sk-parallel\"><div class=\"sk-parallel-item\"><div class=\"sk-item\"><div class=\"sk-label-container\"><div class=\"sk-label sk-toggleable\"><input class=\"sk-toggleable__control sk-hidden--visually\" id=\"sk-estimator-id-5\" type=\"checkbox\" ><label for=\"sk-estimator-id-5\" class=\"sk-toggleable__label sk-toggleable__label-arrow\">estimator: RandomForestClassifier</label><div class=\"sk-toggleable__content\"><pre>RandomForestClassifier()</pre></div></div></div><div class=\"sk-serial\"><div class=\"sk-item\"><div class=\"sk-estimator sk-toggleable\"><input class=\"sk-toggleable__control sk-hidden--visually\" id=\"sk-estimator-id-6\" type=\"checkbox\" ><label for=\"sk-estimator-id-6\" class=\"sk-toggleable__label sk-toggleable__label-arrow\">RandomForestClassifier</label><div class=\"sk-toggleable__content\"><pre>RandomForestClassifier()</pre></div></div></div></div></div></div></div></div></div></div>"
      ],
      "text/plain": [
       "GridSearchCV(cv=3, estimator=RandomForestClassifier(),\n",
       "             param_grid={'max_depth': range(5, 16, 5),\n",
       "                         'n_estimators': range(400, 601, 100)},\n",
       "             scoring='f1', verbose=1)"
      ]
     },
     "execution_count": 65,
     "metadata": {},
     "output_type": "execute_result"
    }
   ],
   "source": [
    "param_grid = {\n",
    "        'n_estimators': range(400, 601, 100),\n",
    "        'max_depth': range(5,16,5)\n",
    "}\n",
    "cls=RandomForestClassifier()\n",
    "\n",
    "grid_search = GridSearchCV(cls, param_grid, cv=3, scoring='f1', verbose=1)\n",
    "grid_search.fit(train_X, train_y)"
   ]
  },
  {
   "cell_type": "code",
   "execution_count": 66,
   "metadata": {},
   "outputs": [
    {
     "name": "stdout",
     "output_type": "stream",
     "text": [
      "Best CV score: 0.854, best CV n_estimators: 500, best CV max_depth: 15\n",
      "Resulting test f1 score: 0.855\n",
      "Resulting test accuracy:  0.7713933304252343\n"
     ]
    }
   ],
   "source": [
    "print(\"Best CV score: {:.3f}, best CV n_estimators: {}, best CV max_depth: {}\".format(\n",
    "    grid_search.best_score_, grid_search.best_estimator_.n_estimators, grid_search.best_estimator_.max_depth\n",
    "))\n",
    "\n",
    "test_predictions = grid_search.best_estimator_.predict(test_X)\n",
    "print(\"Resulting test f1 score: {:.3f}\".format(f1_score(test_predictions, test_y)))\n",
    "print('Resulting test accuracy: ', accuracy_score(test_predictions, test_y))"
   ]
  },
  {
   "cell_type": "code",
   "execution_count": 67,
   "metadata": {},
   "outputs": [],
   "source": [
    "wv = api.load('word2vec-google-news-300')\n"
   ]
  },
  {
   "cell_type": "code",
   "execution_count": 68,
   "metadata": {},
   "outputs": [],
   "source": [
    "# получаем еше 3 балла\n",
    "# https://www.kaggle.com/code/utkarsh293/tf-idf-weighted-word2vec-model-using-xgboost/notebook почерпнул информацию отсюда и напряг GPT3.5 для получения ответа как же получить word2vec из tf-idf\n",
    "# Получение tf-idf весов\n",
    "tfidf_weights = train_X.toarray()\n",
    "\n",
    "# Векторизация текста с весами tf-idf и word2vec \n",
    "def vectorize_with_tfidf_and_word2vec(text, tfidf_weights, word2vec_model):\n",
    "    word_vectors = []\n",
    "    words = text.split()\n",
    "    for word in words:\n",
    "        if word in word2vec_model:\n",
    "            # Получение вектора word2vec для слова\n",
    "            w2v_vector = word2vec_model[word]\n",
    "            # Получение tf-idf веса для слова\n",
    "            tfidf_weight = tfidf_weights[words.index(word)]\n",
    "            # Умножение вектора word2vec на tf-idf вес\n",
    "            weighted_w2v_vector = w2v_vector * tfidf_weight\n",
    "            word_vectors.append(weighted_w2v_vector)\n",
    "    \n",
    "    if word_vectors:\n",
    "        # Усреднение векторов слов для получения вектора предложения\n",
    "        sentence_vector = np.mean(word_vectors, axis=0)\n",
    "        return sentence_vector\n",
    "    else:\n",
    "        # Если нет слов из word2vec модели в тексте, вернуть нулевой вектор\n",
    "        return np.zeros_like(word2vec_model['word'])\n",
    "\n",
    "# Применение функции к каждому тексту в train_texts\n",
    "train_vectors = [vectorize_with_tfidf_and_word2vec(text, tfidf_weights[i], wv) for i, text in enumerate(train_texts)]\n",
    "\n",
    "# Применение функции к каждому тексту в test_texts\n",
    "test_vectors = [vectorize_with_tfidf_and_word2vec(text, tfidf_weights[i], wv) for i, text in enumerate(test_texts)]"
   ]
  },
  {
   "cell_type": "code",
   "execution_count": 69,
   "metadata": {},
   "outputs": [],
   "source": [
    "# Получаем еще 2 балла, итого 10 =)))\n",
    "# инициализируем модель\n",
    "clf = RandomForestClassifier(n_estimators = 500, max_depth = 10)\n",
    "\n",
    "# обучаем ее на тренировочных данных, еще 2 балла подоспели=)\n",
    "clf = clf.fit(train_vectors, train_y)\n",
    "\n",
    "# делаем предсказание для тестовых данных\n",
    "pred = clf.predict(test_vectors)"
   ]
  },
  {
   "cell_type": "code",
   "execution_count": 70,
   "metadata": {},
   "outputs": [
    {
     "name": "stdout",
     "output_type": "stream",
     "text": [
      "Accuracy:  0.6945743896752455\n",
      "F1:  0.4305945384721149\n"
     ]
    }
   ],
   "source": [
    "print('Accuracy: ', accuracy_score(test_y, pred))\n",
    "print('F1: ', f1_score(test_y, pred, average = 'macro'))"
   ]
  },
  {
   "cell_type": "code",
   "execution_count": 71,
   "metadata": {},
   "outputs": [
    {
     "name": "stdout",
     "output_type": "stream",
     "text": [
      "Fitting 3 folds for each of 9 candidates, totalling 27 fits\n"
     ]
    },
    {
     "data": {
      "text/html": [
       "<style>#sk-container-id-3 {color: black;}#sk-container-id-3 pre{padding: 0;}#sk-container-id-3 div.sk-toggleable {background-color: white;}#sk-container-id-3 label.sk-toggleable__label {cursor: pointer;display: block;width: 100%;margin-bottom: 0;padding: 0.3em;box-sizing: border-box;text-align: center;}#sk-container-id-3 label.sk-toggleable__label-arrow:before {content: \"▸\";float: left;margin-right: 0.25em;color: #696969;}#sk-container-id-3 label.sk-toggleable__label-arrow:hover:before {color: black;}#sk-container-id-3 div.sk-estimator:hover label.sk-toggleable__label-arrow:before {color: black;}#sk-container-id-3 div.sk-toggleable__content {max-height: 0;max-width: 0;overflow: hidden;text-align: left;background-color: #f0f8ff;}#sk-container-id-3 div.sk-toggleable__content pre {margin: 0.2em;color: black;border-radius: 0.25em;background-color: #f0f8ff;}#sk-container-id-3 input.sk-toggleable__control:checked~div.sk-toggleable__content {max-height: 200px;max-width: 100%;overflow: auto;}#sk-container-id-3 input.sk-toggleable__control:checked~label.sk-toggleable__label-arrow:before {content: \"▾\";}#sk-container-id-3 div.sk-estimator input.sk-toggleable__control:checked~label.sk-toggleable__label {background-color: #d4ebff;}#sk-container-id-3 div.sk-label input.sk-toggleable__control:checked~label.sk-toggleable__label {background-color: #d4ebff;}#sk-container-id-3 input.sk-hidden--visually {border: 0;clip: rect(1px 1px 1px 1px);clip: rect(1px, 1px, 1px, 1px);height: 1px;margin: -1px;overflow: hidden;padding: 0;position: absolute;width: 1px;}#sk-container-id-3 div.sk-estimator {font-family: monospace;background-color: #f0f8ff;border: 1px dotted black;border-radius: 0.25em;box-sizing: border-box;margin-bottom: 0.5em;}#sk-container-id-3 div.sk-estimator:hover {background-color: #d4ebff;}#sk-container-id-3 div.sk-parallel-item::after {content: \"\";width: 100%;border-bottom: 1px solid gray;flex-grow: 1;}#sk-container-id-3 div.sk-label:hover label.sk-toggleable__label {background-color: #d4ebff;}#sk-container-id-3 div.sk-serial::before {content: \"\";position: absolute;border-left: 1px solid gray;box-sizing: border-box;top: 0;bottom: 0;left: 50%;z-index: 0;}#sk-container-id-3 div.sk-serial {display: flex;flex-direction: column;align-items: center;background-color: white;padding-right: 0.2em;padding-left: 0.2em;position: relative;}#sk-container-id-3 div.sk-item {position: relative;z-index: 1;}#sk-container-id-3 div.sk-parallel {display: flex;align-items: stretch;justify-content: center;background-color: white;position: relative;}#sk-container-id-3 div.sk-item::before, #sk-container-id-3 div.sk-parallel-item::before {content: \"\";position: absolute;border-left: 1px solid gray;box-sizing: border-box;top: 0;bottom: 0;left: 50%;z-index: -1;}#sk-container-id-3 div.sk-parallel-item {display: flex;flex-direction: column;z-index: 1;position: relative;background-color: white;}#sk-container-id-3 div.sk-parallel-item:first-child::after {align-self: flex-end;width: 50%;}#sk-container-id-3 div.sk-parallel-item:last-child::after {align-self: flex-start;width: 50%;}#sk-container-id-3 div.sk-parallel-item:only-child::after {width: 0;}#sk-container-id-3 div.sk-dashed-wrapped {border: 1px dashed gray;margin: 0 0.4em 0.5em 0.4em;box-sizing: border-box;padding-bottom: 0.4em;background-color: white;}#sk-container-id-3 div.sk-label label {font-family: monospace;font-weight: bold;display: inline-block;line-height: 1.2em;}#sk-container-id-3 div.sk-label-container {text-align: center;}#sk-container-id-3 div.sk-container {/* jupyter's `normalize.less` sets `[hidden] { display: none; }` but bootstrap.min.css set `[hidden] { display: none !important; }` so we also need the `!important` here to be able to override the default hidden behavior on the sphinx rendered scikit-learn.org. See: https://github.com/scikit-learn/scikit-learn/issues/21755 */display: inline-block !important;position: relative;}#sk-container-id-3 div.sk-text-repr-fallback {display: none;}</style><div id=\"sk-container-id-3\" class=\"sk-top-container\"><div class=\"sk-text-repr-fallback\"><pre>GridSearchCV(cv=3, estimator=RandomForestClassifier(),\n",
       "             param_grid={&#x27;max_depth&#x27;: range(5, 16, 5),\n",
       "                         &#x27;n_estimators&#x27;: range(400, 601, 100)},\n",
       "             scoring=&#x27;f1&#x27;, verbose=1)</pre><b>In a Jupyter environment, please rerun this cell to show the HTML representation or trust the notebook. <br />On GitHub, the HTML representation is unable to render, please try loading this page with nbviewer.org.</b></div><div class=\"sk-container\" hidden><div class=\"sk-item sk-dashed-wrapped\"><div class=\"sk-label-container\"><div class=\"sk-label sk-toggleable\"><input class=\"sk-toggleable__control sk-hidden--visually\" id=\"sk-estimator-id-7\" type=\"checkbox\" ><label for=\"sk-estimator-id-7\" class=\"sk-toggleable__label sk-toggleable__label-arrow\">GridSearchCV</label><div class=\"sk-toggleable__content\"><pre>GridSearchCV(cv=3, estimator=RandomForestClassifier(),\n",
       "             param_grid={&#x27;max_depth&#x27;: range(5, 16, 5),\n",
       "                         &#x27;n_estimators&#x27;: range(400, 601, 100)},\n",
       "             scoring=&#x27;f1&#x27;, verbose=1)</pre></div></div></div><div class=\"sk-parallel\"><div class=\"sk-parallel-item\"><div class=\"sk-item\"><div class=\"sk-label-container\"><div class=\"sk-label sk-toggleable\"><input class=\"sk-toggleable__control sk-hidden--visually\" id=\"sk-estimator-id-8\" type=\"checkbox\" ><label for=\"sk-estimator-id-8\" class=\"sk-toggleable__label sk-toggleable__label-arrow\">estimator: RandomForestClassifier</label><div class=\"sk-toggleable__content\"><pre>RandomForestClassifier()</pre></div></div></div><div class=\"sk-serial\"><div class=\"sk-item\"><div class=\"sk-estimator sk-toggleable\"><input class=\"sk-toggleable__control sk-hidden--visually\" id=\"sk-estimator-id-9\" type=\"checkbox\" ><label for=\"sk-estimator-id-9\" class=\"sk-toggleable__label sk-toggleable__label-arrow\">RandomForestClassifier</label><div class=\"sk-toggleable__content\"><pre>RandomForestClassifier()</pre></div></div></div></div></div></div></div></div></div></div>"
      ],
      "text/plain": [
       "GridSearchCV(cv=3, estimator=RandomForestClassifier(),\n",
       "             param_grid={'max_depth': range(5, 16, 5),\n",
       "                         'n_estimators': range(400, 601, 100)},\n",
       "             scoring='f1', verbose=1)"
      ]
     },
     "execution_count": 71,
     "metadata": {},
     "output_type": "execute_result"
    }
   ],
   "source": [
    "#ну и просто ради интереса запускаю на ночь grid-search аналогичный тому, что был в прошлый раз\n",
    "param_grid = {\n",
    "        'n_estimators': range(400, 601, 100),\n",
    "        'max_depth': range(5,16,5)\n",
    "}\n",
    "cls=RandomForestClassifier()\n",
    "\n",
    "grid_search = GridSearchCV(cls, param_grid, cv=3, scoring='f1', verbose=1)\n",
    "grid_search.fit(train_vectors, train_y)"
   ]
  },
  {
   "cell_type": "code",
   "execution_count": 72,
   "metadata": {},
   "outputs": [
    {
     "name": "stdout",
     "output_type": "stream",
     "text": [
      "Best CV score: 0.818, best CV n_estimators: 400, best CV max_depth: 10\n",
      "Resulting test f1 score: 0.818\n",
      "Resulting test accuracy:  0.6944239707585625\n"
     ]
    }
   ],
   "source": [
    "print(\"Best CV score: {:.3f}, best CV n_estimators: {}, best CV max_depth: {}\".format(\n",
    "    grid_search.best_score_, grid_search.best_estimator_.n_estimators, grid_search.best_estimator_.max_depth\n",
    "))\n",
    "\n",
    "test_predictions = grid_search.best_estimator_.predict(test_vectors)\n",
    "print(\"Resulting test f1 score: {:.3f}\".format(f1_score(test_predictions, test_y)))\n",
    "print('Resulting test accuracy: ', accuracy_score(test_predictions, test_y))"
   ]
  }
 ],
 "metadata": {
  "kernelspec": {
   "display_name": "env",
   "language": "python",
   "name": "python3"
  },
  "language_info": {
   "codemirror_mode": {
    "name": "ipython",
    "version": 3
   },
   "file_extension": ".py",
   "mimetype": "text/x-python",
   "name": "python",
   "nbconvert_exporter": "python",
   "pygments_lexer": "ipython3",
   "version": "3.10.12"
  }
 },
 "nbformat": 4,
 "nbformat_minor": 2
}
