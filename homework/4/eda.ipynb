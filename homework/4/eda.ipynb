{
 "cells": [
  {
   "cell_type": "markdown",
   "metadata": {},
   "source": [
    "Так как конечноая цель EDA не до конца ясна, проведу его в обобщенном виде и не до конца(почищу данные, может подменю какие-то характеристики/нормализую)"
   ]
  },
  {
   "cell_type": "code",
   "execution_count": 124,
   "metadata": {},
   "outputs": [],
   "source": [
    "import pandas as pd\n",
    "import re\n",
    "import numpy as np"
   ]
  },
  {
   "cell_type": "markdown",
   "metadata": {},
   "source": [
    "грузим датасет"
   ]
  },
  {
   "cell_type": "code",
   "execution_count": 125,
   "metadata": {},
   "outputs": [],
   "source": [
    "df=pd.read_csv(\"before_eda.csv\")"
   ]
  },
  {
   "cell_type": "markdown",
   "metadata": {},
   "source": [
    "посмотрим что в нем"
   ]
  },
  {
   "cell_type": "code",
   "execution_count": 126,
   "metadata": {},
   "outputs": [
    {
     "name": "stdout",
     "output_type": "stream",
     "text": [
      "<class 'pandas.core.frame.DataFrame'>\n",
      "RangeIndex: 2995 entries, 0 to 2994\n",
      "Data columns (total 24 columns):\n",
      " #   Column                      Non-Null Count  Dtype  \n",
      "---  ------                      --------------  -----  \n",
      " 0   Unnamed: 0                  2995 non-null   int64  \n",
      " 1   name                        2995 non-null   object \n",
      " 2   description                 2995 non-null   object \n",
      " 3   price                       2072 non-null   float64\n",
      " 4   reviews_count               2995 non-null   int64  \n",
      " 5   rating                      2995 non-null   float64\n",
      " 6   Тип                         2995 non-null   object \n",
      " 7   Тип пластика для 3D печати  2995 non-null   object \n",
      " 8   Диаметр, мм                 2899 non-null   float64\n",
      " 9   Размеры, мм                 2346 non-null   object \n",
      " 10  Вес, кг                     2805 non-null   float64\n",
      " 11  Технология 3D печати        2794 non-null   object \n",
      " 12  Твердость по Шору           1337 non-null   object \n",
      " 13  Объем, л                    653 non-null    float64\n",
      " 14  Масса, кг                   2873 non-null   float64\n",
      " 15  Вес товара, г               2852 non-null   float64\n",
      " 16  Цвет                        2927 non-null   object \n",
      " 17  Страна-изготовитель         2928 non-null   object \n",
      " 18  Длина, см                   1183 non-null   float64\n",
      " 19  Гарантийный срок            1666 non-null   object \n",
      " 20  Количество, шт              169 non-null    float64\n",
      " 21  Цвет:                       1 non-null      object \n",
      " 22  Размеры, мм:                2 non-null      object \n",
      " 23  Бренд                       1 non-null      object \n",
      "dtypes: float64(9), int64(2), object(13)\n",
      "memory usage: 561.7+ KB\n"
     ]
    }
   ],
   "source": [
    "df.info()"
   ]
  },
  {
   "cell_type": "markdown",
   "metadata": {},
   "source": [
    "посмотрим колонки где значений совсем мало"
   ]
  },
  {
   "cell_type": "code",
   "execution_count": 127,
   "metadata": {},
   "outputs": [
    {
     "name": "stdout",
     "output_type": "stream",
     "text": [
      "Бренд                            1\n",
      "Цвет:                            1\n",
      "Размеры, мм:                     2\n",
      "Количество, шт                 169\n",
      "Объем, л                       653\n",
      "Длина, см                     1183\n",
      "Твердость по Шору             1337\n",
      "Гарантийный срок              1666\n",
      "price                         2072\n",
      "Размеры, мм                   2346\n",
      "Технология 3D печати          2794\n",
      "Вес, кг                       2805\n",
      "Вес товара, г                 2852\n",
      "Масса, кг                     2873\n",
      "Диаметр, мм                   2899\n",
      "Цвет                          2927\n",
      "Страна-изготовитель           2928\n",
      "Тип пластика для 3D печати    2995\n",
      "Тип                           2995\n",
      "rating                        2995\n",
      "reviews_count                 2995\n",
      "description                   2995\n",
      "name                          2995\n",
      "Unnamed: 0                    2995\n",
      "dtype: int64\n"
     ]
    }
   ],
   "source": [
    "filled_value_counts = df.count()\n",
    "filled_value_counts_sorted = filled_value_counts.sort_values()\n",
    "print(filled_value_counts_sorted)"
   ]
  },
  {
   "cell_type": "markdown",
   "metadata": {},
   "source": [
    "Удалим те параметры у которых заполненность менее 30%, а так же удалим объем в литрах. Это пластик и он продается в бухтах на вес(у которого есть прямая зависимость с длиной, поэтому её тоже можно удалить)"
   ]
  },
  {
   "cell_type": "code",
   "execution_count": 128,
   "metadata": {},
   "outputs": [],
   "source": [
    "features_with_na=df.isna().sum()[df.isna().sum()>0] / df.shape[0]\n",
    "list_to_drop=features_with_na[features_with_na > 0.7].index.tolist()\n",
    "df.drop(list_to_drop, axis=1, inplace=True)"
   ]
  },
  {
   "cell_type": "markdown",
   "metadata": {},
   "source": [
    "поудаляем проблемные вхождения(видимо что-то шло не так, цена явно должна быть у всех, так что откинем сразу те в которых цены нет), а так же сюда вошел индекс, он нам не нужен(видимо  в процессе выгрузки где-то его впустили=), удалим и его.\n",
    "Опять же это пластик, который идет на вес, удалим длину в см"
   ]
  },
  {
   "cell_type": "code",
   "execution_count": 129,
   "metadata": {},
   "outputs": [],
   "source": [
    "df = df.dropna(subset=['price'])\n",
    "list_to_drop=['Unnamed: 0','Длина, см']\n",
    "df.drop(list_to_drop, axis=1, inplace=True)"
   ]
  },
  {
   "cell_type": "markdown",
   "metadata": {},
   "source": [
    "посмотрим уникальные значения диаметра. есть мнение что оно будет почти одним и тем же"
   ]
  },
  {
   "cell_type": "code",
   "execution_count": 130,
   "metadata": {},
   "outputs": [
    {
     "data": {
      "text/plain": [
       "Диаметр, мм\n",
       "1.75    1952\n",
       "2.85      16\n",
       "1.00       7\n",
       "1.80       6\n",
       "2.75       1\n",
       "9.75       1\n",
       "3.75       1\n",
       "3.00       1\n",
       "Name: count, dtype: int64"
      ]
     },
     "execution_count": 130,
     "metadata": {},
     "output_type": "execute_result"
    }
   ],
   "source": [
    "df['Диаметр, мм'].value_counts()"
   ]
  },
  {
   "cell_type": "markdown",
   "metadata": {},
   "source": [
    "видим что почти везде он стандартный 1.75. удалим все вхождения, где иначе. и удалим колонку,  так как стандарт пластика 1.75"
   ]
  },
  {
   "cell_type": "code",
   "execution_count": 131,
   "metadata": {},
   "outputs": [],
   "source": [
    "df = df[df['Диаметр, мм'] == 1.75]\n",
    "del df['Диаметр, мм']"
   ]
  },
  {
   "cell_type": "markdown",
   "metadata": {},
   "source": [
    "пластик без веса нас явно не интересует, удалим и эти пустые вхождения, а так же удалим колонку 'Масса, кг','Вес, кг' так как не понятно зачем данные дублируются(физически это конечно разные понятия=), но не для покупателя)"
   ]
  },
  {
   "cell_type": "code",
   "execution_count": 132,
   "metadata": {},
   "outputs": [],
   "source": [
    "df = df.dropna(subset=['Вес товара, г'])\n",
    "list_to_drop=['Масса, кг','Вес, кг']\n",
    "df.drop(list_to_drop, axis=1, inplace=True)"
   ]
  },
  {
   "cell_type": "markdown",
   "metadata": {},
   "source": [
    "после всей этой чистки видим что цвет,страна и технология заполнены почти везде. Думаю откинуть оставшиеся мелочи можно сразу"
   ]
  },
  {
   "cell_type": "code",
   "execution_count": 133,
   "metadata": {},
   "outputs": [],
   "source": [
    "df = df.dropna(subset=['Технология 3D печати','Цвет','Страна-изготовитель'])"
   ]
  },
  {
   "cell_type": "markdown",
   "metadata": {},
   "source": [
    "в принципе уже неплохая выборка получилась. гарантийный срок если отсутствует - значит скорей всего его нет, заполняем 0-ми, а остальные значения мапим"
   ]
  },
  {
   "cell_type": "code",
   "execution_count": 134,
   "metadata": {},
   "outputs": [
    {
     "data": {
      "text/plain": [
       "Гарантийный срок\n",
       "12 месяцев                                 345\n",
       "365                                        105\n",
       "1 год                                      101\n",
       "1 год с даты производства товара            98\n",
       "20.0                                        58\n",
       "24 месяца                                   54\n",
       "1                                           49\n",
       "730                                         28\n",
       "12 мес                                      26\n",
       "2 года                                      19\n",
       "547                                         18\n",
       "14 дней                                     16\n",
       "-                                           10\n",
       "30 дней                                     10\n",
       "1.0                                          9\n",
       "6 месяцев                                    7\n",
       "6 мес                                        6\n",
       "нет                                          5\n",
       "12                                           4\n",
       "1 год.                                       4\n",
       "36 месяцев                                   3\n",
       "18 месяцев                                   3\n",
       "12 мес.                                      3\n",
       "3 месяца                                     3\n",
       "не ограничен                                 3\n",
       "540                                          1\n",
       "Производитель не предоставляет гарантию      1\n",
       "2                                            1\n",
       "2 недели                                     1\n",
       "90                                           1\n",
       "5 лет                                        1\n",
       "Name: count, dtype: int64"
      ]
     },
     "execution_count": 134,
     "metadata": {},
     "output_type": "execute_result"
    }
   ],
   "source": [
    "df['Гарантийный срок'].value_counts()"
   ]
  },
  {
   "cell_type": "code",
   "execution_count": 135,
   "metadata": {},
   "outputs": [],
   "source": [
    "mapping = {\n",
    "    '12 месяцев': 365,\n",
    "    '365': 365,\n",
    "    '1 год': 365,\n",
    "    '1 год с даты производства товара': 365,\n",
    "    '20.0': 600,\n",
    "    '24 месяца': 730,\n",
    "    '1': 365,\n",
    "    '730': 730,\n",
    "    '12 мес': 365,\n",
    "    '2 года': 730,\n",
    "    '547': 547,\n",
    "    '14 дней': 14,\n",
    "    '-': 0,\n",
    "    '30 дней': 30,\n",
    "    '1.0': 365,\n",
    "    '6 месяцев': 180,\n",
    "    '6 мес': 180,\n",
    "    'нет': 0,\n",
    "    '12': 365,\n",
    "    '1 год.': 365,\n",
    "    '36 месяцев': 432,\n",
    "    '18 месяцев': 547,\n",
    "    '12 мес.': 365,\n",
    "    '3 месяца': 90,\n",
    "    'не ограничен': 0,\n",
    "    '540': 540,\n",
    "    'Производитель не предоставляет гарантию': 0,\n",
    "    '2': 365,\n",
    "    '2 недели': 14,\n",
    "    '90': 90,\n",
    "    '5 лет': 1825\n",
    "}\n",
    "df['Гарантийный срок'] = df['Гарантийный срок'].map(mapping)\n",
    "df['Гарантийный срок'] = df['Гарантийный срок'].fillna(0)"
   ]
  },
  {
   "cell_type": "markdown",
   "metadata": {},
   "source": [
    "посмотрим на размеры"
   ]
  },
  {
   "cell_type": "code",
   "execution_count": 136,
   "metadata": {},
   "outputs": [
    {
     "data": {
      "text/plain": [
       "Размеры, мм\n",
       "200x200x80                     157\n",
       "20 х 20 х 8 см (0,0032 м3)     145\n",
       "210х230х80                      82\n",
       "220х230х80                      75\n",
       "200х200                         70\n",
       "190 x 190 x 55                  62\n",
       "200x200x70                      60\n",
       "200 x 200 x 80                  58\n",
       "230x230x80                      51\n",
       "220х220х80                      37\n",
       "200х200х65                      35\n",
       "280x280x130                     35\n",
       "220х200х70                      31\n",
       "198x198x65                      29\n",
       "250x250x80                      28\n",
       "1,75                            25\n",
       "30 х 30 х 16 см (0,0144 м3)     24\n",
       "220х230х25                      20\n",
       "220x210x75                      20\n",
       "100x100x10                      17\n",
       "210x210x80                      16\n",
       "200X200X64                      16\n",
       "190х190х55                      14\n",
       "200*200*64                      14\n",
       "220x200x100                     14\n",
       "200х200х58                      13\n",
       "200х200х60                      13\n",
       "250х250х100                     13\n",
       "203x203x62                      12\n",
       "220*220*80                      11\n",
       "1.75                            11\n",
       "210*210*8                       10\n",
       "21*21*8 см                       9\n",
       "200х210х70                       9\n",
       "200Х200Х65                       9\n",
       "190 х 190 х 55                   9\n",
       "198х198х65                       8\n",
       "195х195х60                       8\n",
       "180х180х50                       7\n",
       "230х220х80                       7\n",
       "220x230x70                       7\n",
       "150х150х30                       7\n",
       "200*200*60                       7\n",
       "220x220x80                       6\n",
       "220x230x100                      6\n",
       "190x190x55                       6\n",
       "200 х 200 х 70                   5\n",
       "200x200x68                       5\n",
       "10х10х10                         5\n",
       "200x200x100                      5\n",
       "210Х200Х70                       4\n",
       "150*50*50                        4\n",
       "200x200x58                       4\n",
       "15х3х15                          4\n",
       "21*21*7                          3\n",
       "21*21*6 см                       3\n",
       "220x210x70                       3\n",
       "290х220х60                       3\n",
       "215x205x75                       3\n",
       "198х198х68                       3\n",
       "220х230х85                       3\n",
       "209*209*73                       3\n",
       "208X215X75                       3\n",
       "220x220x100                      3\n",
       "210*210*70                       3\n",
       "220Х210Х80                       3\n",
       "195*195*55                       2\n",
       "320х310х190                      2\n",
       "320х310х100                      2\n",
       "200х60х200                       2\n",
       "220х230х90                       2\n",
       "180х180х30                       2\n",
       "150х150х60                       2\n",
       "210х210х50                       2\n",
       "205X215x75                       2\n",
       "210X200X85                       2\n",
       "195х195х50                       2\n",
       "200x220x100                      1\n",
       "220*220*100                      1\n",
       "220х230х81                       1\n",
       "150х150х40                       1\n",
       "200х200х70                       1\n",
       "1050х250х250                     1\n",
       "25х5х25                          1\n",
       "300х300x100                      1\n",
       "290х240х50                       1\n",
       "205х215х75 мм                    1\n",
       "200х200х52                       1\n",
       "310х310х120                      1\n",
       "210х75х210                       1\n",
       "205 х 215 х 75 мм                1\n",
       "200                              1\n",
       "220х230х84                       1\n",
       "220х230х82                       1\n",
       "101                              1\n",
       "220х230х83                       1\n",
       "220х220х60                       1\n",
       "220х230х86                       1\n",
       "220х230х91                       1\n",
       "220х230х89                       1\n",
       "200х200х280                      1\n",
       "220х210х70                       1\n",
       "200х200х210                      1\n",
       "210X220X90                       1\n",
       "210X220X85                       1\n",
       "230x220x90                       1\n",
       "Name: count, dtype: int64"
      ]
     },
     "execution_count": 136,
     "metadata": {},
     "output_type": "execute_result"
    }
   ],
   "source": [
    "pd.options.display.max_rows = 1000\n",
    "df['Размеры, мм'].value_counts()"
   ]
  },
  {
   "cell_type": "markdown",
   "metadata": {},
   "source": [
    "видим разнобой размерностей. возьмем да и переведем все в объем"
   ]
  },
  {
   "cell_type": "code",
   "execution_count": 137,
   "metadata": {},
   "outputs": [],
   "source": [
    "df['Размеры, мм'] = df['Размеры, мм'].fillna('0')\n",
    "def calculate_volume(value):\n",
    "    values = re.findall(r'\\d+', value)\n",
    "    \n",
    "    if len(values) >= 3:\n",
    "        if \"см\" in value:\n",
    "            volume = (int(values[0]) * int(values[1]) * int(values[2])) / 1000000\n",
    "        elif any(int(val) < 10 for val in values):\n",
    "            volume = (int(values[0]) * int(values[1]) * int(values[2])) / 1000000\n",
    "        else:\n",
    "            volume = int(values[0]) * int(values[1]) * int(values[2]) / 1000000000\n",
    "    else: # Если указано менее 3 размерностей\n",
    "        volume = 0  \n",
    "    \n",
    "    return round(volume, 6)\n",
    "df['Объем (м³)'] = df['Размеры, мм'].apply(calculate_volume)\n",
    "df['Объем (м³)'].replace(0, np.nan, inplace=True)\n",
    "del df['Размеры, мм']"
   ]
  },
  {
   "cell_type": "code",
   "execution_count": 138,
   "metadata": {},
   "outputs": [
    {
     "name": "stdout",
     "output_type": "stream",
     "text": [
      "<class 'pandas.core.frame.DataFrame'>\n",
      "Index: 1783 entries, 0 to 2994\n",
      "Data columns (total 14 columns):\n",
      " #   Column                      Non-Null Count  Dtype  \n",
      "---  ------                      --------------  -----  \n",
      " 0   name                        1783 non-null   object \n",
      " 1   description                 1783 non-null   object \n",
      " 2   price                       1783 non-null   float64\n",
      " 3   reviews_count               1783 non-null   int64  \n",
      " 4   rating                      1783 non-null   float64\n",
      " 5   Тип                         1783 non-null   object \n",
      " 6   Тип пластика для 3D печати  1783 non-null   object \n",
      " 7   Технология 3D печати        1783 non-null   object \n",
      " 8   Твердость по Шору           866 non-null    object \n",
      " 9   Вес товара, г               1783 non-null   float64\n",
      " 10  Цвет                        1783 non-null   object \n",
      " 11  Страна-изготовитель         1783 non-null   object \n",
      " 12  Гарантийный срок            1783 non-null   float64\n",
      " 13  Объем (м³)                  1338 non-null   float64\n",
      "dtypes: float64(5), int64(1), object(8)\n",
      "memory usage: 208.9+ KB\n"
     ]
    }
   ],
   "source": [
    "df.info()"
   ]
  },
  {
   "cell_type": "markdown",
   "metadata": {},
   "source": [
    "по сути, по хорошему нужно выяснить так же а как же лучше заполнить на самом деле объем вместо 0(я пока чтобы в дальнейшем не забыть - вернул NaN). Но так как не ясна конечная цель - на текущий момент я не стал этого делать.\n",
    "еще остается так же не заполненная до конца твердость п Шору, которую с большей доли вероятности пока откидывать нельзя, но было бы тоже неплохо заполнить чем-то (медианами, квантилями, чем-то определенным, etc)\n",
    "и быть может нужно было бы избавиться от словарных значений в цвете, стране, технологиях... просто закодировав их в то что нужно. но это тоже не выполнял.\n",
    "так же вероятно нужно нормализовать данные, там где у нас числа.\n",
    "\n",
    "На мой взгляд - данный eda notebook максимально подготовил данные из полученного в результате парсинга dataset для дальнешего использования в условиях неопределенности задачи"
   ]
  }
 ],
 "metadata": {
  "kernelspec": {
   "display_name": "env",
   "language": "python",
   "name": "python3"
  },
  "language_info": {
   "codemirror_mode": {
    "name": "ipython",
    "version": 3
   },
   "file_extension": ".py",
   "mimetype": "text/x-python",
   "name": "python",
   "nbconvert_exporter": "python",
   "pygments_lexer": "ipython3",
   "version": "3.10.12"
  }
 },
 "nbformat": 4,
 "nbformat_minor": 2
}
