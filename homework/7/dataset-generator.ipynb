{
 "cells": [
  {
   "cell_type": "markdown",
   "metadata": {},
   "source": [
    "напишем функцию генерации, которая будет генерировать 20000 уникальных значений"
   ]
  },
  {
   "cell_type": "code",
   "execution_count": 7,
   "metadata": {},
   "outputs": [],
   "source": [
    "import torch"
   ]
  },
  {
   "cell_type": "markdown",
   "metadata": {},
   "source": [
    "подготовим функцию генерации"
   ]
  },
  {
   "cell_type": "code",
   "execution_count": 8,
   "metadata": {},
   "outputs": [],
   "source": [
    "torch.manual_seed(0)\n",
    "def generate_data(num_samples):\n",
    "    x = torch.rand(num_samples, 1) * 20 - 10\n",
    "    y = torch.rand(num_samples, 1) * 20 - 10\n",
    "    z = torch.sin(x + 2 * y) * torch.exp(-(2 * x + y)**2)\n",
    "    return x, y, z\n"
   ]
  },
  {
   "cell_type": "markdown",
   "metadata": {},
   "source": [
    "подготовим функцию разбиения и сохранения"
   ]
  },
  {
   "cell_type": "code",
   "execution_count": 9,
   "metadata": {},
   "outputs": [],
   "source": [
    "def saver(tensor,name):\n",
    "    train,test,val=tensor[:train_size],tensor[train_size:train_size+test_size],tensor[train_size+test_size:]\n",
    "    torch.save(train,f\"train_{name}.pt\")\n",
    "    torch.save(test,f\"test_{name}.pt\")\n",
    "    torch.save(val,f\"val_{name}.pt\")"
   ]
  },
  {
   "cell_type": "markdown",
   "metadata": {},
   "source": [
    "сгенерируем их и поделим на 3 датасета(согласно лекции - используем train,test) и сохраним в отдельные файлы\n",
    "(задания 1,2 и часть 3, без букв a,b - они в другом ipynb)"
   ]
  },
  {
   "cell_type": "code",
   "execution_count": 10,
   "metadata": {},
   "outputs": [],
   "source": [
    "num_samples=20000\n",
    "x, y, z = generate_data(num_samples)\n",
    "\n",
    "# делаем 3, хотя по сути для вала нам значения не нужны, так как это все, что останется после теста\n",
    "split_ratio = [0.7, 0.15, 0.15]\n",
    "train_size = int(split_ratio[0] * num_samples)\n",
    "test_size = int(split_ratio[1] * num_samples)\n",
    "\n",
    "saver(x,\"x\")\n",
    "saver(y,\"y\")\n",
    "saver(z,\"z\")"
   ]
  }
 ],
 "metadata": {
  "kernelspec": {
   "display_name": "env",
   "language": "python",
   "name": "python3"
  },
  "language_info": {
   "codemirror_mode": {
    "name": "ipython",
    "version": 3
   },
   "file_extension": ".py",
   "mimetype": "text/x-python",
   "name": "python",
   "nbconvert_exporter": "python",
   "pygments_lexer": "ipython3",
   "version": "3.10.12"
  }
 },
 "nbformat": 4,
 "nbformat_minor": 2
}
