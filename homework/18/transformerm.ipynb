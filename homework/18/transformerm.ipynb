{
 "cells": [
  {
   "cell_type": "code",
   "execution_count": 1,
   "metadata": {},
   "outputs": [],
   "source": [
    "import datetime\n",
    "import matplotlib.pyplot as plt\n",
    "import numpy as np\n",
    "import os\n",
    "import pandas as pd\n",
    "import random\n",
    "import seaborn as sns\n",
    "import time\n",
    "import torch\n",
    "\n",
    "from datasets import load_metric\n",
    "from sklearn import metrics\n",
    "from sklearn.metrics import matthews_corrcoef\n",
    "from torch import cuda\n",
    "from torch.utils.data import (\n",
    "    TensorDataset,\n",
    "    DataLoader,\n",
    "    RandomSampler,\n",
    "    SequentialSampler,\n",
    "    random_split,\n",
    "    )\n",
    "from tqdm import tqdm\n",
    "from transformers import (\n",
    "    AdamW,\n",
    "    AutoModelForCausalLM,\n",
    "    AutoTokenizer,\n",
    "    BertForSequenceClassification,\n",
    "    BertTokenizer,\n",
    "    get_linear_schedule_with_warmup,\n",
    "    T5ForSequenceClassification,\n",
    "    T5Tokenizer,\n",
    "    )\n",
    "from razdel import tokenize"
   ]
  },
  {
   "cell_type": "markdown",
   "metadata": {},
   "source": [
    "выбираем устройство для проведения обучения. "
   ]
  },
  {
   "cell_type": "code",
   "execution_count": 2,
   "metadata": {},
   "outputs": [],
   "source": [
    "device = 'cuda' if cuda.is_available() else 'cpu'"
   ]
  },
  {
   "cell_type": "markdown",
   "metadata": {},
   "source": [
    "подгружаем наши датасеты"
   ]
  },
  {
   "cell_type": "code",
   "execution_count": 3,
   "metadata": {},
   "outputs": [],
   "source": [
    "train_df = pd.read_csv(\"./data/in_domain_train.csv\",index_col=0)\n",
    "test_df = pd.read_csv(\"./data/in_domain_dev.csv\",index_col=0)"
   ]
  },
  {
   "cell_type": "markdown",
   "metadata": {},
   "source": [
    "немножко информации о них посмотрим"
   ]
  },
  {
   "cell_type": "code",
   "execution_count": 4,
   "metadata": {},
   "outputs": [
    {
     "name": "stdout",
     "output_type": "stream",
     "text": [
      "<class 'pandas.core.frame.DataFrame'>\n",
      "Index: 7869 entries, 0 to 7868\n",
      "Data columns (total 4 columns):\n",
      " #   Column           Non-Null Count  Dtype \n",
      "---  ------           --------------  ----- \n",
      " 0   sentence         7869 non-null   object\n",
      " 1   acceptable       7869 non-null   int64 \n",
      " 2   error_type       7869 non-null   object\n",
      " 3   detailed_source  7869 non-null   object\n",
      "dtypes: int64(1), object(3)\n",
      "memory usage: 307.4+ KB\n"
     ]
    }
   ],
   "source": [
    "train_df.info()"
   ]
  },
  {
   "cell_type": "code",
   "execution_count": 5,
   "metadata": {},
   "outputs": [
    {
     "data": {
      "text/html": [
       "<div>\n",
       "<style scoped>\n",
       "    .dataframe tbody tr th:only-of-type {\n",
       "        vertical-align: middle;\n",
       "    }\n",
       "\n",
       "    .dataframe tbody tr th {\n",
       "        vertical-align: top;\n",
       "    }\n",
       "\n",
       "    .dataframe thead th {\n",
       "        text-align: right;\n",
       "    }\n",
       "</style>\n",
       "<table border=\"1\" class=\"dataframe\">\n",
       "  <thead>\n",
       "    <tr style=\"text-align: right;\">\n",
       "      <th></th>\n",
       "      <th>sentence</th>\n",
       "      <th>acceptable</th>\n",
       "      <th>error_type</th>\n",
       "      <th>detailed_source</th>\n",
       "    </tr>\n",
       "    <tr>\n",
       "      <th>id</th>\n",
       "      <th></th>\n",
       "      <th></th>\n",
       "      <th></th>\n",
       "      <th></th>\n",
       "    </tr>\n",
       "  </thead>\n",
       "  <tbody>\n",
       "    <tr>\n",
       "      <th>0</th>\n",
       "      <td>Вдруг решетка беззвучно поехала в сторону, и н...</td>\n",
       "      <td>1</td>\n",
       "      <td>0</td>\n",
       "      <td>Paducheva2004</td>\n",
       "    </tr>\n",
       "    <tr>\n",
       "      <th>1</th>\n",
       "      <td>Этим летом не никуда ездили.</td>\n",
       "      <td>0</td>\n",
       "      <td>Syntax</td>\n",
       "      <td>Rusgram</td>\n",
       "    </tr>\n",
       "    <tr>\n",
       "      <th>2</th>\n",
       "      <td>Только Иван выразил какую бы то ни было готовн...</td>\n",
       "      <td>1</td>\n",
       "      <td>0</td>\n",
       "      <td>Paducheva2013</td>\n",
       "    </tr>\n",
       "    <tr>\n",
       "      <th>3</th>\n",
       "      <td>Теперь ты видишь собственными глазами, как тут...</td>\n",
       "      <td>1</td>\n",
       "      <td>0</td>\n",
       "      <td>Paducheva2010</td>\n",
       "    </tr>\n",
       "    <tr>\n",
       "      <th>4</th>\n",
       "      <td>На поверку вся теория оказалась полной чепухой.</td>\n",
       "      <td>1</td>\n",
       "      <td>0</td>\n",
       "      <td>Paducheva2010</td>\n",
       "    </tr>\n",
       "  </tbody>\n",
       "</table>\n",
       "</div>"
      ],
      "text/plain": [
       "                                             sentence  acceptable error_type  \\\n",
       "id                                                                             \n",
       "0   Вдруг решетка беззвучно поехала в сторону, и н...           1          0   \n",
       "1                        Этим летом не никуда ездили.           0     Syntax   \n",
       "2   Только Иван выразил какую бы то ни было готовн...           1          0   \n",
       "3   Теперь ты видишь собственными глазами, как тут...           1          0   \n",
       "4     На поверку вся теория оказалась полной чепухой.           1          0   \n",
       "\n",
       "   detailed_source  \n",
       "id                  \n",
       "0    Paducheva2004  \n",
       "1          Rusgram  \n",
       "2    Paducheva2013  \n",
       "3    Paducheva2010  \n",
       "4    Paducheva2010  "
      ]
     },
     "execution_count": 5,
     "metadata": {},
     "output_type": "execute_result"
    }
   ],
   "source": [
    "train_df.head()"
   ]
  },
  {
   "cell_type": "code",
   "execution_count": 6,
   "metadata": {},
   "outputs": [
    {
     "data": {
      "text/html": [
       "<div>\n",
       "<style scoped>\n",
       "    .dataframe tbody tr th:only-of-type {\n",
       "        vertical-align: middle;\n",
       "    }\n",
       "\n",
       "    .dataframe tbody tr th {\n",
       "        vertical-align: top;\n",
       "    }\n",
       "\n",
       "    .dataframe thead th {\n",
       "        text-align: right;\n",
       "    }\n",
       "</style>\n",
       "<table border=\"1\" class=\"dataframe\">\n",
       "  <thead>\n",
       "    <tr style=\"text-align: right;\">\n",
       "      <th></th>\n",
       "      <th>sentence</th>\n",
       "      <th>acceptable</th>\n",
       "      <th>error_type</th>\n",
       "      <th>detailed_source</th>\n",
       "    </tr>\n",
       "    <tr>\n",
       "      <th>id</th>\n",
       "      <th></th>\n",
       "      <th></th>\n",
       "      <th></th>\n",
       "      <th></th>\n",
       "    </tr>\n",
       "  </thead>\n",
       "  <tbody>\n",
       "    <tr>\n",
       "      <th>7713</th>\n",
       "      <td>Ты сейчас же взял и вылил воду!</td>\n",
       "      <td>0</td>\n",
       "      <td>Semantics</td>\n",
       "      <td>Rusgram</td>\n",
       "    </tr>\n",
       "  </tbody>\n",
       "</table>\n",
       "</div>"
      ],
      "text/plain": [
       "                             sentence  acceptable error_type detailed_source\n",
       "id                                                                          \n",
       "7713  Ты сейчас же взял и вылил воду!           0  Semantics         Rusgram"
      ]
     },
     "execution_count": 6,
     "metadata": {},
     "output_type": "execute_result"
    }
   ],
   "source": [
    "train_df.sample()"
   ]
  },
  {
   "cell_type": "markdown",
   "metadata": {},
   "source": [
    "выделим необходимые для нас колонки в отдельные переменные"
   ]
  },
  {
   "cell_type": "code",
   "execution_count": 7,
   "metadata": {},
   "outputs": [],
   "source": [
    "train_sentences = train_df.sentence.values\n",
    "train_labels = train_df.acceptable.values\n",
    "test_sentences = test_df.sentence.values\n",
    "test_labels = test_df.acceptable.values"
   ]
  },
  {
   "cell_type": "markdown",
   "metadata": {},
   "source": [
    "я обучал на 2060, перепробовал large модели - к сожалению они не лезут. И чтобы побыстрей менять модельки - я вынес имя в отдельную переменную"
   ]
  },
  {
   "cell_type": "code",
   "execution_count": 8,
   "metadata": {},
   "outputs": [],
   "source": [
    "model_name=\"ai-forever/ruBert-base\""
   ]
  },
  {
   "cell_type": "markdown",
   "metadata": {},
   "source": [
    "подгрузим токенизатор для текста из предобученной берт модели"
   ]
  },
  {
   "cell_type": "code",
   "execution_count": 9,
   "metadata": {},
   "outputs": [
    {
     "name": "stdout",
     "output_type": "stream",
     "text": [
      "Loading BERT tokenizer...\n"
     ]
    }
   ],
   "source": [
    "print('Loading BERT tokenizer...')\n",
    "tokenizer = BertTokenizer.from_pretrained(model_name, do_lower_case=True)"
   ]
  },
  {
   "cell_type": "markdown",
   "metadata": {},
   "source": [
    "посмотрим на то как он работает"
   ]
  },
  {
   "cell_type": "code",
   "execution_count": 10,
   "metadata": {},
   "outputs": [
    {
     "name": "stdout",
     "output_type": "stream",
     "text": [
      "Исходное:  Вдруг решетка беззвучно поехала в сторону, и на балконе возникла таинственная фигура, прячущаяся от лунного света, и погрозила Ивану пальцем.\n",
      "Токенизированное:  ['вдруг', 'решетка', 'беззвучно', 'поехала', 'в', 'сторону', ',', 'и', 'на', 'балконе', 'возникла', 'таинственная', 'фигура', ',', 'прячу', '##щаяся', 'от', 'лунного', 'света', ',', 'и', 'погрозил', '##а', 'ива', '##ну', 'пальцем', '.']\n",
      "Идентификаторы токенов:  [3014, 83321, 41548, 32350, 113, 2931, 121, 107, 660, 50354, 13779, 99183, 15226, 121, 94376, 19913, 700, 55918, 6412, 121, 107, 95640, 377, 104691, 717, 11420, 126]\n"
     ]
    }
   ],
   "source": [
    "# Выводим исходное предложение.\n",
    "print('Исходное: ', train_sentences[0])\n",
    "\n",
    "# Выводим предложение, разделенное на токены.\n",
    "print('Токенизированное: ', tokenizer.tokenize(train_sentences[0]))\n",
    "\n",
    "# Выводим предложение, сопоставленное идентификаторам токенов.\n",
    "print('Идентификаторы токенов: ', tokenizer.convert_tokens_to_ids(tokenizer.tokenize(train_sentences[0])))"
   ]
  },
  {
   "cell_type": "markdown",
   "metadata": {},
   "source": [
    "найдем максимальную длину текста"
   ]
  },
  {
   "cell_type": "code",
   "execution_count": 11,
   "metadata": {},
   "outputs": [
    {
     "name": "stdout",
     "output_type": "stream",
     "text": [
      "Максимальная длина текста:  45\n"
     ]
    }
   ],
   "source": [
    "max_len = 0\n",
    "\n",
    "for sent in train_sentences:\n",
    "\n",
    "    # токенизируем текст, не забывая добавлять специальный токен начала и конца([CLS] и [SEP])\n",
    "    train_input_ids = tokenizer.encode(sent, add_special_tokens=True)\n",
    "\n",
    "    # Сравниваем длину последовательности и если она длиннее - обновляем max_len\n",
    "    max_len = max(max_len, len(train_input_ids))\n",
    "\n",
    "print('Максимальная длина текста: ', max_len)\n"
   ]
  },
  {
   "cell_type": "markdown",
   "metadata": {},
   "source": [
    "напишем функцию токенизации текста"
   ]
  },
  {
   "cell_type": "code",
   "execution_count": 8,
   "metadata": {},
   "outputs": [],
   "source": [
    "def encode(sentences,tokenizer):\n",
    "    input_ids = []\n",
    "    attention_masks = []\n",
    "\n",
    "    for sent in sentences:\n",
    "        # `encode_plus` выполнит следующие шаги:\n",
    "        #   (1) Токенизирует предложение.\n",
    "        #   (2) Добавит токен `[CLS]` в начало.\n",
    "        #   (3) Добавит токен `[SEP]` в конец.\n",
    "        #   (4) Сопоставит токены их идентификаторам.\n",
    "        #   (5) Дополнит или обрежет предложение до `max_length`.\n",
    "        #   (6) Создаст маски внимания для токенов [PAD].\n",
    "\n",
    "        # Используем `encode_plus` для кодирования предложения.\n",
    "        encoded_dict = tokenizer.encode_plus(\n",
    "                            sent,                      # Предложение для кодирования.\n",
    "                            add_special_tokens = True, # Добавить '[CLS]' и '[SEP]'.\n",
    "                            max_length = 64,           # Дополнить и обрезать все предложения.\n",
    "                            pad_to_max_length = True,  # Дополнить до максимальной длины и обрезать.\n",
    "                            return_attention_mask = True,   # Создать маски внимания.\n",
    "                            return_tensors = 'pt',     # Вернуть тензоры PyTorch.\n",
    "                    )\n",
    "\n",
    "        # Добавляем закодированное предложение в список.\n",
    "        input_ids.append(encoded_dict['input_ids'])\n",
    "\n",
    "        # А также его маску внимания (просто отличает заполнение от незаполненного).\n",
    "        attention_masks.append(encoded_dict['attention_mask'])\n",
    "\n",
    "    # Возвращаем списки тензоров для input_ids и attention_masks.\n",
    "    return input_ids, attention_masks"
   ]
  },
  {
   "cell_type": "markdown",
   "metadata": {},
   "source": [
    "перекодируем и приготовим наши списки к дальнейшему превращению в тензорные датасеты"
   ]
  },
  {
   "cell_type": "code",
   "execution_count": 13,
   "metadata": {},
   "outputs": [
    {
     "name": "stderr",
     "output_type": "stream",
     "text": [
      "Truncation was not explicitly activated but `max_length` is provided a specific value, please use `truncation=True` to explicitly truncate examples to max length. Defaulting to 'longest_first' truncation strategy. If you encode pairs of sequences (GLUE-style) with the tokenizer you can select this strategy more precisely by providing a specific strategy to `truncation`.\n",
      "/home/vlamykin/git/NLP_OTUS_2023/env/lib/python3.10/site-packages/transformers/tokenization_utils_base.py:2614: FutureWarning: The `pad_to_max_length` argument is deprecated and will be removed in a future version, use `padding=True` or `padding='longest'` to pad to the longest sequence in the batch, or use `padding='max_length'` to pad to a max length. In this case, you can give a specific length with `max_length` (e.g. `max_length=45`) or leave max_length to None to pad to the maximal input size of the model (e.g. 512 for Bert).\n",
      "  warnings.warn(\n"
     ]
    },
    {
     "name": "stdout",
     "output_type": "stream",
     "text": [
      "Исходное предложение:  Вдруг решетка беззвучно поехала в сторону, и на балконе возникла таинственная фигура, прячущаяся от лунного света, и погрозила Ивану пальцем.\n",
      "Идентификаторы слов: tensor([   101,   3014,  83321,  41548,  32350,    113,   2931,    121,    107,\n",
      "           660,  50354,  13779,  99183,  15226,    121,  94376,  19913,    700,\n",
      "         55918,   6412,    121,    107,  95640,    377, 104691,    717,  11420,\n",
      "           126,    102,      0,      0,      0,      0,      0,      0,      0,\n",
      "             0,      0,      0,      0,      0,      0,      0,      0,      0,\n",
      "             0,      0,      0,      0,      0,      0,      0,      0,      0,\n",
      "             0,      0,      0,      0,      0,      0,      0,      0,      0,\n",
      "             0])\n"
     ]
    }
   ],
   "source": [
    "# Токенизируем все предложения и сопоставляем токены их идентификаторам слов.\n",
    "train_input_ids, train_attention_masks = encode(train_sentences,tokenizer)\n",
    "test_input_ids, test_attention_masks = encode(test_sentences,tokenizer)\n",
    "\n",
    "# Преобразуем списки в тензоры.\n",
    "train_input_ids = torch.cat(train_input_ids, dim=0)\n",
    "train_attention_masks = torch.cat(train_attention_masks, dim=0)\n",
    "train_labels = torch.tensor(train_labels)\n",
    "\n",
    "test_input_ids = torch.cat(test_input_ids, dim=0)\n",
    "test_attention_masks = torch.cat(test_attention_masks, dim=0)\n",
    "test_labels = torch.tensor(test_labels)\n",
    "\n",
    "# Выводим первое предложение как список идентификаторов слов.\n",
    "print('Исходное предложение: ', train_sentences[0])\n",
    "print('Идентификаторы слов:', train_input_ids[0])"
   ]
  },
  {
   "cell_type": "markdown",
   "metadata": {},
   "source": [
    "сделаем тренировочный, валидационный тензоры и приготовим тензор на котором будем тестировать"
   ]
  },
  {
   "cell_type": "code",
   "execution_count": 14,
   "metadata": {},
   "outputs": [
    {
     "name": "stdout",
     "output_type": "stream",
     "text": [
      "7,082 образцов для обучения\n",
      "  787 образцов для валидации\n"
     ]
    }
   ],
   "source": [
    "# Создаем TensorDataset из тензоров train_input_ids, train_attention_masks и train_labels.\n",
    "dataset = TensorDataset(train_input_ids, train_attention_masks, train_labels)\n",
    "\n",
    "# Создаем разделение данных на обучающую и валидационную выборки в пропорции 90-10.\n",
    "# Вычисляем количество образцов в каждом наборе.\n",
    "train_size = int(0.9 * len(dataset))\n",
    "val_size = len(dataset) - train_size\n",
    "\n",
    "# Делим набор данных, случайным образом выбирая образцы.\n",
    "train_dataset, val_dataset = random_split(dataset, [train_size, val_size])\n",
    "\n",
    "# Выводим информацию о количестве образцов в обучающей и валидационной выборках.\n",
    "print('{:>5,} образцов для обучения'.format(train_size))\n",
    "print('{:>5,} образцов для валидации'.format(val_size))\n",
    "\n",
    "# Создаем TensorDataset для тестовых данных.\n",
    "test_dataset = TensorDataset(test_input_ids, test_attention_masks, test_labels)\n"
   ]
  },
  {
   "cell_type": "markdown",
   "metadata": {},
   "source": [
    "приготовим даталоадеры для удобства обучения"
   ]
  },
  {
   "cell_type": "code",
   "execution_count": 15,
   "metadata": {},
   "outputs": [],
   "source": [
    "# DataLoader должен знать размер нашего батча для обучения, поэтому мы указываем его здесь.\n",
    "# При fine-tuning BERT на конкретной задаче авторы рекомендуют размер батча 16 или 32.\n",
    "batch_size = 32\n",
    "\n",
    "# Создаем DataLoaders для наших обучающих и валидационных наборов данных.\n",
    "# Образцы для обучения будем брать в случайном порядке.\n",
    "train_dataloader = DataLoader(\n",
    "            train_dataset,  # Обучающие образцы.\n",
    "            sampler = RandomSampler(train_dataset), # Выбираем батчи случайным образом.\n",
    "            batch_size = batch_size # Обучение с этим размером батча.\n",
    "        )\n",
    "\n",
    "# Для валидации порядок не имеет значения, поэтому мы просто читаем их последовательно.\n",
    "validation_dataloader = DataLoader(\n",
    "            val_dataset, # Валидационные образцы.\n",
    "            sampler = SequentialSampler(val_dataset), # Извлекаем батчи последовательно.\n",
    "            batch_size = batch_size # Оценка с этим размером батча.\n",
    "        )\n",
    "\n",
    "# DataLoader для тестовых данных.\n",
    "test_dataloader = DataLoader(\n",
    "            test_dataset, # Тестовые образцы.\n",
    "            sampler = SequentialSampler(test_dataset), # Извлекаем батчи последовательно.\n",
    "            batch_size = batch_size # Оценка с этим размером батча.\n",
    "        )"
   ]
  },
  {
   "cell_type": "markdown",
   "metadata": {},
   "source": [
    "подгрузим модель и перенесем ее на графические ядра"
   ]
  },
  {
   "cell_type": "code",
   "execution_count": 16,
   "metadata": {},
   "outputs": [
    {
     "name": "stderr",
     "output_type": "stream",
     "text": [
      "Some weights of BertForSequenceClassification were not initialized from the model checkpoint at ai-forever/ruBert-base and are newly initialized: ['classifier.weight', 'classifier.bias']\n",
      "You should probably TRAIN this model on a down-stream task to be able to use it for predictions and inference.\n"
     ]
    },
    {
     "data": {
      "text/plain": [
       "BertForSequenceClassification(\n",
       "  (bert): BertModel(\n",
       "    (embeddings): BertEmbeddings(\n",
       "      (word_embeddings): Embedding(120138, 768, padding_idx=0)\n",
       "      (position_embeddings): Embedding(512, 768)\n",
       "      (token_type_embeddings): Embedding(2, 768)\n",
       "      (LayerNorm): LayerNorm((768,), eps=1e-12, elementwise_affine=True)\n",
       "      (dropout): Dropout(p=0.1, inplace=False)\n",
       "    )\n",
       "    (encoder): BertEncoder(\n",
       "      (layer): ModuleList(\n",
       "        (0-11): 12 x BertLayer(\n",
       "          (attention): BertAttention(\n",
       "            (self): BertSelfAttention(\n",
       "              (query): Linear(in_features=768, out_features=768, bias=True)\n",
       "              (key): Linear(in_features=768, out_features=768, bias=True)\n",
       "              (value): Linear(in_features=768, out_features=768, bias=True)\n",
       "              (dropout): Dropout(p=0.1, inplace=False)\n",
       "            )\n",
       "            (output): BertSelfOutput(\n",
       "              (dense): Linear(in_features=768, out_features=768, bias=True)\n",
       "              (LayerNorm): LayerNorm((768,), eps=1e-12, elementwise_affine=True)\n",
       "              (dropout): Dropout(p=0.1, inplace=False)\n",
       "            )\n",
       "          )\n",
       "          (intermediate): BertIntermediate(\n",
       "            (dense): Linear(in_features=768, out_features=3072, bias=True)\n",
       "            (intermediate_act_fn): GELUActivation()\n",
       "          )\n",
       "          (output): BertOutput(\n",
       "            (dense): Linear(in_features=3072, out_features=768, bias=True)\n",
       "            (LayerNorm): LayerNorm((768,), eps=1e-12, elementwise_affine=True)\n",
       "            (dropout): Dropout(p=0.1, inplace=False)\n",
       "          )\n",
       "        )\n",
       "      )\n",
       "    )\n",
       "    (pooler): BertPooler(\n",
       "      (dense): Linear(in_features=768, out_features=768, bias=True)\n",
       "      (activation): Tanh()\n",
       "    )\n",
       "  )\n",
       "  (dropout): Dropout(p=0.1, inplace=False)\n",
       "  (classifier): Linear(in_features=768, out_features=4, bias=True)\n",
       ")"
      ]
     },
     "execution_count": 16,
     "metadata": {},
     "output_type": "execute_result"
    }
   ],
   "source": [
    "# Загружаем BertForSequenceClassification, предобученную модель BERT с одним\n",
    "# линейным слоем классификации сверху.\n",
    "model = BertForSequenceClassification.from_pretrained(\n",
    "    model_name,       # Используем 12-слойную модель BERT с uncased словарем.\n",
    "    num_labels=4,      # Количество выходных меток -- 2 для бинарной классификации.\n",
    "                       # Можно увеличить для многоклассовых задач.\n",
    "    output_attentions=False,    # Возвращает ли модель веса внимания.\n",
    "    output_hidden_states=False, # Возвращает ли модель все скрытые состояния.\n",
    ")\n",
    "\n",
    "# Указываем PyTorch использовать GPU для выполнения этой модели.\n",
    "model.cuda()"
   ]
  },
  {
   "cell_type": "markdown",
   "metadata": {},
   "source": [
    "посмотрим на параметры берта "
   ]
  },
  {
   "cell_type": "code",
   "execution_count": 17,
   "metadata": {},
   "outputs": [
    {
     "name": "stdout",
     "output_type": "stream",
     "text": [
      "У модели BERT 201 различных именованных параметров.\n",
      "\n",
      "==== Слой вложения ====\n",
      "\n",
      "bert.embeddings.word_embeddings.weight                  (120138, 768)\n",
      "bert.embeddings.position_embeddings.weight                (512, 768)\n",
      "bert.embeddings.token_type_embeddings.weight                (2, 768)\n",
      "bert.embeddings.LayerNorm.weight                              (768,)\n",
      "bert.embeddings.LayerNorm.bias                                (768,)\n",
      "\n",
      "==== Первый трансформер ====\n",
      "\n",
      "bert.encoder.layer.0.attention.self.query.weight          (768, 768)\n",
      "bert.encoder.layer.0.attention.self.query.bias                (768,)\n",
      "bert.encoder.layer.0.attention.self.key.weight            (768, 768)\n",
      "bert.encoder.layer.0.attention.self.key.bias                  (768,)\n",
      "bert.encoder.layer.0.attention.self.value.weight          (768, 768)\n",
      "bert.encoder.layer.0.attention.self.value.bias                (768,)\n",
      "bert.encoder.layer.0.attention.output.dense.weight        (768, 768)\n",
      "bert.encoder.layer.0.attention.output.dense.bias              (768,)\n",
      "bert.encoder.layer.0.attention.output.LayerNorm.weight        (768,)\n",
      "bert.encoder.layer.0.attention.output.LayerNorm.bias          (768,)\n",
      "bert.encoder.layer.0.intermediate.dense.weight           (3072, 768)\n",
      "bert.encoder.layer.0.intermediate.dense.bias                 (3072,)\n",
      "bert.encoder.layer.0.output.dense.weight                 (768, 3072)\n",
      "bert.encoder.layer.0.output.dense.bias                        (768,)\n",
      "bert.encoder.layer.0.output.LayerNorm.weight                  (768,)\n",
      "bert.encoder.layer.0.output.LayerNorm.bias                    (768,)\n",
      "\n",
      "==== Выходной слой ====\n",
      "\n",
      "bert.pooler.dense.weight                                  (768, 768)\n",
      "bert.pooler.dense.bias                                        (768,)\n",
      "classifier.weight                                           (4, 768)\n",
      "classifier.bias                                                 (4,)\n"
     ]
    }
   ],
   "source": [
    "# Получаем все параметры модели в виде списка кортежей.\n",
    "params = list(model.named_parameters())\n",
    "\n",
    "print('У модели BERT {:} различных именованных параметров.\\n'.format(len(params)))\n",
    "\n",
    "print('==== Слой вложения ====\\n')\n",
    "\n",
    "# Выводим размерности параметров для слоя вложения.\n",
    "for p in params[0:5]:\n",
    "    print(\"{:<55} {:>12}\".format(p[0], str(tuple(p[1].size()))))\n",
    "\n",
    "print('\\n==== Первый трансформер ====\\n')\n",
    "\n",
    "# Выводим размерности параметров для первого трансформера.\n",
    "for p in params[5:21]:\n",
    "    print(\"{:<55} {:>12}\".format(p[0], str(tuple(p[1].size()))))\n",
    "\n",
    "print('\\n==== Выходной слой ====\\n')\n",
    "\n",
    "# Выводим размерности параметров для выходного слоя.\n",
    "for p in params[-4:]:\n",
    "    print(\"{:<55} {:>12}\".format(p[0], str(tuple(p[1].size()))))\n"
   ]
  },
  {
   "cell_type": "markdown",
   "metadata": {},
   "source": [
    "зададим оптимизатор"
   ]
  },
  {
   "cell_type": "code",
   "execution_count": 18,
   "metadata": {},
   "outputs": [
    {
     "name": "stderr",
     "output_type": "stream",
     "text": [
      "/home/vlamykin/git/NLP_OTUS_2023/env/lib/python3.10/site-packages/transformers/optimization.py:411: FutureWarning: This implementation of AdamW is deprecated and will be removed in a future version. Use the PyTorch implementation torch.optim.AdamW instead, or set `no_deprecation_warning=True` to disable this warning\n",
      "  warnings.warn(\n"
     ]
    }
   ],
   "source": [
    "# Примечание: AdamW - это класс из библиотеки huggingface (в отличие от pytorch)\n",
    "# Вероятно, 'W' означает 'Weight Decay fix' (исправление весового распада, что есть не очень понятно по звучанию).\n",
    "\n",
    "# Инициализируем оптимизатор AdamW.\n",
    "optimizer = AdamW(model.parameters(),\n",
    "                  lr=2e-5,   # Скорость обучения - по умолчанию 5e-5, в нашем случае 2e-5.\n",
    "                  eps=1e-8   # Epsilon для Adam - по умолчанию 1e-8.\n",
    "                )\n",
    "\n"
   ]
  },
  {
   "cell_type": "markdown",
   "metadata": {},
   "source": [
    "зададим параметры обучения"
   ]
  },
  {
   "cell_type": "code",
   "execution_count": 19,
   "metadata": {},
   "outputs": [],
   "source": [
    "# Количество эпох обучения. Авторы BERT рекомендуют от 2 до 4 эпох.\n",
    "# Мы выбрали 4, но позже увидим, что это может привести к переобучению.\n",
    "\n",
    "epochs = 4\n",
    "\n",
    "# Общее количество шагов обучения - [количество батчей] x [количество эпох].\n",
    "# (Обратите внимание, что это не то же самое, что количество обучающих образцов).\n",
    "total_steps = len(train_dataloader) * epochs\n",
    "\n",
    "# Создаем планировщик скорости обучения.\n",
    "scheduler = get_linear_schedule_with_warmup(optimizer,\n",
    "                                            num_warmup_steps=0, # Значение по умолчанию в run_glue.py.\n",
    "                                            num_training_steps=total_steps)\n"
   ]
  },
  {
   "cell_type": "code",
   "execution_count": 20,
   "metadata": {},
   "outputs": [],
   "source": [
    "# Функция для вычисления точности наших предсказаний по сравнению с метками.\n",
    "def flat_accuracy(preds, labels):\n",
    "    pred_flat = np.argmax(preds, axis=1).flatten()\n",
    "    labels_flat = labels.flatten()\n",
    "    return np.sum(pred_flat == labels_flat) / len(labels_flat)"
   ]
  },
  {
   "cell_type": "code",
   "execution_count": 21,
   "metadata": {},
   "outputs": [],
   "source": [
    "def format_time(elapsed):\n",
    "    '''\n",
    "    Принимает время в секундах и возвращает строку в формате чч:мм:сс.\n",
    "    '''\n",
    "    # Округляем до ближайшей секунды.\n",
    "    elapsed_rounded = int(round(elapsed))\n",
    "\n",
    "    # Форматируем как чч:мм:сс\n",
    "    return str(datetime.timedelta(seconds=elapsed_rounded))\n"
   ]
  },
  {
   "cell_type": "markdown",
   "metadata": {},
   "source": [
    "обучим модельку"
   ]
  },
  {
   "cell_type": "code",
   "execution_count": 22,
   "metadata": {},
   "outputs": [
    {
     "name": "stdout",
     "output_type": "stream",
     "text": [
      "\n",
      "======== Эпоха 1 / 4 ========\n",
      "Обучение...\n",
      "  Батч    40  из    222.    Затраченное время: 0:00:14.\n",
      "  Батч    80  из    222.    Затраченное время: 0:00:28.\n",
      "  Батч   120  из    222.    Затраченное время: 0:00:41.\n",
      "  Батч   160  из    222.    Затраченное время: 0:00:55.\n",
      "  Батч   200  из    222.    Затраченное время: 0:01:09.\n",
      "\n",
      "  Средняя обучающая потеря: 0.55\n",
      "  Эпоха обучения заняла: 0:01:16\n",
      "\n",
      "Запуск валидации...\n",
      "  Точность: 0.80\n",
      "  Потери валидации: 0.47\n",
      "  Валидация заняла: 0:00:03\n",
      "\n",
      "======== Эпоха 2 / 4 ========\n",
      "Обучение...\n",
      "  Батч    40  из    222.    Затраченное время: 0:00:14.\n",
      "  Батч    80  из    222.    Затраченное время: 0:00:28.\n",
      "  Батч   120  из    222.    Затраченное время: 0:00:43.\n",
      "  Батч   160  из    222.    Затраченное время: 0:00:59.\n",
      "  Батч   200  из    222.    Затраченное время: 0:01:14.\n",
      "\n",
      "  Средняя обучающая потеря: 0.35\n",
      "  Эпоха обучения заняла: 0:01:22\n",
      "\n",
      "Запуск валидации...\n",
      "  Точность: 0.80\n",
      "  Потери валидации: 0.47\n",
      "  Валидация заняла: 0:00:03\n",
      "\n",
      "======== Эпоха 3 / 4 ========\n",
      "Обучение...\n",
      "  Батч    40  из    222.    Затраченное время: 0:00:16.\n",
      "  Батч    80  из    222.    Затраченное время: 0:00:31.\n",
      "  Батч   120  из    222.    Затраченное время: 0:00:47.\n",
      "  Батч   160  из    222.    Затраченное время: 0:01:03.\n",
      "  Батч   200  из    222.    Затраченное время: 0:01:19.\n",
      "\n",
      "  Средняя обучающая потеря: 0.21\n",
      "  Эпоха обучения заняла: 0:01:27\n",
      "\n",
      "Запуск валидации...\n",
      "  Точность: 0.80\n",
      "  Потери валидации: 0.60\n",
      "  Валидация заняла: 0:00:03\n",
      "\n",
      "======== Эпоха 4 / 4 ========\n",
      "Обучение...\n",
      "  Батч    40  из    222.    Затраченное время: 0:00:16.\n",
      "  Батч    80  из    222.    Затраченное время: 0:00:32.\n",
      "  Батч   120  из    222.    Затраченное время: 0:00:48.\n",
      "  Батч   160  из    222.    Затраченное время: 0:01:04.\n",
      "  Батч   200  из    222.    Затраченное время: 0:01:20.\n",
      "\n",
      "  Средняя обучающая потеря: 0.13\n",
      "  Эпоха обучения заняла: 0:01:29\n",
      "\n",
      "Запуск валидации...\n",
      "  Точность: 0.81\n",
      "  Потери валидации: 0.67\n",
      "  Валидация заняла: 0:00:03\n",
      "\n",
      "Обучение завершено!\n",
      "Всего обучение заняло 0:05:46 (ч:м:с)\n"
     ]
    }
   ],
   "source": [
    "# Этот код обучения основан на скрипте `run_glue.py` здесь:\n",
    "# https://github.com/huggingface/transformers/blob/5bfcd0485ece086ebcbed2d008813037968a9e58/examples/run_glue.py#L128\n",
    "\n",
    "# Устанавливаем значение seed для воспроизводимости.\n",
    "seed_val = 42\n",
    "\n",
    "random.seed(seed_val)\n",
    "np.random.seed(seed_val)\n",
    "torch.manual_seed(seed_val)\n",
    "torch.cuda.manual_seed_all(seed_val)\n",
    "\n",
    "# Будем хранить несколько показателей, таких как обучающая и валидационная ошибка,\n",
    "# точность валидации и затраченное время.\n",
    "training_stats = []\n",
    "\n",
    "# Измерим общее время обучения для всего запуска.\n",
    "total_t0 = time.time()\n",
    "\n",
    "# Для каждой эпохи...\n",
    "for epoch_i in range(0, epochs):\n",
    "\n",
    "    # ========================================\n",
    "    #               Обучение\n",
    "    # ========================================\n",
    "\n",
    "    # Выполняем один полный проход по обучающему набору.\n",
    "\n",
    "    print(\"\")\n",
    "    print('======== Эпоха {:} / {:} ========'.format(epoch_i + 1, epochs))\n",
    "    print('Обучение...')\n",
    "\n",
    "    # Измеряем время обучения эпохи.\n",
    "    t0 = time.time()\n",
    "\n",
    "    # Сбрасываем общую ошибку для этой эпохи.\n",
    "    total_train_loss = 0\n",
    "\n",
    "    # Переводим модель в режим обучения. Не путайтесь -- вызов\n",
    "    # `train` просто изменяет *режим*, он не выполняет *обучение*.\n",
    "    # `dropout` и `batchnorm` ведут себя по-разному во время обучения\n",
    "    # по сравнению с тестированием (источник: https://stackoverflow.com/questions/51433378/what-does-model-train-do-in-pytorch)\n",
    "    model.train()\n",
    "\n",
    "    # Для каждого батча обучающих данных...\n",
    "    for step, batch in enumerate(train_dataloader):\n",
    "\n",
    "        # Обновление каждые 40 батчей.\n",
    "        if step % 40 == 0 and not step == 0:\n",
    "            # Вычисляем прошедшее время в минутах.\n",
    "            elapsed = format_time(time.time() - t0)\n",
    "\n",
    "            # Сообщаем о ходе выполнения.\n",
    "            print('  Батч {:>5,}  из  {:>5,}.    Затраченное время: {:}.'.format(step, len(train_dataloader), elapsed))\n",
    "\n",
    "        # Распаковываем этот батч из нашего загрузчика данных.\n",
    "        #\n",
    "        # При распаковке батча мы также копируем каждый тензор на GPU, используя\n",
    "        # метод `to`.\n",
    "        #\n",
    "        # `batch` содержит три тензора PyTorch:\n",
    "        #   [0]: идентификаторы входа\n",
    "        #   [1]: маски внимания\n",
    "        #   [2]: метки\n",
    "        b_input_ids = batch[0].to(device)\n",
    "        b_input_mask = batch[1].to(device)\n",
    "        b_labels = batch[2].to(device)\n",
    "\n",
    "        # Всегда очищаем ранее вычисленные градиенты перед\n",
    "        # выполнением обратного прохода. PyTorch не делает это автоматически,\n",
    "        # потому что накопление градиентов \"удобно при обучении RNN\".\n",
    "        # (источник: https://stackoverflow.com/questions/48001598/why-do-we-need-to-call-zero-grad-in-pytorch)\n",
    "        model.zero_grad()\n",
    "\n",
    "        # Выполняем прямой проход (оцениваем модель на этом обучающем батче).\n",
    "        # Документация по этой функции `model` находится здесь:\n",
    "        # https://huggingface.co/transformers/v2.2.0/model_doc/bert.html#transformers.BertForSequenceClassification\n",
    "        # Она возвращает разное количество параметров в зависимости от того, какие аргументы\n",
    "        # предоставлены и какие флаги установлены. Для нашего использования здесь она возвращает\n",
    "        # потери (поскольку мы предоставили метки) и \"логиты\" - выходные\n",
    "        # значения модели до применения активационной функции, такой как softmax.\n",
    "        res = model(b_input_ids,\n",
    "                             token_type_ids=None,\n",
    "                             attention_mask=b_input_mask,\n",
    "                             labels=b_labels)\n",
    "        loss = res['loss']\n",
    "        logits = res['logits']\n",
    "\n",
    "        # Накапливаем обучающую потерю по всем батчам, чтобы мы могли\n",
    "        # вычислить среднюю потерю в конце. `loss` - это тензор, содержащий одно значение;\n",
    "        # функция `.item()` просто возвращает значение Python из тензора.\n",
    "        total_train_loss += loss.item()\n",
    "\n",
    "        # Выполняем обратный проход для вычисления градиентов.\n",
    "        loss.backward()\n",
    "\n",
    "        # Ограничиваем норму градиентов до 1.0.\n",
    "        # Это помогает предотвратить проблему \"взрывающихся градиентов\".\n",
    "        torch.nn.utils.clip_grad_norm_(model.parameters(), 1.0)\n",
    "\n",
    "        # Обновляем параметры и делаем шаг с использованием вычисленного градиента.\n",
    "        # Оптимизатор определяет \"правило обновления\" - как параметры\n",
    "        # изменяются на основе их градиентов, скорости обучения и т. д.\n",
    "        optimizer.step()\n",
    "\n",
    "        # Обновляем скорость обучения.\n",
    "        scheduler.step()\n",
    "\n",
    "    # Вычисляем среднюю потерю по всем батчам.\n",
    "    avg_train_loss = total_train_loss / len(train_dataloader)\n",
    "\n",
    "    # Измеряем, сколько времени заняла эта эпоха.\n",
    "    training_time = format_time(time.time() - t0)\n",
    "\n",
    "    print(\"\")\n",
    "    print(\"  Средняя обучающая потеря: {0:.2f}\".format(avg_train_loss))\n",
    "    print(\"  Эпоха обучения заняла: {:}\".format(training_time))\n",
    "\n",
    "    # ========================================\n",
    "    #               Валидация\n",
    "    # ========================================\n",
    "    # После завершения каждой обучающей эпохи измеряем нашу производительность\n",
    "    # на валидационном наборе данных.\n",
    "\n",
    "    print(\"\")\n",
    "    print(\"Запуск валидации...\")\n",
    "\n",
    "    t0 = time.time()\n",
    "\n",
    "    # Переводим модель в режим оценки - слои dropout ведут себя по-другому\n",
    "    # во время оценки.\n",
    "    model.eval()\n",
    "\n",
    "    # Переменные для отслеживания\n",
    "    total_eval_accuracy = 0\n",
    "    total_eval_loss = 0\n",
    "    nb_eval_steps = 0\n",
    "\n",
    "    # Оцениваем данные для одной эпохи.\n",
    "    for batch in validation_dataloader:\n",
    "\n",
    "        # Распаковываем этот батч из нашего загрузчика данных.\n",
    "        #\n",
    "        # При распаковке батча мы также копируем каждый тензор на GPU с использованием\n",
    "        # метода `to`.\n",
    "        #\n",
    "        # `batch` содержит три тензора PyTorch:\n",
    "        #   [0]: идентификаторы входа\n",
    "        #   [1]: маски внимания\n",
    "        #   [2]: метки\n",
    "        b_input_ids = batch[0].to(device)\n",
    "        b_input_mask = batch[1].to(device)\n",
    "        b_labels = batch[2].to(device)\n",
    "\n",
    "        # Говорим PyTorch не беспокоиться о построении вычислительного графа\n",
    "        # во время прямого прохода, поскольку это нужно только для обратного\n",
    "        # распространения (обучение).\n",
    "        with torch.no_grad():\n",
    "\n",
    "            # Прямой проход, вычисляем прогнозы логитов.\n",
    "            # token_type_ids - это то же самое, что и \"segment ids\", которые\n",
    "            # различают предложения 1 и 2 в 2-предложных задачах.\n",
    "            # Документация по этой функции `model` находится здесь:\n",
    "            # https://huggingface.co/transformers/v2.2.0/model_doc/bert.html#transformers.BertForSequenceClassification\n",
    "            # Получаем \"логиты\", выводимые моделью перед применением активационной функции, такой как softmax.\n",
    "            res = model(b_input_ids,\n",
    "                                   token_type_ids=None,\n",
    "                                   attention_mask=b_input_mask,\n",
    "                                   labels=b_labels)\n",
    "        loss = res['loss']\n",
    "        logits = res['logits']\n",
    "\n",
    "        # Накапливаем потери валидации.\n",
    "        total_eval_loss += loss.item()\n",
    "\n",
    "        # Перемещаем логиты и метки на CPU\n",
    "        logits = logits.detach().cpu().numpy()\n",
    "        label_ids = b_labels.to('cpu').numpy()\n",
    "\n",
    "        # Вычисляем точность для этого батча тестовых предложений и\n",
    "        # накапливаем ее по всем батчам.\n",
    "        total_eval_accuracy += flat_accuracy(logits, label_ids)\n",
    "\n",
    "    # Сообщаем конечную точность для этого прогона валидации.\n",
    "    avg_val_accuracy = total_eval_accuracy / len(validation_dataloader)\n",
    "    print(\"  Точность: {0:.2f}\".format(avg_val_accuracy))\n",
    "\n",
    "    # Вычисляем средние потери по всем батчам.\n",
    "    avg_val_loss = total_eval_loss / len(validation_dataloader)\n",
    "\n",
    "    # Измеряем, сколько времени занял этот прогон валидации.\n",
    "    validation_time = format_time(time.time() - t0)\n",
    "\n",
    "    print(\"  Потери валидации: {0:.2f}\".format(avg_val_loss))\n",
    "    print(\"  Валидация заняла: {:}\".format(validation_time))\n",
    "\n",
    "    # Записываем все статистические данные из этой эпохи.\n",
    "    training_stats.append(\n",
    "        {\n",
    "            'epoch': epoch_i + 1,\n",
    "            'Обучающая потеря': avg_train_loss,\n",
    "            'Потери на валидации': avg_val_loss,\n",
    "            'Точность на валидации': avg_val_accuracy,\n",
    "            'Время обучения': training_time,\n",
    "            'Время валидации': validation_time\n",
    "        }\n",
    "    )\n",
    "\n",
    "print(\"\")\n",
    "print(\"Обучение завершено!\")\n",
    "\n",
    "print(\"Всего обучение заняло {:} (ч:м:с)\".format(format_time(time.time()-total_t0)))\n"
   ]
  },
  {
   "cell_type": "markdown",
   "metadata": {},
   "source": [
    "посмотрим на качество модели и время её обучения"
   ]
  },
  {
   "cell_type": "code",
   "execution_count": 23,
   "metadata": {},
   "outputs": [
    {
     "data": {
      "text/html": [
       "<div>\n",
       "<style scoped>\n",
       "    .dataframe tbody tr th:only-of-type {\n",
       "        vertical-align: middle;\n",
       "    }\n",
       "\n",
       "    .dataframe tbody tr th {\n",
       "        vertical-align: top;\n",
       "    }\n",
       "\n",
       "    .dataframe thead th {\n",
       "        text-align: right;\n",
       "    }\n",
       "</style>\n",
       "<table border=\"1\" class=\"dataframe\">\n",
       "  <thead>\n",
       "    <tr style=\"text-align: right;\">\n",
       "      <th></th>\n",
       "      <th>Обучающая потеря</th>\n",
       "      <th>Потери на валидации</th>\n",
       "      <th>Точность на валидации</th>\n",
       "      <th>Время обучения</th>\n",
       "      <th>Время валидации</th>\n",
       "    </tr>\n",
       "    <tr>\n",
       "      <th>epoch</th>\n",
       "      <th></th>\n",
       "      <th></th>\n",
       "      <th></th>\n",
       "      <th></th>\n",
       "      <th></th>\n",
       "    </tr>\n",
       "  </thead>\n",
       "  <tbody>\n",
       "    <tr>\n",
       "      <th>1</th>\n",
       "      <td>0.545811</td>\n",
       "      <td>0.470885</td>\n",
       "      <td>0.800329</td>\n",
       "      <td>0:01:16</td>\n",
       "      <td>0:00:03</td>\n",
       "    </tr>\n",
       "    <tr>\n",
       "      <th>2</th>\n",
       "      <td>0.352870</td>\n",
       "      <td>0.468839</td>\n",
       "      <td>0.804079</td>\n",
       "      <td>0:01:22</td>\n",
       "      <td>0:00:03</td>\n",
       "    </tr>\n",
       "    <tr>\n",
       "      <th>3</th>\n",
       "      <td>0.214832</td>\n",
       "      <td>0.595731</td>\n",
       "      <td>0.802829</td>\n",
       "      <td>0:01:27</td>\n",
       "      <td>0:00:03</td>\n",
       "    </tr>\n",
       "    <tr>\n",
       "      <th>4</th>\n",
       "      <td>0.128987</td>\n",
       "      <td>0.672567</td>\n",
       "      <td>0.808684</td>\n",
       "      <td>0:01:29</td>\n",
       "      <td>0:00:03</td>\n",
       "    </tr>\n",
       "  </tbody>\n",
       "</table>\n",
       "</div>"
      ],
      "text/plain": [
       "       Обучающая потеря  Потери на валидации  Точность на валидации  \\\n",
       "epoch                                                                 \n",
       "1              0.545811             0.470885               0.800329   \n",
       "2              0.352870             0.468839               0.804079   \n",
       "3              0.214832             0.595731               0.802829   \n",
       "4              0.128987             0.672567               0.808684   \n",
       "\n",
       "      Время обучения Время валидации  \n",
       "epoch                                 \n",
       "1            0:01:16         0:00:03  \n",
       "2            0:01:22         0:00:03  \n",
       "3            0:01:27         0:00:03  \n",
       "4            0:01:29         0:00:03  "
      ]
     },
     "execution_count": 23,
     "metadata": {},
     "output_type": "execute_result"
    }
   ],
   "source": [
    "# Отображаем числа с двумя десятичными знаками.\n",
    "#pd.set_option('precision', 2)\n",
    "\n",
    "# Создаем DataFrame из наших статистических данных обучения.\n",
    "df_stats = pd.DataFrame(data=training_stats)\n",
    "\n",
    "# Используем 'epoch' в качестве индекса строк.\n",
    "df_stats = df_stats.set_index('epoch')\n",
    "\n",
    "# Хак для принудительного переноса заголовков столбцов.\n",
    "#df = df.style.set_table_styles([dict(selector=\"th\",props=[('max-width', '70px')])])\n",
    "\n",
    "# Отображаем таблицу.\n",
    "df_stats\n"
   ]
  },
  {
   "cell_type": "markdown",
   "metadata": {},
   "source": [
    "отрисуем лосс для обучающей и валидационной выборки на эпохах"
   ]
  },
  {
   "cell_type": "code",
   "execution_count": 24,
   "metadata": {},
   "outputs": [
    {
     "data": {
      "image/png": "[encoded data removed]",
      "text/plain": [
       "<Figure size 1200x600 with 1 Axes>"
      ]
     },
     "metadata": {},
     "output_type": "display_data"
    }
   ],
   "source": [
    "# Используем стиль для графиков от seaborn.\n",
    "sns.set(style='darkgrid')\n",
    "\n",
    "# Увеличиваем размер графика и размер шрифта.\n",
    "sns.set(font_scale=1.5)\n",
    "plt.rcParams[\"figure.figsize\"] = (12,6)\n",
    "\n",
    "# Рисуем кривую обучения.\n",
    "plt.plot(df_stats['Обучающая потеря'], 'b-o', label=\"Обучение\")\n",
    "plt.plot(df_stats['Потери на валидации'], 'g-o', label=\"Валидация\")\n",
    "\n",
    "# Даем название графику.\n",
    "plt.title(\"Обучение и потери на валидации\")\n",
    "plt.xlabel(\"Эпоха\")\n",
    "plt.ylabel(\"Потери\")\n",
    "plt.legend()\n",
    "plt.xticks([1, 2, 3, 4])\n",
    "\n",
    "plt.show()\n"
   ]
  },
  {
   "cell_type": "markdown",
   "metadata": {},
   "source": [
    "протеструем модель на тестовом наборе данных, который подгрузили и разбили так же в начале из отдельного файла"
   ]
  },
  {
   "cell_type": "code",
   "execution_count": 25,
   "metadata": {},
   "outputs": [
    {
     "name": "stdout",
     "output_type": "stream",
     "text": [
      "Прогноз меток для 983 тестовых предложений...\n",
      "    ГОТОВО.\n"
     ]
    }
   ],
   "source": [
    "# Прогнозирование на тестовом наборе данных\n",
    "\n",
    "print('Прогноз меток для {:,} тестовых предложений...'.format(len(test_input_ids)))\n",
    "\n",
    "# Переводим модель в режим оценки\n",
    "model.eval()\n",
    "\n",
    "# Переменные для отслеживания\n",
    "predictions , true_labels = [], []\n",
    "\n",
    "# Прогнозируем\n",
    "for batch in test_dataloader:\n",
    "  # Добавляем батч на GPU\n",
    "  batch = tuple(t.to(device) for t in batch)\n",
    "\n",
    "  # Распаковываем входы из нашего загрузчика данных\n",
    "  b_input_ids, b_input_mask, b_labels = batch\n",
    "\n",
    "  # Скажем модели не вычислять или хранить градиенты, экономя память и\n",
    "  # ускоряя прогноз\n",
    "  with torch.no_grad():\n",
    "      # Прямой проход, расчет прогнозов логитов\n",
    "      outputs = model(b_input_ids, token_type_ids=None,\n",
    "                      attention_mask=b_input_mask)\n",
    "\n",
    "  logits = outputs[0]\n",
    "\n",
    "  # Перемещаем логиты и метки на CPU\n",
    "  logits = logits.detach().cpu().numpy()\n",
    "  label_ids = b_labels.to('cpu').numpy()\n",
    "\n",
    "  # Сохраняем прогнозы и истинные метки\n",
    "  predictions.append(logits)\n",
    "  true_labels.append(label_ids)\n",
    "\n",
    "print('    ГОТОВО.')"
   ]
  },
  {
   "cell_type": "markdown",
   "metadata": {},
   "source": [
    "выведем отношение хороших текстов к общему количеству"
   ]
  },
  {
   "cell_type": "code",
   "execution_count": 26,
   "metadata": {},
   "outputs": [
    {
     "name": "stdout",
     "output_type": "stream",
     "text": [
      "Положительные примеры: 733 из 983 (74.57%)\n"
     ]
    }
   ],
   "source": [
    "print('Положительные примеры: %d из %d (%.2f%%)' % (test_df.acceptable.sum(), len(test_df.acceptable), (test_df.acceptable.sum() / len(test_df.acceptable) * 100.0)))"
   ]
  },
  {
   "cell_type": "markdown",
   "metadata": {},
   "source": [
    "посчитаем коэффициент корреляции Мэтьюса для каждого батча"
   ]
  },
  {
   "cell_type": "code",
   "execution_count": 27,
   "metadata": {},
   "outputs": [
    {
     "name": "stdout",
     "output_type": "stream",
     "text": [
      "Расчет коэффициента корреляции Мэтьюса для каждого батча...\n"
     ]
    }
   ],
   "source": [
    "matthews_set = []\n",
    "\n",
    "# Оцениваем каждый тестовый батч с использованием коэффициента корреляции Мэтьюса\n",
    "print('Расчет коэффициента корреляции Мэтьюса для каждого батча...')\n",
    "\n",
    "# Для каждого входного батча...\n",
    "for i in range(len(true_labels)):\n",
    "\n",
    "  # Прогнозы для этого батча - это ndarray из 2 столбцов (один столбец для \"0\"\n",
    "  # и один столбец для \"1\"). Выбираем метку с наивысшим значением и превращаем это\n",
    "  # в список из 0 и 1.\n",
    "  pred_labels_i = np.argmax(predictions[i], axis=1).flatten()\n",
    "\n",
    "  # Рассчитываем и сохраняем коэффициент для этого батча.\n",
    "  matthews = matthews_corrcoef(true_labels[i], pred_labels_i)\n",
    "  matthews_set.append(matthews)\n"
   ]
  },
  {
   "cell_type": "markdown",
   "metadata": {},
   "source": [
    "выведем общий MCC для теста"
   ]
  },
  {
   "cell_type": "code",
   "execution_count": 28,
   "metadata": {},
   "outputs": [
    {
     "name": "stdout",
     "output_type": "stream",
     "text": [
      "Общий MCC: 0.380\n"
     ]
    }
   ],
   "source": [
    "# Объединяем результаты по всем батчам.\n",
    "flat_predictions = np.concatenate(predictions, axis=0)\n",
    "\n",
    "# Для каждого образца выбираем метку (0 или 1) с более высоким значением.\n",
    "flat_predictions = np.argmax(flat_predictions, axis=1).flatten()\n",
    "\n",
    "# Объединяем правильные метки для каждого батча в единый список.\n",
    "flat_true_labels = np.concatenate(true_labels, axis=0)\n",
    "\n",
    "# Рассчитываем коэффициент корреляции Мэтьюса (MCC)\n",
    "mcc = matthews_corrcoef(flat_true_labels, flat_predictions)\n",
    "\n",
    "print('Общий MCC: %.3f' % mcc)\n"
   ]
  },
  {
   "cell_type": "markdown",
   "metadata": {},
   "source": [
    "почистим наш гпу... памяти мало... Очень странно но пока не перегонял на цпу - очистка не шла. и даже после этого она была не полноценной, но лучше чем ничего."
   ]
  },
  {
   "cell_type": "code",
   "execution_count": 29,
   "metadata": {},
   "outputs": [],
   "source": [
    "model_name = \"ai-forever/rugpt3small_based_on_gpt2\"\n",
    "tokenizer = AutoTokenizer.from_pretrained(model_name)\n",
    "model = AutoModelForCausalLM.from_pretrained(model_name)"
   ]
  },
  {
   "cell_type": "code",
   "execution_count": 30,
   "metadata": {},
   "outputs": [
    {
     "data": {
      "text/plain": [
       "GPT2LMHeadModel(\n",
       "  (transformer): GPT2Model(\n",
       "    (wte): Embedding(50264, 768)\n",
       "    (wpe): Embedding(2048, 768)\n",
       "    (drop): Dropout(p=0.1, inplace=False)\n",
       "    (h): ModuleList(\n",
       "      (0-11): 12 x GPT2Block(\n",
       "        (ln_1): LayerNorm((768,), eps=1e-05, elementwise_affine=True)\n",
       "        (attn): GPT2Attention(\n",
       "          (c_attn): Conv1D()\n",
       "          (c_proj): Conv1D()\n",
       "          (attn_dropout): Dropout(p=0.1, inplace=False)\n",
       "          (resid_dropout): Dropout(p=0.1, inplace=False)\n",
       "        )\n",
       "        (ln_2): LayerNorm((768,), eps=1e-05, elementwise_affine=True)\n",
       "        (mlp): GPT2MLP(\n",
       "          (c_fc): Conv1D()\n",
       "          (c_proj): Conv1D()\n",
       "          (act): NewGELUActivation()\n",
       "          (dropout): Dropout(p=0.1, inplace=False)\n",
       "        )\n",
       "      )\n",
       "    )\n",
       "    (ln_f): LayerNorm((768,), eps=1e-05, elementwise_affine=True)\n",
       "  )\n",
       "  (lm_head): Linear(in_features=768, out_features=50264, bias=False)\n",
       ")"
      ]
     },
     "execution_count": 30,
     "metadata": {},
     "output_type": "execute_result"
    }
   ],
   "source": [
    "model.cuda()"
   ]
  },
  {
   "cell_type": "code",
   "execution_count": 31,
   "metadata": {},
   "outputs": [],
   "source": [
    "def calc_loss(phrase: str,\n",
    "                        tokenizer,\n",
    "                        model):\n",
    "\n",
    "    phrase = tokenizer.encode(phrase)\n",
    "    # Если длина фразы 1 токен, то дальше ошибка вылезет :(\n",
    "    if len(phrase) == 1:\n",
    "         phrase.append(tokenizer.eos_token_id)\n",
    "    phrase = torch.tensor(phrase, dtype=torch.long, device=device)\n",
    "    phrase = phrase.unsqueeze(0)  # .repeat(num_samples, 1)\n",
    "    with torch.no_grad():\n",
    "        loss = model(phrase, labels=phrase)\n",
    "\n",
    "    loss[0].item()\n",
    "\n",
    "\n",
    "    return loss[0].item()\n",
    "\n",
    "def get_loss_num(text):\n",
    "    loss = calc_loss(phrase=text, model=model, tokenizer=tokenizer)\n",
    "    return loss"
   ]
  },
  {
   "cell_type": "markdown",
   "metadata": {},
   "source": [
    "сделаем цикл, который проверит few-shot и цикл zero-shot"
   ]
  },
  {
   "cell_type": "code",
   "execution_count": 32,
   "metadata": {},
   "outputs": [
    {
     "name": "stdout",
     "output_type": "stream",
     "text": [
      "Количество few-shot: 0\n",
      "Few-shot текст:\n",
      "     Предложение далее корректное? В Белоруссии либеральные газеты не остались.  Ответ: Нет.\n",
      "Потери: 6.528524875640869\n",
      "\n",
      "Количество few-shot: 1\n",
      "Few-shot текст:\n",
      "     Предложение далее корректное? В Белоруссии либеральные газеты не остались.  Ответ: Нет.\n",
      "     Предложение далее корректное? Иван хочет, чтобы Петр пригласил его к себе.  Ответ: Да.\n",
      "Потери: 4.452184677124023\n",
      "\n",
      "Количество few-shot: 2\n",
      "Few-shot текст:\n",
      "     Предложение далее корректное? В Белоруссии либеральные газеты не остались.  Ответ: Нет.\n",
      "     Предложение далее корректное? Иван хочет, чтобы Петр пригласил его к себе.  Ответ: Да.\n",
      "     Предложение далее корректное? Дубровский назначил Кистеневскую рощу местом свиданья.  Ответ: Да.\n",
      "Потери: 3.756847858428955\n",
      "\n",
      "Количество few-shot: 4\n",
      "Few-shot текст:\n",
      "     Предложение далее корректное? В Белоруссии либеральные газеты не остались.  Ответ: Нет.\n",
      "     Предложение далее корректное? Иван хочет, чтобы Петр пригласил его к себе.  Ответ: Да.\n",
      "     Предложение далее корректное? Дубровский назначил Кистеневскую рощу местом свиданья.  Ответ: Да.\n",
      "     Предложение далее корректное? Сейчас есть занятия по химии, физике.  Ответ: Нет.\n",
      "     Предложение далее корректное? Вечером я дописывал \"Романтиков\".  Ответ: Да.\n",
      "Потери: 3.1091535091400146\n",
      "\n"
     ]
    }
   ],
   "source": [
    "for i in [0, 1, 2, 4]:\n",
    "    random_samples = train_df.sample(n=i+1, random_state=42)\n",
    "\n",
    "    few_shots = \"\"\n",
    "    for index in range(i+1):\n",
    "        answer = \"Да\" if random_samples.iloc[index][\"acceptable\"] == 1 else \"Нет\"\n",
    "        few_shots += f'     Предложение далее корректное? {random_samples.iloc[index][\"sentence\"]}  Ответ: {answer}.\\n'\n",
    "\n",
    "    loss = get_loss_num(few_shots)\n",
    "    print(f'Количество few-shot: {i}\\nFew-shot текст:\\n{few_shots}Потери: {loss}\\n')"
   ]
  },
  {
   "cell_type": "code",
   "execution_count": 33,
   "metadata": {},
   "outputs": [],
   "source": [
    "random_sample=train_df.sample(n=1, random_state=42)\n",
    "sentence=random_sample.iloc[0][\"sentence\"]\n",
    "label=\"Да\" if random_sample.iloc[0][\"acceptable\"] == 1 else \"Нет\"\n",
    "def zero_shot(start,end):\n",
    "    text=start+sentence+end\n",
    "    loss=get_loss_num(text)\n",
    "    print(f\"Текст: {sentence}\\nОн правильный:{label}\\nТекст с затравками: {text}\\nПотери: {loss}\")\n",
    "    "
   ]
  },
  {
   "cell_type": "code",
   "execution_count": 34,
   "metadata": {},
   "outputs": [
    {
     "name": "stdout",
     "output_type": "stream",
     "text": [
      "Текст: В Белоруссии либеральные газеты не остались.\n",
      "Он правильный:Нет\n",
      "Текст с затравками: Это правильно. В Белоруссии либеральные газеты не остались. В точку.\n",
      "Потери: 5.480813980102539\n",
      "Текст: В Белоруссии либеральные газеты не остались.\n",
      "Он правильный:Нет\n",
      "Текст с затравками: 100% В Белоруссии либеральные газеты не остались. )))\n",
      "Потери: 6.629759311676025\n",
      "Текст: В Белоруссии либеральные газеты не остались.\n",
      "Он правильный:Нет\n",
      "Текст с затравками: ))) В Белоруссии либеральные газеты не остались. Это великолепно.\n",
      "Потери: 6.023663520812988\n",
      "Текст: В Белоруссии либеральные газеты не остались.\n",
      "Он правильный:Нет\n",
      "Текст с затравками: Не правильно. В Белоруссии либеральные газеты не остались. Это пичалька.\n",
      "Потери: 4.9911346435546875\n",
      "Текст: В Белоруссии либеральные газеты не остались.\n",
      "Он правильный:Нет\n",
      "Текст с затравками: 100% В Белоруссии либеральные газеты не остались. )))\n",
      "Потери: 6.629759311676025\n",
      "Текст: В Белоруссии либеральные газеты не остались.\n",
      "Он правильный:Нет\n",
      "Текст с затравками: ))) В Белоруссии либеральные газеты не остались. )))\n",
      "Потери: 6.571372985839844\n",
      "Текст: В Белоруссии либеральные газеты не остались.\n",
      "Он правильный:Нет\n",
      "Текст с затравками: Косяк. В Белоруссии либеральные газеты не остались. Эт дно.\n",
      "Потери: 6.1603851318359375\n",
      "Текст: В Белоруссии либеральные газеты не остались.\n",
      "Он правильный:Нет\n",
      "Текст с затравками: Не правильно. В Белоруссии либеральные газеты не остались. Оставляет желать лучшего.\n",
      "Потери: 5.016362190246582\n",
      "Текст: В Белоруссии либеральные газеты не остались.\n",
      "Он правильный:Нет\n",
      "Текст с затравками: 0% В Белоруссии либеральные газеты не остались. (((\n",
      "Потери: 6.440212726593018\n",
      "Текст: В Белоруссии либеральные газеты не остались.\n",
      "Он правильный:Нет\n",
      "Текст с затравками: 100% В Белоруссии либеральные газеты не остались. В точку.\n",
      "Потери: 6.034336090087891\n"
     ]
    }
   ],
   "source": [
    "def generate_random_positive_negative_combinations(num_variations=100):\n",
    "    positive_prefixes = [\n",
    "        \"Это правильно. \",\n",
    "        \"100% \",\n",
    "        \"Блестяще. \",\n",
    "        \"В десятку. \",\n",
    "        \"))) \"\n",
    "    ]\n",
    "\n",
    "    negative_prefixes = [\n",
    "        \"Не правильно. \",\n",
    "        \"Косяк. \",\n",
    "        \"0% \",\n",
    "        \"(((. \",\n",
    "        \"Фейл. \"\n",
    "    ]\n",
    "\n",
    "    positive_suffixes = [\n",
    "        \" Это великолепно.\",\n",
    "        \" )))\",\n",
    "        \" В точку.\",\n",
    "        \" Замечательно!\",\n",
    "        \" В 100-чку!\"\n",
    "    ]\n",
    "\n",
    "    negative_suffixes = [\n",
    "        \" Это пичалька.\",\n",
    "        \" Оставляет желать лучшего.\",\n",
    "        \" (((\",\n",
    "        \" Эт дно.\",\n",
    "        \" Фигня.\"\n",
    "    ]\n",
    "\n",
    "    combinations = []\n",
    "\n",
    "    for _ in range(num_variations):\n",
    "        if random.choice([True, False]):  # Randomly choose positive or negative\n",
    "            prefix = random.choice(positive_prefixes)\n",
    "            suffix = random.choice(positive_suffixes)\n",
    "        else:\n",
    "            prefix = random.choice(negative_prefixes)\n",
    "            suffix = random.choice(negative_suffixes)\n",
    "\n",
    "        combinations.append((prefix, suffix))\n",
    "\n",
    "    return combinations\n",
    "\n",
    "# приготовим пачку комбинаций\n",
    "combinations = generate_random_positive_negative_combinations(100)\n",
    "\n",
    "# бомбанем по ним зирошотом \n",
    "for i, (prefix, suffix) in enumerate(combinations[:10], 1):\n",
    "    zero_shot(prefix,suffix)\n"
   ]
  },
  {
   "cell_type": "markdown",
   "metadata": {},
   "source": [
    "поизучал я t5 питоновский файл. Нет никаких объяснений, гора параметров и решил просто тупо попробовать обучить модельку. К тому же мне очень не понравилось что была выбрана T5ForConditionalGeneration а не T5ForSequenceClassification. Понятно, что это text-to-text model, но!!! не зря же люди голову для классификации придумывали."
   ]
  },
  {
   "cell_type": "code",
   "execution_count": 9,
   "metadata": {},
   "outputs": [
    {
     "name": "stderr",
     "output_type": "stream",
     "text": [
      "Some weights of T5ForSequenceClassification were not initialized from the model checkpoint at ai-forever/ruT5-base and are newly initialized: ['classification_head.dense.weight', 'classification_head.out_proj.bias', 'classification_head.out_proj.weight', 'classification_head.dense.bias']\n",
      "You should probably TRAIN this model on a down-stream task to be able to use it for predictions and inference.\n",
      "Special tokens have been added in the vocabulary, make sure the associated word embeddings are fine-tuned or trained.\n",
      "/home/vlamykin/git/NLP_OTUS_2023/env/lib/python3.10/site-packages/transformers/optimization.py:411: FutureWarning: This implementation of AdamW is deprecated and will be removed in a future version. Use the PyTorch implementation torch.optim.AdamW instead, or set `no_deprecation_warning=True` to disable this warning\n",
      "  warnings.warn(\n"
     ]
    }
   ],
   "source": [
    "model_name = \"ai-forever/ruT5-base\"\n",
    "model = T5ForSequenceClassification.from_pretrained(model_name, num_labels=2)\n",
    "tokenizer = T5Tokenizer.from_pretrained(model_name)\n",
    "model.to(device)\n",
    "optimizer = AdamW(model.parameters(), lr=5e-5)"
   ]
  },
  {
   "cell_type": "code",
   "execution_count": 10,
   "metadata": {},
   "outputs": [
    {
     "name": "stderr",
     "output_type": "stream",
     "text": [
      "Truncation was not explicitly activated but `max_length` is provided a specific value, please use `truncation=True` to explicitly truncate examples to max length. Defaulting to 'longest_first' truncation strategy. If you encode pairs of sequences (GLUE-style) with the tokenizer you can select this strategy more precisely by providing a specific strategy to `truncation`.\n",
      "/home/vlamykin/git/NLP_OTUS_2023/env/lib/python3.10/site-packages/transformers/tokenization_utils_base.py:2614: FutureWarning: The `pad_to_max_length` argument is deprecated and will be removed in a future version, use `padding=True` or `padding='longest'` to pad to the longest sequence in the batch, or use `padding='max_length'` to pad to a max length. In this case, you can give a specific length with `max_length` (e.g. `max_length=45`) or leave max_length to None to pad to the maximal input size of the model (e.g. 512 for Bert).\n",
      "  warnings.warn(\n"
     ]
    },
    {
     "name": "stdout",
     "output_type": "stream",
     "text": [
      "Исходное предложение:  Вдруг решетка беззвучно поехала в сторону, и на балконе возникла таинственная фигура, прячущаяся от лунного света, и погрозила Ивану пальцем.\n",
      "Идентификаторы слов: tensor([ 6057, 31163, 25014,  7590,     7,     6,   619,     3,     5,     9,\n",
      "         6730,    13, 10526,   565,   305,  8092,  8504,     3, 25694,  1852,\n",
      "           57,    26,  3933,    99,  2164,     3,     5,    17, 21931,   536,\n",
      "         1759,    18,  5066,     4,     2,     0,     0,     0,     0,     0,\n",
      "            0,     0,     0,     0,     0,     0,     0,     0,     0,     0,\n",
      "            0,     0,     0,     0,     0,     0,     0,     0,     0,     0,\n",
      "            0,     0,     0,     0])\n"
     ]
    }
   ],
   "source": [
    "# Токенизируем все предложения и сопоставляем токены их идентификаторам слов.\n",
    "train_input_ids, train_attention_masks = encode(train_sentences,tokenizer)\n",
    "test_input_ids, test_attention_masks = encode(test_sentences,tokenizer)\n",
    "\n",
    "# Преобразуем списки в тензоры.\n",
    "train_input_ids = torch.cat(train_input_ids, dim=0)\n",
    "train_attention_masks = torch.cat(train_attention_masks, dim=0)\n",
    "train_labels = torch.tensor(train_labels)\n",
    "\n",
    "test_input_ids = torch.cat(test_input_ids, dim=0)\n",
    "test_attention_masks = torch.cat(test_attention_masks, dim=0)\n",
    "test_labels = torch.tensor(test_labels)\n",
    "\n",
    "# Выводим первое предложение как список идентификаторов слов.\n",
    "print('Исходное предложение: ', train_sentences[0])\n",
    "print('Идентификаторы слов:', train_input_ids[0])"
   ]
  },
  {
   "cell_type": "code",
   "execution_count": 11,
   "metadata": {},
   "outputs": [
    {
     "name": "stdout",
     "output_type": "stream",
     "text": [
      "7,082 образцов для обучения\n",
      "  787 образцов для валидации\n"
     ]
    }
   ],
   "source": [
    "# Создаем TensorDataset из тензоров train_input_ids, train_attention_masks и train_labels.\n",
    "dataset = TensorDataset(train_input_ids, train_attention_masks, train_labels)\n",
    "\n",
    "# Создаем разделение данных на обучающую и валидационную выборки в пропорции 90-10.\n",
    "# Вычисляем количество образцов в каждом наборе.\n",
    "train_size = int(0.9 * len(dataset))\n",
    "val_size = len(dataset) - train_size\n",
    "\n",
    "# Делим набор данных, случайным образом выбирая образцы.\n",
    "train_dataset, val_dataset = random_split(dataset, [train_size, val_size])\n",
    "\n",
    "# Выводим информацию о количестве образцов в обучающей и валидационной выборках.\n",
    "print('{:>5,} образцов для обучения'.format(train_size))\n",
    "print('{:>5,} образцов для валидации'.format(val_size))\n",
    "\n",
    "# Создаем TensorDataset для тестовых данных.\n",
    "test_dataset = TensorDataset(test_input_ids, test_attention_masks, test_labels)"
   ]
  },
  {
   "cell_type": "code",
   "execution_count": 12,
   "metadata": {},
   "outputs": [],
   "source": [
    "# DataLoader должен знать размер нашего батча для обучения, поэтому мы указываем его здесь.\n",
    "batch_size = 16\n",
    "\n",
    "# Создаем DataLoaders для наших обучающих и валидационных наборов данных.\n",
    "# Образцы для обучения будем брать в случайном порядке.\n",
    "train_dataloader = DataLoader(\n",
    "            train_dataset,  # Обучающие образцы.\n",
    "            sampler = RandomSampler(train_dataset), # Выбираем батчи случайным образом.\n",
    "            batch_size = batch_size # Обучение с этим размером батча.\n",
    "        )\n",
    "\n",
    "# Для валидации порядок не имеет значения, поэтому мы просто читаем их последовательно.\n",
    "validation_dataloader = DataLoader(\n",
    "            val_dataset, # Валидационные образцы.\n",
    "            sampler = SequentialSampler(val_dataset), # Извлекаем батчи последовательно.\n",
    "            batch_size = batch_size # Оценка с этим размером батча.\n",
    "        )\n",
    "\n",
    "# DataLoader для тестовых данных.\n",
    "test_dataloader = DataLoader(\n",
    "            test_dataset, # Тестовые образцы.\n",
    "            sampler = SequentialSampler(test_dataset), # Извлекаем батчи последовательно.\n",
    "            batch_size = batch_size # Оценка с этим размером батча.\n",
    "        )"
   ]
  },
  {
   "cell_type": "code",
   "execution_count": 13,
   "metadata": {},
   "outputs": [
    {
     "name": "stderr",
     "output_type": "stream",
     "text": [
      "Эпоха 1 (Обучение): 100%|██████████| 443/443 [03:13<00:00,  2.29it/s]\n"
     ]
    },
    {
     "name": "stdout",
     "output_type": "stream",
     "text": [
      "Эпоха 1, Средние потери при обучении: 0.611666705989138\n"
     ]
    },
    {
     "name": "stderr",
     "output_type": "stream",
     "text": [
      "Эпоха 1 (Валидация): 100%|██████████| 50/50 [00:06<00:00,  7.17it/s]\n"
     ]
    },
    {
     "name": "stdout",
     "output_type": "stream",
     "text": [
      "Эпоха 1, Средние потери при валидации: 0.5153628116846085\n"
     ]
    },
    {
     "name": "stderr",
     "output_type": "stream",
     "text": [
      "Эпоха 2 (Обучение): 100%|██████████| 443/443 [03:35<00:00,  2.06it/s]\n"
     ]
    },
    {
     "name": "stdout",
     "output_type": "stream",
     "text": [
      "Эпоха 2, Средние потери при обучении: 0.5866436129498966\n"
     ]
    },
    {
     "name": "stderr",
     "output_type": "stream",
     "text": [
      "Эпоха 2 (Валидация): 100%|██████████| 50/50 [00:07<00:00,  6.89it/s]\n"
     ]
    },
    {
     "name": "stdout",
     "output_type": "stream",
     "text": [
      "Эпоха 2, Средние потери при валидации: 0.5140694439411163\n"
     ]
    },
    {
     "name": "stderr",
     "output_type": "stream",
     "text": [
      "Эпоха 3 (Обучение): 100%|██████████| 443/443 [03:41<00:00,  2.00it/s]\n"
     ]
    },
    {
     "name": "stdout",
     "output_type": "stream",
     "text": [
      "Эпоха 3, Средние потери при обучении: 0.5770175400827054\n"
     ]
    },
    {
     "name": "stderr",
     "output_type": "stream",
     "text": [
      "Эпоха 3 (Валидация): 100%|██████████| 50/50 [00:07<00:00,  6.53it/s]\n"
     ]
    },
    {
     "name": "stdout",
     "output_type": "stream",
     "text": [
      "Эпоха 3, Средние потери при валидации: 0.523694808781147\n"
     ]
    },
    {
     "name": "stderr",
     "output_type": "stream",
     "text": [
      "Эпоха 4 (Обучение): 100%|██████████| 443/443 [03:47<00:00,  1.94it/s]\n"
     ]
    },
    {
     "name": "stdout",
     "output_type": "stream",
     "text": [
      "Эпоха 4, Средние потери при обучении: 0.5739507654988739\n"
     ]
    },
    {
     "name": "stderr",
     "output_type": "stream",
     "text": [
      "Эпоха 4 (Валидация): 100%|██████████| 50/50 [00:07<00:00,  6.49it/s]\n"
     ]
    },
    {
     "name": "stdout",
     "output_type": "stream",
     "text": [
      "Эпоха 4, Средние потери при валидации: 0.5274526831507683\n"
     ]
    },
    {
     "name": "stderr",
     "output_type": "stream",
     "text": [
      "Эпоха 5 (Обучение): 100%|██████████| 443/443 [03:53<00:00,  1.90it/s]\n"
     ]
    },
    {
     "name": "stdout",
     "output_type": "stream",
     "text": [
      "Эпоха 5, Средние потери при обучении: 0.5706363726012056\n"
     ]
    },
    {
     "name": "stderr",
     "output_type": "stream",
     "text": [
      "Эпоха 5 (Валидация): 100%|██████████| 50/50 [00:09<00:00,  5.36it/s]\n"
     ]
    },
    {
     "name": "stdout",
     "output_type": "stream",
     "text": [
      "Эпоха 5, Средние потери при валидации: 0.5276537251472473\n"
     ]
    },
    {
     "name": "stderr",
     "output_type": "stream",
     "text": [
      "Эпоха 6 (Обучение): 100%|██████████| 443/443 [03:47<00:00,  1.94it/s]\n"
     ]
    },
    {
     "name": "stdout",
     "output_type": "stream",
     "text": [
      "Эпоха 6, Средние потери при обучении: 0.5670490543406381\n"
     ]
    },
    {
     "name": "stderr",
     "output_type": "stream",
     "text": [
      "Эпоха 6 (Валидация): 100%|██████████| 50/50 [00:07<00:00,  6.41it/s]\n"
     ]
    },
    {
     "name": "stdout",
     "output_type": "stream",
     "text": [
      "Эпоха 6, Средние потери при валидации: 0.5081007480621338\n"
     ]
    },
    {
     "name": "stderr",
     "output_type": "stream",
     "text": [
      "Эпоха 7 (Обучение): 100%|██████████| 443/443 [03:50<00:00,  1.93it/s]\n"
     ]
    },
    {
     "name": "stdout",
     "output_type": "stream",
     "text": [
      "Эпоха 7, Средние потери при обучении: 0.5657402382276397\n"
     ]
    },
    {
     "name": "stderr",
     "output_type": "stream",
     "text": [
      "Эпоха 7 (Валидация): 100%|██████████| 50/50 [00:07<00:00,  6.32it/s]\n"
     ]
    },
    {
     "name": "stdout",
     "output_type": "stream",
     "text": [
      "Эпоха 7, Средние потери при валидации: 0.5221782553195954\n"
     ]
    },
    {
     "name": "stderr",
     "output_type": "stream",
     "text": [
      "Эпоха 8 (Обучение): 100%|██████████| 443/443 [03:50<00:00,  1.92it/s]\n"
     ]
    },
    {
     "name": "stdout",
     "output_type": "stream",
     "text": [
      "Эпоха 8, Средние потери при обучении: 0.5556388683028469\n"
     ]
    },
    {
     "name": "stderr",
     "output_type": "stream",
     "text": [
      "Эпоха 8 (Валидация): 100%|██████████| 50/50 [00:07<00:00,  6.39it/s]\n"
     ]
    },
    {
     "name": "stdout",
     "output_type": "stream",
     "text": [
      "Эпоха 8, Средние потери при валидации: 0.5094282817840576\n"
     ]
    },
    {
     "name": "stderr",
     "output_type": "stream",
     "text": [
      "Эпоха 9 (Обучение): 100%|██████████| 443/443 [03:50<00:00,  1.92it/s]\n"
     ]
    },
    {
     "name": "stdout",
     "output_type": "stream",
     "text": [
      "Эпоха 9, Средние потери при обучении: 0.5476830199394485\n"
     ]
    },
    {
     "name": "stderr",
     "output_type": "stream",
     "text": [
      "Эпоха 9 (Валидация): 100%|██████████| 50/50 [00:07<00:00,  6.37it/s]\n"
     ]
    },
    {
     "name": "stdout",
     "output_type": "stream",
     "text": [
      "Эпоха 9, Средние потери при валидации: 0.4802269423007965\n"
     ]
    },
    {
     "name": "stderr",
     "output_type": "stream",
     "text": [
      "Эпоха 10 (Обучение): 100%|██████████| 443/443 [03:50<00:00,  1.92it/s]\n"
     ]
    },
    {
     "name": "stdout",
     "output_type": "stream",
     "text": [
      "Эпоха 10, Средние потери при обучении: 0.5428559999433651\n"
     ]
    },
    {
     "name": "stderr",
     "output_type": "stream",
     "text": [
      "Эпоха 10 (Валидация): 100%|██████████| 50/50 [00:07<00:00,  6.37it/s]\n"
     ]
    },
    {
     "name": "stdout",
     "output_type": "stream",
     "text": [
      "Эпоха 10, Средние потери при валидации: 0.5038332122564316\n"
     ]
    },
    {
     "name": "stderr",
     "output_type": "stream",
     "text": [
      "Эпоха 11 (Обучение): 100%|██████████| 443/443 [03:50<00:00,  1.92it/s]\n"
     ]
    },
    {
     "name": "stdout",
     "output_type": "stream",
     "text": [
      "Эпоха 11, Средние потери при обучении: 0.5249400952196014\n"
     ]
    },
    {
     "name": "stderr",
     "output_type": "stream",
     "text": [
      "Эпоха 11 (Валидация): 100%|██████████| 50/50 [00:07<00:00,  6.47it/s]\n"
     ]
    },
    {
     "name": "stdout",
     "output_type": "stream",
     "text": [
      "Эпоха 11, Средние потери при валидации: 0.4922960931062698\n"
     ]
    },
    {
     "name": "stderr",
     "output_type": "stream",
     "text": [
      "Эпоха 12 (Обучение): 100%|██████████| 443/443 [03:45<00:00,  1.96it/s]\n"
     ]
    },
    {
     "name": "stdout",
     "output_type": "stream",
     "text": [
      "Эпоха 12, Средние потери при обучении: 0.5090003427345112\n"
     ]
    },
    {
     "name": "stderr",
     "output_type": "stream",
     "text": [
      "Эпоха 12 (Валидация): 100%|██████████| 50/50 [00:07<00:00,  6.39it/s]\n"
     ]
    },
    {
     "name": "stdout",
     "output_type": "stream",
     "text": [
      "Эпоха 12, Средние потери при валидации: 0.48351979583501814\n"
     ]
    },
    {
     "name": "stderr",
     "output_type": "stream",
     "text": [
      "Эпоха 13 (Обучение): 100%|██████████| 443/443 [03:48<00:00,  1.94it/s]\n"
     ]
    },
    {
     "name": "stdout",
     "output_type": "stream",
     "text": [
      "Эпоха 13, Средние потери при обучении: 0.4857067684422228\n"
     ]
    },
    {
     "name": "stderr",
     "output_type": "stream",
     "text": [
      "Эпоха 13 (Валидация): 100%|██████████| 50/50 [00:07<00:00,  6.43it/s]\n"
     ]
    },
    {
     "name": "stdout",
     "output_type": "stream",
     "text": [
      "Эпоха 13, Средние потери при валидации: 0.5109257110953331\n"
     ]
    },
    {
     "name": "stderr",
     "output_type": "stream",
     "text": [
      "Эпоха 14 (Обучение): 100%|██████████| 443/443 [03:51<00:00,  1.92it/s]\n"
     ]
    },
    {
     "name": "stdout",
     "output_type": "stream",
     "text": [
      "Эпоха 14, Средние потери при обучении: 0.4666337741046942\n"
     ]
    },
    {
     "name": "stderr",
     "output_type": "stream",
     "text": [
      "Эпоха 14 (Валидация): 100%|██████████| 50/50 [00:07<00:00,  6.45it/s]\n"
     ]
    },
    {
     "name": "stdout",
     "output_type": "stream",
     "text": [
      "Эпоха 14, Средние потери при валидации: 0.48466878294944765\n"
     ]
    },
    {
     "name": "stderr",
     "output_type": "stream",
     "text": [
      "Эпоха 15 (Обучение): 100%|██████████| 443/443 [03:51<00:00,  1.92it/s]\n"
     ]
    },
    {
     "name": "stdout",
     "output_type": "stream",
     "text": [
      "Эпоха 15, Средние потери при обучении: 0.43029277349567846\n"
     ]
    },
    {
     "name": "stderr",
     "output_type": "stream",
     "text": [
      "Эпоха 15 (Валидация): 100%|██████████| 50/50 [00:07<00:00,  6.48it/s]\n"
     ]
    },
    {
     "name": "stdout",
     "output_type": "stream",
     "text": [
      "Эпоха 15, Средние потери при валидации: 0.5156189016997814\n"
     ]
    },
    {
     "name": "stderr",
     "output_type": "stream",
     "text": [
      "Эпоха 16 (Обучение): 100%|██████████| 443/443 [03:52<00:00,  1.91it/s]\n"
     ]
    },
    {
     "name": "stdout",
     "output_type": "stream",
     "text": [
      "Эпоха 16, Средние потери при обучении: 0.39148255503204554\n"
     ]
    },
    {
     "name": "stderr",
     "output_type": "stream",
     "text": [
      "Эпоха 16 (Валидация): 100%|██████████| 50/50 [00:07<00:00,  6.40it/s]\n"
     ]
    },
    {
     "name": "stdout",
     "output_type": "stream",
     "text": [
      "Эпоха 16, Средние потери при валидации: 0.510189098417759\n"
     ]
    },
    {
     "name": "stderr",
     "output_type": "stream",
     "text": [
      "Эпоха 17 (Обучение): 100%|██████████| 443/443 [03:51<00:00,  1.92it/s]\n"
     ]
    },
    {
     "name": "stdout",
     "output_type": "stream",
     "text": [
      "Эпоха 17, Средние потери при обучении: 0.33760917146372743\n"
     ]
    },
    {
     "name": "stderr",
     "output_type": "stream",
     "text": [
      "Эпоха 17 (Валидация): 100%|██████████| 50/50 [00:07<00:00,  6.54it/s]\n"
     ]
    },
    {
     "name": "stdout",
     "output_type": "stream",
     "text": [
      "Эпоха 17, Средние потери при валидации: 0.5729537929594517\n"
     ]
    },
    {
     "name": "stderr",
     "output_type": "stream",
     "text": [
      "Эпоха 18 (Обучение): 100%|██████████| 443/443 [03:51<00:00,  1.91it/s]\n"
     ]
    },
    {
     "name": "stdout",
     "output_type": "stream",
     "text": [
      "Эпоха 18, Средние потери при обучении: 0.2737334681334264\n"
     ]
    },
    {
     "name": "stderr",
     "output_type": "stream",
     "text": [
      "Эпоха 18 (Валидация): 100%|██████████| 50/50 [00:07<00:00,  6.36it/s]\n"
     ]
    },
    {
     "name": "stdout",
     "output_type": "stream",
     "text": [
      "Эпоха 18, Средние потери при валидации: 0.6309373715519905\n"
     ]
    },
    {
     "name": "stderr",
     "output_type": "stream",
     "text": [
      "Эпоха 19 (Обучение): 100%|██████████| 443/443 [03:52<00:00,  1.91it/s]\n"
     ]
    },
    {
     "name": "stdout",
     "output_type": "stream",
     "text": [
      "Эпоха 19, Средние потери при обучении: 0.23110330735940832\n"
     ]
    },
    {
     "name": "stderr",
     "output_type": "stream",
     "text": [
      "Эпоха 19 (Валидация): 100%|██████████| 50/50 [00:07<00:00,  6.41it/s]\n"
     ]
    },
    {
     "name": "stdout",
     "output_type": "stream",
     "text": [
      "Эпоха 19, Средние потери при валидации: 0.6381390249729156\n"
     ]
    },
    {
     "name": "stderr",
     "output_type": "stream",
     "text": [
      "Эпоха 20 (Обучение): 100%|██████████| 443/443 [03:51<00:00,  1.91it/s]\n"
     ]
    },
    {
     "name": "stdout",
     "output_type": "stream",
     "text": [
      "Эпоха 20, Средние потери при обучении: 0.17925627971736557\n"
     ]
    },
    {
     "name": "stderr",
     "output_type": "stream",
     "text": [
      "Эпоха 20 (Валидация): 100%|██████████| 50/50 [00:07<00:00,  6.52it/s]\n"
     ]
    },
    {
     "name": "stdout",
     "output_type": "stream",
     "text": [
      "Эпоха 20, Средние потери при валидации: 0.6921372560411692\n"
     ]
    },
    {
     "name": "stderr",
     "output_type": "stream",
     "text": [
      "Тестирование: 100%|██████████| 62/62 [00:09<00:00,  6.48it/s]"
     ]
    },
    {
     "name": "stdout",
     "output_type": "stream",
     "text": [
      "Коэффициент корреляции Мэтьюса на тестовом наборе: 0.37409167529626774\n"
     ]
    },
    {
     "name": "stderr",
     "output_type": "stream",
     "text": [
      "\n"
     ]
    }
   ],
   "source": [
    "epochs = 20\n",
    "for epoch in range(epochs):\n",
    "    # Обучающий цикл\n",
    "    model.train()\n",
    "    total_loss = 0\n",
    "\n",
    "    for batch in tqdm(train_dataloader, desc=f\"Эпоха {epoch+1} (Обучение)\"):\n",
    "        optimizer.zero_grad()\n",
    "        b_input_ids = batch[0].to(device)\n",
    "        b_input_mask = batch[1].to(device)\n",
    "        b_labels = batch[2].to(device)\n",
    "        outputs = model(b_input_ids, labels=b_labels, attention_mask=b_input_mask)\n",
    "        loss = outputs.loss\n",
    "        total_loss += loss.item()\n",
    "\n",
    "        loss.backward()\n",
    "        optimizer.step()\n",
    "\n",
    "    average_loss = total_loss / len(train_dataloader)\n",
    "    print(f\"Эпоха {epoch+1}, Средние потери при обучении: {average_loss}\")\n",
    "\n",
    "    # Валидационный цикл\n",
    "    model.eval()\n",
    "    val_total_loss = 0\n",
    "\n",
    "    with torch.no_grad():\n",
    "        for val_batch in tqdm(validation_dataloader, desc=f\"Эпоха {epoch+1} (Валидация)\"):\n",
    "            b_input_ids = val_batch[0].to(device)\n",
    "            b_input_mask = val_batch[1].to(device)\n",
    "            b_labels = val_batch[2].to(device)\n",
    "\n",
    "            val_outputs = model(b_input_ids, labels=b_labels, attention_mask=b_input_mask)\n",
    "            val_loss = val_outputs.loss\n",
    "            val_total_loss += val_loss.item()\n",
    "\n",
    "    val_average_loss = val_total_loss / len(validation_dataloader)\n",
    "    print(f\"Эпоха {epoch+1}, Средние потери при валидации: {val_average_loss}\")\n",
    "\n",
    "# Тестовый цикл и вычисление MCC (Коэффициент корреляции Мэтьюса)\n",
    "model.eval()\n",
    "all_test_labels = []\n",
    "all_predictions = []\n",
    "\n",
    "with torch.no_grad():\n",
    "    for test_batch in tqdm(test_dataloader, desc=\"Тестирование\"):\n",
    "        b_input_ids = test_batch[0].to(device)\n",
    "        b_input_mask = test_batch[1].to(device)\n",
    "        b_labels = test_batch[2].to(device)\n",
    "\n",
    "        test_outputs = model(b_input_ids, labels=b_labels, attention_mask=b_input_mask)\n",
    "        predictions = torch.argmax(test_outputs.logits, dim=1).cpu().numpy()\n",
    "\n",
    "        all_test_labels.extend(b_labels.cpu().numpy())\n",
    "        all_predictions.extend(predictions)\n",
    "\n",
    "mcc = matthews_corrcoef(all_test_labels, all_predictions)\n",
    "print(f\"Коэффициент корреляции Мэтьюса на тестовом наборе: {mcc}\")\n"
   ]
  }
 ],
 "metadata": {
  "kernelspec": {
   "display_name": "env",
   "language": "python",
   "name": "python3"
  },
  "language_info": {
   "codemirror_mode": {
    "name": "ipython",
    "version": 3
   },
   "file_extension": ".py",
   "mimetype": "text/x-python",
   "name": "python",
   "nbconvert_exporter": "python",
   "pygments_lexer": "ipython3",
   "version": "3.10.12"
  }
 },
 "nbformat": 4,
 "nbformat_minor": 2
}
